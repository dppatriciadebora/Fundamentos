{
  "nbformat": 4,
  "nbformat_minor": 0,
  "metadata": {
    "colab": {
      "provenance": [],
      "collapsed_sections": [
        "vuXipqGmDso-",
        "hnSnm2KeCWk8",
        "Xfgv7hZ0fEOG",
        "V1NpJKU3adKP",
        "rmeLg28m18KS",
        "ij87N7eOCpSg"
      ],
      "authorship_tag": "ABX9TyNbsGtHzxumSvZZgVW4J+PF",
      "include_colab_link": true
    },
    "kernelspec": {
      "name": "python3",
      "display_name": "Python 3"
    },
    "language_info": {
      "name": "python"
    }
  },
  "cells": [
    {
      "cell_type": "markdown",
      "metadata": {
        "id": "view-in-github",
        "colab_type": "text"
      },
      "source": [
        "<a href=\"https://colab.research.google.com/github/dppatriciadebora/Fundamentos/blob/main/Fundamentos_de_Python.ipynb\" target=\"_parent\"><img src=\"https://colab.research.google.com/assets/colab-badge.svg\" alt=\"Open In Colab\"/></a>"
      ]
    },
    {
      "cell_type": "markdown",
      "source": [
        "##**Fundamentos de Python**##\n",
        "\n",
        "Escola: SoulCode Academy\n",
        "\n",
        "Curso: Bootcamp Analista de Dados - Martech - AD2\n",
        "\n",
        "Período: semana 4\n",
        "\n",
        "Professora: Franciane\n",
        "\n",
        "Aluna: Débora"
      ],
      "metadata": {
        "id": "vuXipqGmDso-"
      }
    },
    {
      "cell_type": "markdown",
      "source": [
        "* Lógica de programação: é a estruturação de conceitos e regras que orientam a execução do algoritmo.\n",
        "\n",
        "*  Algoritmo: é a receita, ou seja, os comandos em um passo - a - passo claro e lógico que conduzem as ações para a resolução de um problema ou para atingir um determinado objetivo.\n",
        "\n",
        "*  Programa: é a implementação do algoritmo."
      ],
      "metadata": {
        "id": "xEWkqxA5AOXV"
      }
    },
    {
      "cell_type": "markdown",
      "source": [
        "##**Comentários e tipos básicos de dados**##"
      ],
      "metadata": {
        "id": "hnSnm2KeCWk8"
      }
    },
    {
      "cell_type": "code",
      "source": [
        "print(\"Ola, mundo!\") #usando aspas duplas\n",
        "print('Olá, mundo!') #usando aspas simples"
      ],
      "metadata": {
        "colab": {
          "base_uri": "https://localhost:8080/"
        },
        "id": "kyHWxHYUI7uR",
        "outputId": "61d58412-0694-40f2-af43-67ae306b93b9"
      },
      "execution_count": null,
      "outputs": [
        {
          "output_type": "stream",
          "name": "stdout",
          "text": [
            "Ola, mundo!\n",
            "Olá, mundo!\n"
          ]
        }
      ]
    },
    {
      "cell_type": "code",
      "source": [
        "# Isto é um comentário"
      ],
      "metadata": {
        "id": "GbIcIcBYMJSm"
      },
      "execution_count": null,
      "outputs": []
    },
    {
      "cell_type": "code",
      "source": [
        "'''\n",
        "Isto\n",
        "é\n",
        "um comentário\n",
        "grande\n",
        "'''"
      ],
      "metadata": {
        "colab": {
          "base_uri": "https://localhost:8080/",
          "height": 36
        },
        "id": "_2tRGLymMNtj",
        "outputId": "fcb1b7f2-29e3-409d-bc49-898b663c13e2"
      },
      "execution_count": null,
      "outputs": [
        {
          "output_type": "execute_result",
          "data": {
            "text/plain": [
              "'\\nIsto\\né\\num comentário\\ngrande\\n'"
            ],
            "application/vnd.google.colaboratory.intrinsic+json": {
              "type": "string"
            }
          },
          "metadata": {},
          "execution_count": 3
        }
      ]
    },
    {
      "cell_type": "code",
      "source": [
        "\"\"\"\n",
        "Isto\n",
        "é\n",
        "outro\n",
        "comentário\n",
        "\"\"\""
      ],
      "metadata": {
        "colab": {
          "base_uri": "https://localhost:8080/",
          "height": 36
        },
        "id": "j-FUdpsgMTXS",
        "outputId": "6fb217ab-63b5-4ed7-9f26-dfe0c1247122"
      },
      "execution_count": null,
      "outputs": [
        {
          "output_type": "execute_result",
          "data": {
            "text/plain": [
              "'\\nIsto\\né\\noutro\\ncomentário\\n'"
            ],
            "application/vnd.google.colaboratory.intrinsic+json": {
              "type": "string"
            }
          },
          "metadata": {},
          "execution_count": 4
        }
      ]
    },
    {
      "cell_type": "code",
      "source": [
        "#Isto\n",
        "#é\n",
        "#um\n",
        "#comentário"
      ],
      "metadata": {
        "id": "Si-93oXZNXkA"
      },
      "execution_count": null,
      "outputs": []
    },
    {
      "cell_type": "code",
      "source": [
        "# Tipos de dados"
      ],
      "metadata": {
        "id": "aNS8FplbPCCt"
      },
      "execution_count": null,
      "outputs": []
    },
    {
      "cell_type": "markdown",
      "source": [
        "![IM1.png](data:image/png;base64,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)"
      ],
      "metadata": {
        "id": "zeNYGHwuRnPC"
      }
    },
    {
      "cell_type": "markdown",
      "source": [
        "# Variáveis"
      ],
      "metadata": {
        "id": "Xfgv7hZ0fEOG"
      }
    },
    {
      "cell_type": "code",
      "source": [
        "# ESTAMOS ESCREVENDO NOSSOS DADOS PESSOAIS\n",
        "\n",
        "print (31) # int - quantitativo\n",
        "\n",
        "print (1.63) # float - quantitativo\n",
        "\n",
        "print ('Débora') # str escrita com aspas simples - qualitativo\n",
        "\n",
        "print (\"Patrícia\") #str escrita com aspas duplas - qualitativo\n",
        "\n",
        "print (True) # bool - qualitativa (dummy/binária)"
      ],
      "metadata": {
        "colab": {
          "base_uri": "https://localhost:8080/"
        },
        "id": "TydLsw80U3Ox",
        "outputId": "6b49b4d7-69ba-4e40-bbf1-bde2fd586aea"
      },
      "execution_count": null,
      "outputs": [
        {
          "output_type": "stream",
          "name": "stdout",
          "text": [
            "31\n",
            "1.63\n",
            "Débora\n",
            "Patrícia\n",
            "True\n"
          ]
        }
      ]
    },
    {
      "cell_type": "markdown",
      "source": [
        "# RESUMO\n",
        "\n",
        "*  Os **comentários** são como notas que você deixa para que você ou outra pessoa possa ler e ajudar a documentar o seu código.\n",
        "\n",
        "*  **Comando print**: é uma função de saída utilizada em várias em várias linguagens de programação para exibir mensagens ou valores na tela do computador.\n",
        "\n",
        "* ** \\n**: usado para criar quebra de linha em um texto.\n",
        "\n",
        "*  Tipos de dados no Python mais usados são int, float, str, bool.\n",
        "\n",
        "*  **int e float**: dados quantitativos.\n",
        "\n",
        "* **str e bool:** dados categóricos e qualitativos."
      ],
      "metadata": {
        "id": "V1NpJKU3adKP"
      }
    },
    {
      "cell_type": "code",
      "source": [
        "# Declarando as variáveis\n",
        "idade = 31\n",
        "altura = 1.63\n",
        "nome = 'Débora'\n",
        "sobrenome = \"Patrícia\"\n",
        "filhos = True"
      ],
      "metadata": {
        "id": "S7cQfue8e4mD"
      },
      "execution_count": null,
      "outputs": []
    },
    {
      "cell_type": "code",
      "source": [
        "# Inserir na tela usando o comando print\n",
        "print (idade)\n",
        "print (altura)\n",
        "print (nome)\n",
        "print (sobrenome)\n",
        "print (filhos)"
      ],
      "metadata": {
        "colab": {
          "base_uri": "https://localhost:8080/"
        },
        "id": "PQ4jLtNxioUc",
        "outputId": "50c58434-d250-4d5d-db02-94d199e9f829"
      },
      "execution_count": null,
      "outputs": [
        {
          "output_type": "stream",
          "name": "stdout",
          "text": [
            "31\n",
            "1.63\n",
            "Débora\n",
            "Patrícia\n",
            "True\n"
          ]
        }
      ]
    },
    {
      "cell_type": "code",
      "source": [
        "# Imprimir na tela usando apenas o nome da variável\n",
        "idade\n",
        "altura\n",
        "nome\n",
        "sobrenome\n",
        "filhos"
      ],
      "metadata": {
        "colab": {
          "base_uri": "https://localhost:8080/"
        },
        "id": "QA1oTAi_i_Py",
        "outputId": "064b9a38-5aae-4385-98ad-10310b41b4e6"
      },
      "execution_count": null,
      "outputs": [
        {
          "output_type": "execute_result",
          "data": {
            "text/plain": [
              "True"
            ]
          },
          "metadata": {},
          "execution_count": 10
        }
      ]
    },
    {
      "cell_type": "code",
      "source": [
        "# Impressão geral na tela de todas as variáveis declaradas\n",
        "print (idade, altura, nome, sobrenome, filhos)"
      ],
      "metadata": {
        "colab": {
          "base_uri": "https://localhost:8080/"
        },
        "id": "EQHMB7lYkdHl",
        "outputId": "b376ffe6-07ba-436f-cd1f-1f9f3a568a2f"
      },
      "execution_count": null,
      "outputs": [
        {
          "output_type": "stream",
          "name": "stdout",
          "text": [
            "31 1.63 Débora Patrícia True\n"
          ]
        }
      ]
    },
    {
      "cell_type": "code",
      "source": [
        "# Comando type serve para checarmos o tipo de dado que a variável está declarando\n",
        "type (idade)"
      ],
      "metadata": {
        "colab": {
          "base_uri": "https://localhost:8080/"
        },
        "id": "FJJC0psKkdAJ",
        "outputId": "c35c6b5c-11ac-4fad-d824-30ccc83a2742"
      },
      "execution_count": null,
      "outputs": [
        {
          "output_type": "execute_result",
          "data": {
            "text/plain": [
              "int"
            ]
          },
          "metadata": {},
          "execution_count": 12
        }
      ]
    },
    {
      "cell_type": "code",
      "source": [
        "# Checando o tipo de variável usando os comandos print e type juntos\n",
        "print (type(idade))\n",
        "print (type(altura))\n",
        "print (type(nome))\n",
        "print (type(sobrenome))\n",
        "print (type(filhos))"
      ],
      "metadata": {
        "colab": {
          "base_uri": "https://localhost:8080/"
        },
        "id": "n5yQMTMnmHwC",
        "outputId": "fa8e4723-7fae-4f68-e8a9-9419f254edb9"
      },
      "execution_count": null,
      "outputs": [
        {
          "output_type": "stream",
          "name": "stdout",
          "text": [
            "<class 'int'>\n",
            "<class 'float'>\n",
            "<class 'str'>\n",
            "<class 'str'>\n",
            "<class 'bool'>\n"
          ]
        }
      ]
    },
    {
      "cell_type": "code",
      "source": [
        "# Atenção: o Python é sensível a letras maiusculas e minusculas\n",
        "nome = 'Débora'\n",
        "print (nome)"
      ],
      "metadata": {
        "colab": {
          "base_uri": "https://localhost:8080/"
        },
        "id": "RrbDsIJUnkJw",
        "outputId": "6901f614-ca21-4aa7-b899-74bed6daf3f5"
      },
      "execution_count": null,
      "outputs": [
        {
          "output_type": "stream",
          "name": "stdout",
          "text": [
            "Débora\n"
          ]
        }
      ]
    },
    {
      "cell_type": "code",
      "source": [
        "# Armazenando strings e número\n",
        "nome_completo = 'Débora Patrícia'\n",
        "numero_favorito = '31'\n"
      ],
      "metadata": {
        "id": "YY4QT8G1pyZ7"
      },
      "execution_count": null,
      "outputs": []
    },
    {
      "cell_type": "code",
      "source": [
        "# Checando a variável número favorito\n",
        "print(type(numero_favorito))"
      ],
      "metadata": {
        "colab": {
          "base_uri": "https://localhost:8080/"
        },
        "id": "O8oZO5BQGMHb",
        "outputId": "793929bc-a866-4627-f7cc-dac0eded2d99"
      },
      "execution_count": null,
      "outputs": [
        {
          "output_type": "stream",
          "name": "stdout",
          "text": [
            "<class 'str'>\n"
          ]
        }
      ]
    },
    {
      "cell_type": "code",
      "source": [
        "# Primeiro nome do código\n",
        "nome_completo"
      ],
      "metadata": {
        "colab": {
          "base_uri": "https://localhost:8080/",
          "height": 36
        },
        "id": "HRtvw5zsZ9Q5",
        "outputId": "94454e37-63fb-4f8e-9ac9-79456d09ce66"
      },
      "execution_count": null,
      "outputs": [
        {
          "output_type": "execute_result",
          "data": {
            "text/plain": [
              "'Débora Patrícia'"
            ],
            "application/vnd.google.colaboratory.intrinsic+json": {
              "type": "string"
            }
          },
          "metadata": {},
          "execution_count": 17
        }
      ]
    },
    {
      "cell_type": "code",
      "source": [
        "# Renomeação da variável\n",
        "Nome = 'Cauã'"
      ],
      "metadata": {
        "id": "4kOBBCVEaXMB"
      },
      "execution_count": null,
      "outputs": []
    },
    {
      "cell_type": "code",
      "source": [
        "# atualização da variável \"nome\"\n",
        "# sempre a última alteração será a válida\n",
        "nome"
      ],
      "metadata": {
        "colab": {
          "base_uri": "https://localhost:8080/",
          "height": 36
        },
        "id": "jfFLQDRFeHFI",
        "outputId": "122a16b7-d7d0-467e-ef4d-021d3adf350f"
      },
      "execution_count": null,
      "outputs": [
        {
          "output_type": "execute_result",
          "data": {
            "text/plain": [
              "'Débora'"
            ],
            "application/vnd.google.colaboratory.intrinsic+json": {
              "type": "string"
            }
          },
          "metadata": {},
          "execution_count": 19
        }
      ]
    },
    {
      "cell_type": "markdown",
      "source": [
        "**RESUMO**\n",
        "\n",
        "* ** Variáveis:** permitem salvar valores na memória usando um nome que atribuímos.\n",
        "\n",
        "*  Declaramos um nome no lado esquerdo do operador igual (=), e no lado direito atribuimos o valor que queremos salvar para usar mais tarde.\n",
        "\n",
        "*  **Como ler:** declaramos a variável \"a\" ao valor do \"2\" do tipo int.\n",
        "\n",
        "*  Como ler: declaramos a variável \"b\" ao valor do \"10.953\" do tipo float.\n",
        "\n",
        "*  É possível usar os dois comandos print e type juntos.\n",
        "\n",
        "* ** Atenção:** número pode ser string.\n",
        "\n",
        "**REGRAS PARA NOMES DAS VARIÁVEIS**\n",
        "\n",
        "*  Deve começar com uma letra (maiúscula ou minúscula) ou subscrito (_).\n",
        "\n",
        "*  Nunca pode começar com um número.\n",
        "\n",
        "*  Pode conter letras maiúsculas, minúsculas, números e subscritos.\n",
        "\n",
        "*  Não pode-se utilizar como parte do nome uma variável: { ( + - * / \\ ; . , ?\n",
        "\n",
        "*  Letras maiúsculas e minúsculas são diferentes:\n",
        "casa = 4\n",
        "Casa = 3\n",
        "\n"
      ],
      "metadata": {
        "id": "JiE6JYJ2fjdJ"
      }
    },
    {
      "cell_type": "markdown",
      "source": [
        "# Conversão de variáveis"
      ],
      "metadata": {
        "id": "rmeLg28m18KS"
      }
    },
    {
      "cell_type": "code",
      "source": [
        "# Conversão de int para float\n",
        "\n",
        "num_int = 10\n",
        "num_float = float(num_int)"
      ],
      "metadata": {
        "id": "Sa6dyITF2Bm2"
      },
      "execution_count": null,
      "outputs": []
    },
    {
      "cell_type": "code",
      "source": [
        "# Checando a conversão\n",
        "\n",
        "print(type(num_int), type(num_float))\n",
        "print(num_float)"
      ],
      "metadata": {
        "colab": {
          "base_uri": "https://localhost:8080/"
        },
        "id": "oOl8jG-j48Kv",
        "outputId": "76b981aa-8efe-404f-fd2d-73ef4f7cd057"
      },
      "execution_count": null,
      "outputs": [
        {
          "output_type": "stream",
          "name": "stdout",
          "text": [
            "<class 'int'> <class 'float'>\n",
            "10.0\n"
          ]
        }
      ]
    },
    {
      "cell_type": "code",
      "source": [
        "# Conversão de float para int\n",
        "num_float = 10.5\n",
        "num_int = int(num_float)"
      ],
      "metadata": {
        "id": "fdBwkXMF-y7p"
      },
      "execution_count": null,
      "outputs": []
    },
    {
      "cell_type": "code",
      "source": [
        "# Checando a conversão\n",
        "print(type(num_float), (num_int))\n",
        "print(num_int)"
      ],
      "metadata": {
        "colab": {
          "base_uri": "https://localhost:8080/"
        },
        "id": "7vIwdhp3_K8i",
        "outputId": "d34b6caf-d781-46ff-cd93-ab191a9fa813"
      },
      "execution_count": null,
      "outputs": [
        {
          "output_type": "stream",
          "name": "stdout",
          "text": [
            "<class 'float'> 10\n",
            "10\n"
          ]
        }
      ]
    },
    {
      "cell_type": "code",
      "source": [
        "# Conversão de float para str\n",
        "num_float = 20.5\n",
        "num_str = str (num_float)\n",
        "\n",
        "# Checando\n",
        "print(type(num_float), type(num_str))\n",
        "print(num_str)"
      ],
      "metadata": {
        "colab": {
          "base_uri": "https://localhost:8080/"
        },
        "id": "i4XD__y2_9bH",
        "outputId": "431b6c51-8818-4dab-d2a1-bc60f602fc85"
      },
      "execution_count": null,
      "outputs": [
        {
          "output_type": "stream",
          "name": "stdout",
          "text": [
            "<class 'float'> <class 'str'>\n",
            "20.5\n"
          ]
        }
      ]
    },
    {
      "cell_type": "code",
      "source": [
        "# Conversão de str para int\n",
        "num_str = '33'\n",
        "num_int = int(num_str)\n",
        "\n",
        "# Checando\n",
        "print(type(num_str), type(num_int))\n",
        "print(num_int)"
      ],
      "metadata": {
        "colab": {
          "base_uri": "https://localhost:8080/"
        },
        "id": "-CVdM_IdAAmv",
        "outputId": "cb8dad3b-5be7-4ed9-af89-a9b067225871"
      },
      "execution_count": null,
      "outputs": [
        {
          "output_type": "stream",
          "name": "stdout",
          "text": [
            "<class 'str'> <class 'int'>\n",
            "33\n"
          ]
        }
      ]
    },
    {
      "cell_type": "markdown",
      "source": [
        "##**Operadores Matemáticos**##"
      ],
      "metadata": {
        "id": "JUJRWohlIhdy"
      }
    },
    {
      "cell_type": "markdown",
      "source": [
        "Os operadores matemáticos básicos, tais como, adição, subtração, multiplicação, divisão, exponenciação e radiciação podem ser feitos dentro do Python."
      ],
      "metadata": {
        "id": "bcOyBdkNuK0a"
      }
    },
    {
      "cell_type": "code",
      "source": [
        "# Adição\n",
        "n1 = 5\n",
        "n2 = 7\n",
        "soma = n1 + n2\n",
        "print(soma)\n",
        "print(\"A soma é:\", soma)\n",
        "print(f\"A soma dos números é (soma:.2f)\")\n",
        "print(n1 + n2)\n",
        "n1+n2"
      ],
      "metadata": {
        "colab": {
          "base_uri": "https://localhost:8080/"
        },
        "id": "GFReafiZukRQ",
        "outputId": "7dae9ed4-0373-4ae7-f3b1-5e3b4a855807"
      },
      "execution_count": null,
      "outputs": [
        {
          "output_type": "stream",
          "name": "stdout",
          "text": [
            "12\n",
            "A soma é: 12\n",
            "A soma dos números é (soma:.2f)\n",
            "12\n"
          ]
        },
        {
          "output_type": "execute_result",
          "data": {
            "text/plain": [
              "12"
            ]
          },
          "metadata": {},
          "execution_count": 26
        }
      ]
    },
    {
      "cell_type": "code",
      "source": [
        "# Subtração\n",
        "a1 = 154.587\n",
        "a2 = 18.548\n",
        "sub = a1 = a2\n",
        "\n",
        "# Modos de apresentação\n",
        "print(sub)\n",
        "print(\"A subtração é:\", round(sub,2))\n",
        "print(f\"A subtração dos números é (sub:.2f)\")\n",
        "print(a1 - a2)\n",
        "a1 - a2"
      ],
      "metadata": {
        "colab": {
          "base_uri": "https://localhost:8080/"
        },
        "id": "Zlpde4Ixxi6F",
        "outputId": "712eff1b-f875-4474-b63f-cf6614db12ee"
      },
      "execution_count": null,
      "outputs": [
        {
          "output_type": "stream",
          "name": "stdout",
          "text": [
            "18.548\n",
            "A subtração é: 18.55\n",
            "A subtração dos números é (sub:.2f)\n",
            "0.0\n"
          ]
        },
        {
          "output_type": "execute_result",
          "data": {
            "text/plain": [
              "0.0"
            ]
          },
          "metadata": {},
          "execution_count": 27
        }
      ]
    },
    {
      "cell_type": "code",
      "source": [
        "# Multiplicação\n",
        "b1 = 3.5\n",
        "mult = b1 * 3\n",
        "\n",
        "# Modos de apresentação\n",
        "print(mult)\n",
        "print(\"A multiplicação é:\", round(mult,2))\n",
        "print(f\"A multiplicação dos números é (mult:.2f)\")\n",
        "print(a1 * a2)\n",
        "a1 * a2"
      ],
      "metadata": {
        "colab": {
          "base_uri": "https://localhost:8080/"
        },
        "id": "ODHesHfOxizP",
        "outputId": "052994d5-4f86-4781-838a-67ea72bfdf96"
      },
      "execution_count": null,
      "outputs": [
        {
          "output_type": "stream",
          "name": "stdout",
          "text": [
            "10.5\n",
            "A multiplicação é: 10.5\n",
            "A multiplicação dos números é (mult:.2f)\n",
            "344.02830399999993\n"
          ]
        },
        {
          "output_type": "execute_result",
          "data": {
            "text/plain": [
              "344.02830399999993"
            ]
          },
          "metadata": {},
          "execution_count": 28
        }
      ]
    },
    {
      "cell_type": "code",
      "source": [
        "# Divisão\n",
        "x1 = 10\n",
        "x2 = 5\n",
        "div = x1/x2\n",
        "\n",
        "# Modos de apresentação\n",
        "print(div)\n",
        "print(\"A divisão é:\", round(div,2))\n",
        "print(f\"A divisão dos números é (div:.2f)\")\n",
        "print(a1 / a2)\n",
        "a1 / a2"
      ],
      "metadata": {
        "colab": {
          "base_uri": "https://localhost:8080/"
        },
        "id": "UU9vcsN33UP2",
        "outputId": "4956199e-0caa-4224-c30c-7894afa06e53"
      },
      "execution_count": null,
      "outputs": [
        {
          "output_type": "stream",
          "name": "stdout",
          "text": [
            "2.0\n",
            "A divisão é: 2.0\n",
            "A divisão dos números é (div:.2f)\n",
            "1.0\n"
          ]
        },
        {
          "output_type": "execute_result",
          "data": {
            "text/plain": [
              "1.0"
            ]
          },
          "metadata": {},
          "execution_count": 29
        }
      ]
    },
    {
      "cell_type": "markdown",
      "source": [
        "# Python Básico - Operadores"
      ],
      "metadata": {
        "id": "ij87N7eOCpSg"
      }
    },
    {
      "cell_type": "code",
      "source": [
        "# soma (+) Exemplo: some 3 com 2\n",
        "soma = 3 + 2\n",
        "\n",
        "# subtração (-) Exemplo: Subtraia 2 de 3\n",
        "sub = 3 - 2\n",
        "\n",
        "# multiplicação (*) Exemplo: Multiplique 3 por 2\n",
        "mult = 3 * 2\n",
        "\n",
        "# divisão (/) Exemplo: divida 3 por 2\n",
        "div = 3 / 2\n",
        "\n",
        "# parte inteira da divisão (//) Exemplo: encontre e guarde a parte inteira da divisão de 3 por 2\n",
        "idiv = 3 // 2\n",
        "\n",
        "# resto da divisão (%) Exemplo: encontre e guarde o resto da divisão de 3 por 2\n",
        "rdiv = 3 % 2\n",
        "\n",
        "# potenciação (**) Exemplo: eleve 3 a 2\n",
        "pot = 3 ** 2\n",
        "\n",
        "print(soma)\n",
        "print(sub)\n",
        "print(mult)\n",
        "print(div)\n",
        "print(idiv)\n",
        "print(rdiv)\n",
        "print(pot)"
      ],
      "metadata": {
        "colab": {
          "base_uri": "https://localhost:8080/"
        },
        "id": "BgM6556DC2DK",
        "outputId": "0d43360a-afb6-4a82-a8e9-143b73e94fc8"
      },
      "execution_count": null,
      "outputs": [
        {
          "output_type": "stream",
          "name": "stdout",
          "text": [
            "5\n",
            "1\n",
            "6\n",
            "1.5\n",
            "1\n",
            "1\n",
            "9\n"
          ]
        }
      ]
    },
    {
      "cell_type": "code",
      "source": [
        "# Melhorando a visualização dos prints f-string\n",
        "\n",
        "'''Quando houver necessidade de combinar no mesmo print texto e valores\n",
        "de variáveis o f-string é uma excelente alternativa'''\n",
        "\n",
        "print(f'O resultado da soma de 3 com 2 é: {soma} ')\n",
        "print(f'O resultado da subtração de 3 com 2 é: {sub} ')\n",
        "print(f'O resultado da multiplicação de 3 por 2 é: {mult} ')\n",
        "print(f'O resultado da divisão de 3 por 2 é: {div} ')\n",
        "print(f'A parte inteira da divisão de 3 por 2 é: {idiv} ')\n",
        "print(f'O resto da divisão de 3 por 2 é: {rdiv} ')\n",
        "print(f'O resultado da potenciação de 3 elevado 2 é: {pot} ')"
      ],
      "metadata": {
        "colab": {
          "base_uri": "https://localhost:8080/"
        },
        "id": "j_GolPrwIqfQ",
        "outputId": "608e7a99-1ace-41f7-a6e6-4e7aa38b9d1b"
      },
      "execution_count": null,
      "outputs": [
        {
          "output_type": "stream",
          "name": "stdout",
          "text": [
            "O resultado da soma de 3 com 2 é: 5 \n",
            "O resultado da subtração de 3 com 2 é: 1 \n",
            "O resultado da multiplicação de 3 por 2 é: 6 \n",
            "O resultado da divisão de 3 por 2 é: 1.5 \n",
            "A parte inteira da divisão de 3 por 2 é: 1 \n",
            "O resto da divisão de 3 por 2 é: 1 \n",
            "O resultado da potenciação de 3 elevado 2 é: 9 \n"
          ]
        }
      ]
    },
    {
      "cell_type": "markdown",
      "source": [
        "Operadores de comparação (booleanos)"
      ],
      "metadata": {
        "id": "cV8FNsYsJcpK"
      }
    },
    {
      "cell_type": "code",
      "source": [
        "# (==) verifica se dois valores são iguais (retorna True ou False)\n",
        "# Exemplo compare se 3 é igual a 3.0\n",
        "a = 3 # atribuição do valor 3 (tipo int) para a variável a\n",
        "b = 3.0 # atribuição do valor 3.0 (tipo float) para a variável b\n",
        "teste1 = a == b # Fazendo o teste de igualdade de a com b e guradando na variável teste 1\n",
        "print(teste1) # imprimindo o valor da variável teste1\n",
        "teste2 = 'douglas' == 'Douglas' # comparando duas strings com uma pequena diferença entre elas\n",
        "print(teste2) # imprimindo o valor da variável teste2\n",
        "\n",
        "# (!=) verifica se dois valores são diferentes (retorna True ou False)\n",
        "# Exemplo: compare se 3 (variável a) é diferente a 3.0 (variável b)\n",
        "teste3 = a != b\n",
        "print(teste3)\n",
        "\n",
        "# (>) verifica se um valor é maior que o outro (retorna True ou False)\n",
        "# Exemplo: compare se 3 é maior que 2\n",
        "teste4 = 3 > 2\n",
        "print(teste4)\n",
        "\n",
        "# (>=) verifica se um valor é maior ou igual ao outro(Retorna True ou False)\n",
        "#Exemplo: compare se 3 é maior ou igual a 3\n",
        "teste5 = 3 >= 3\n",
        "print(teste5)\n",
        "\n",
        "# (<) verifica se um número é menor que outro (retorna True ou false)\n",
        "# Exemplo: compare se 2 é menor que 2\n",
        "teste6 = 2 < 2\n",
        "print(teste6)\n",
        "\n",
        "# (<=) verifica se um valor é menor ou igual ao outro (retorna True ou False)\n",
        "# Exemplo: compare se 2 é menor ou igual a 2\n",
        "teste7 = 2 <= 2\n",
        "print(teste7)"
      ],
      "metadata": {
        "colab": {
          "base_uri": "https://localhost:8080/"
        },
        "id": "dKeVOdX_JmkF",
        "outputId": "216a30d8-f2e0-4ab0-8777-fea81ed56c69"
      },
      "execution_count": null,
      "outputs": [
        {
          "output_type": "stream",
          "name": "stdout",
          "text": [
            "True\n",
            "False\n",
            "False\n",
            "True\n",
            "True\n",
            "False\n",
            "True\n"
          ]
        }
      ]
    },
    {
      "cell_type": "markdown",
      "source": [
        "Operadores de atribuição"
      ],
      "metadata": {
        "id": "UZavEt6GJyBI"
      }
    },
    {
      "cell_type": "code",
      "source": [
        "# Atribuição direta (=) atribui ao lado esquerdo do sinal um valor que está ao lado direito do sinal\n",
        "nome = 'douglas'\n",
        "peso_kg = 78\n",
        "altura_m = 1.85\n",
        "\n",
        "# Atribuição de soma (+=), equivale a x = x + y (equivale a uma variável x que já existe recebendo ela mesma + outro valor)\n",
        "# Exemplo: crie uma variável t que receba o número inteiro 3, e depois some 1 para essa variável\n",
        "t = 3\n",
        "t += 1\n",
        "print(f'O resultado de t + 1 é: {t}')\n",
        "\n",
        "# Atribuição de subtração (-=) equivale a x = x - y (equivale a uma variável x que já existe recebendo ela mesma - outro valor)\n",
        "# Exemplo: crie uma variável z que receba o número inteiro 5, e depois diminua 2 para essa variável\n",
        "z = 5\n",
        "z -= 2\n",
        "print(f'O resultado de z - 2 é: {z}')\n",
        "\n",
        "# atribuição de multiplicação (*=) equivale a x = x * y\n",
        "# Exemplo: crie uma variável j que receba o número 5, e depois multplique por 2\n",
        "j = 5\n",
        "j *= 2\n",
        "print(f'O resultado de j * 2 é: {j}')\n",
        "\n",
        "# atribuição de divisão (/=) equivale a x = x / y\n",
        "# exemplo: crie uma variável w que recebe o número 7, e depois divida por 2\n",
        "w = 7\n",
        "w /= 2\n",
        "print(f'O resultado de w / 2 é: {w}')\n",
        "\n",
        "# atribuição da parte inteira da divisão (//=) equivale a x = x // y\n",
        "# Exemplo: crie uma variável k que recebe o número 7, e depois receba a parte inteira da divisão por 2\n",
        "k = 7\n",
        "k //= 2\n",
        "print(f'O resultado de k // 2 é: {k}')\n",
        "\n",
        "# atribuição do resto da divisão (%=) equivale a x = x % y\n",
        "# exemplo: crie uma variável b que receba o número 7, e depois receba o resto da divisão dela por 2\n",
        "b = 7\n",
        "b %= 2\n",
        "print(f'O resto  da divisão de b por 2 é: {b}')\n",
        "\n",
        "# atribuição de potenciação (**=) equivale a x = x ** y\n",
        "# Exemplo crie uma variável casamento que receba o valor 6 e depois receba o quadrado dela\n",
        "casamento = 6\n",
        "casamento **= 2\n",
        "print(f'O professor douglas casará: {casamento} vezes nesta vida')"
      ],
      "metadata": {
        "colab": {
          "base_uri": "https://localhost:8080/"
        },
        "id": "Pg1ywocZJ630",
        "outputId": "4e491a67-a0a3-4010-be58-3bd198a23066"
      },
      "execution_count": null,
      "outputs": [
        {
          "output_type": "stream",
          "name": "stdout",
          "text": [
            "O resultado de t + 1 é: 4\n",
            "O resultado de z - 2 é: 3\n",
            "O resultado de j * 2 é: 10\n",
            "O resultado de w / 2 é: 3.5\n",
            "O resultado de k // 2 é: 3\n",
            "O resto  da divisão de b por 2 é: 1\n",
            "O professor douglas casará: 36 vezes nesta vida\n"
          ]
        }
      ]
    },
    {
      "cell_type": "markdown",
      "source": [
        "Operadores lógicos"
      ],
      "metadata": {
        "id": "g9i0NywkKCy6"
      }
    },
    {
      "cell_type": "code",
      "source": [
        "# (and) Retorna verdadeiro somente se todas as condições de uma comparação forem satisfeitas\n",
        "# Exemplo:\n",
        "teste8 = 3 >= 2 and 3 != 2 and 3 < 4\n",
        "print(f'3 >= 2 and 3 != 2 and 3 < 4 é: {teste8}')\n",
        "# (&) Retorna verdadeiro somente se todas as condições de uma comparação forem satisfeitas\n",
        "# Exemplo:\n",
        "teste9 = (3 <= 2) & (3 != 2) & (3 < 4) #bitwise\n",
        "#           F           V         V\n",
        "print(f'(3 <= 2) & (3 != 2) & (3 < 4) é: {teste9}')\n",
        "\n",
        "# (or) Retorna verdadeiro se pelo menos um dos elementos for verdadeiro\n",
        "# Exemplo:\n",
        "teste10 = 3 >= 2 or 3 == 2 or 3 > 4\n",
        "teste15 = (3 >= 2) | (3 == 2) | (3 > 4)\n",
        "print(f'3 >= 2 or 3 == 2 or 3 > 43 >= 2 or 3 == 2 or 3 > 4 é: {teste10}')\n",
        "\n",
        "# (not) Inverte verdadeiro com Falso\n",
        "# Exemplo:\n",
        "teste11 = not(teste10)\n",
        "print(f'not(3 >= 2 or 3 == 2 or 3 > 4) é: {teste11}')\n",
        "teste12 = not(teste9)\n",
        "print(f'not((3 <= 2) & (3 != 2) & (3 < 4)) é: {teste12}')\n",
        "teste13 = ((not(3 <= 2))) & (not(3 == 2)) & (3 < 4) # invertendo o resultado da primeira sentença e da segunda sentença\n",
        "#               V                 V            V\n",
        "print(f'((not(3 <= 2))) & (not(3 == 2)) & (3 < 4) é: {teste13}')\n",
        "teste14 = not((3 >= 2) & (3 != 2) & (3 < 4)) # invertendo o resultado da comparação de todas as sentenças\n",
        "#                 V         V           V\n",
        "print(f'not((3 >= 2) & (3 != 2) & (3 < 4)) é: {teste14}')\n",
        "print(teste15)"
      ],
      "metadata": {
        "colab": {
          "base_uri": "https://localhost:8080/"
        },
        "id": "-GK0taXYKKsQ",
        "outputId": "29a78acf-560e-4161-b227-88e725641803"
      },
      "execution_count": null,
      "outputs": [
        {
          "output_type": "stream",
          "name": "stdout",
          "text": [
            "3 >= 2 and 3 != 2 and 3 < 4 é: True\n",
            "(3 <= 2) & (3 != 2) & (3 < 4) é: False\n",
            "3 >= 2 or 3 == 2 or 3 > 43 >= 2 or 3 == 2 or 3 > 4 é: True\n",
            "not(3 >= 2 or 3 == 2 or 3 > 4) é: False\n",
            "not((3 <= 2) & (3 != 2) & (3 < 4)) é: True\n",
            "((not(3 <= 2))) & (not(3 == 2)) & (3 < 4) é: True\n",
            "not((3 >= 2) & (3 != 2) & (3 < 4)) é: False\n",
            "True\n"
          ]
        }
      ]
    },
    {
      "cell_type": "markdown",
      "source": [
        "Operadores de identidade (is, is not)"
      ],
      "metadata": {
        "id": "v2MDbsPLLBxu"
      }
    },
    {
      "cell_type": "code",
      "source": [
        "# (is) compara se um objeto é igual ao outro em relação ao valor e o tipo\n",
        "h = 3\n",
        "p = 3\n",
        "teste16 = p == h\n",
        "print(f'p == h é: {teste16}')\n",
        "teste17 = p is h\n",
        "print(f'p is h é: {teste17}')\n",
        "m = 3\n",
        "n = 3.0\n",
        "teste18 = m == n\n",
        "print(f'm == n é: {teste18}')\n",
        "teste19 = m is n\n",
        "print(f'm is n é: {teste19}')\n",
        "print(type(m))\n",
        "print(type(n))\n",
        "\n",
        "# (is not) compara se um objeto é diferente do outro em relação ao valor e o tipo\n",
        "x = 3\n",
        "y = 4\n",
        "teste20 = x != y\n",
        "print(f'x != y é: {teste20}')\n",
        "teste21 = x is not y\n",
        "print(f'x is not y é: {teste21}')\n",
        "o = 3\n",
        "s = 3.0\n",
        "teste22 = o != s\n",
        "print(f'o != s é: {teste22}')\n",
        "teste23 = o is not s\n",
        "print(f'o is not s é: {teste23}')\n",
        "print(type(o))\n",
        "print(type(s))"
      ],
      "metadata": {
        "colab": {
          "base_uri": "https://localhost:8080/"
        },
        "id": "4FNF9zgULKRc",
        "outputId": "020aa055-f59a-47c6-de7e-9a5fc77951c5"
      },
      "execution_count": null,
      "outputs": [
        {
          "output_type": "stream",
          "name": "stdout",
          "text": [
            "p == h é: True\n",
            "p is h é: True\n",
            "m == n é: True\n",
            "m is n é: False\n",
            "<class 'int'>\n",
            "<class 'float'>\n",
            "x != y é: True\n",
            "x is not y é: True\n",
            "o != s é: False\n",
            "o is not s é: True\n",
            "<class 'int'>\n",
            "<class 'float'>\n"
          ]
        }
      ]
    },
    {
      "cell_type": "markdown",
      "source": [
        "Operadores de associação"
      ],
      "metadata": {
        "id": "8Na3CpkELUuM"
      }
    },
    {
      "cell_type": "code",
      "source": [
        "# (in) Retorna verdadeiro se um caracter ou sequencia de caracteres for encontrado dentro de uma string\n",
        "# Exemplo:\n",
        "nome = 'daniela'\n",
        "teste24 = 'dani' in nome\n",
        "print(f'daniela contém dani: {teste24}')\n",
        "# (not in) Retorna verdadeiro se um caracter ou sequencia de caracteres NÃO for encontrado dentro de uma string\n",
        "teste25 = 'Dani' not in nome\n",
        "print(f'daniela não contém Dani: {teste25}')"
      ],
      "metadata": {
        "colab": {
          "base_uri": "https://localhost:8080/"
        },
        "id": "jgeX9ZhHLa0T",
        "outputId": "a67650fa-a259-415c-dfdf-77d74bf4f09d"
      },
      "execution_count": null,
      "outputs": [
        {
          "output_type": "stream",
          "name": "stdout",
          "text": [
            "daniela contém dani: True\n",
            "daniela não contém Dani: True\n"
          ]
        }
      ]
    },
    {
      "cell_type": "markdown",
      "source": [
        "Coletando informações do usuário"
      ],
      "metadata": {
        "id": "IjLN9vfkL5JF"
      }
    },
    {
      "cell_type": "code",
      "source": [
        "nome = input('Informe seu nome ')\n",
        "print(f'O nome digitado é: {nome}')\n",
        "peso = int(input('Informe seu peso em kg inteiros '))\n",
        "print(f'{nome} tem : {peso}kg')\n",
        "altura = float(input('Informe sua altura em metros '))\n",
        "print(f'{nome} tem {peso} kg e {altura} metros de altura')\n",
        "imc = peso / altura**2\n",
        "print(f'{nome}, seu imc é: {imc:.1f}')"
      ],
      "metadata": {
        "id": "ljzsjTgDMDjL"
      },
      "execution_count": null,
      "outputs": []
    },
    {
      "cell_type": "markdown",
      "source": [
        "# **Python Básico - Strings**##"
      ],
      "metadata": {
        "id": "eK0sxzJkMPZY"
      }
    },
    {
      "cell_type": "code",
      "source": [
        "# 0    1   2   3   4   5  6  7  8  9 10 11 12 13 (índice)\n",
        "# -14 -13 -12 -11 -10 -9 -8 -7 -6 -5 -4 -3 -2 -1 (índice reverso)\n",
        "# 1º 2º 3º 4º 5º 6º 7º 8º 9º 10º 11º 12º 13º 14º (ordinal)\n",
        "# d  o  u  g  @  g  m  a  i   l   .   c   o   m\n",
        "email = 'doug@gmail.com'\n",
        "# encontrando um caracter pelo índice\n",
        "# Exemplo: qual é o quinto caracter dessa string?\n",
        "print(f'O quinto caracter dessa string é: {email[4]}')\n",
        "# Exemplo: qual é o último caracter dessa string?\n",
        "print(f'O último caracter dessa string é: {email[13]}')\n",
        "# Exemplo: Quais são os caracteres que vem depois do 2º caracter (excluindo o 2º)\n",
        "print(f'A sequência caracteres dessa string após o segundo é: {email[2:]}')\n",
        "# Exemplo: Quais são todos os caracteres dessa string?\n",
        "print(f'A sequência todos os caracteres dessa string é: {email[:]}')\n",
        "# Exemplo: buscar e imprimir todos os caracteres até o caracter de índice 4 (todos os caracteres antes do @ até o @ incluindo o @)\n",
        "print(f'A sequência caracteres dessa string até o índice 4 é: {email[:5]}')\n",
        "# Exemplo como acessar o último caracter da lista sem contar o tamaho dela (sem usar a função len())?\n",
        "print(f'O último caracter dessa string é: {email[-1]}')"
      ],
      "metadata": {
        "id": "otCtWB2KM_cO"
      },
      "execution_count": null,
      "outputs": []
    },
    {
      "cell_type": "markdown",
      "source": [
        "Métodos para Strings"
      ],
      "metadata": {
        "id": "Oysbf6-aNh0S"
      }
    },
    {
      "cell_type": "code",
      "source": [
        "# Sinal de (+) para concatenar strings\n",
        "nome = 'Douglas'\n",
        "sobre = 'Ribeiro'\n",
        "print(nome +\" \"+ sobre)\n",
        "# Converter um número em string\n",
        "cpf = 12345678910\n",
        "cpf = str(cpf)\n",
        "print(type(cpf))\n",
        "# (in) Retorna verdadeiro se um caracter ou sequencia de caracteres for encontrado dentro de uma string\n",
        "# Exemplo:\n",
        "nomen = 'daniela'\n",
        "testen = 'dani' in nomen\n",
        "print(f'daniela contém dani: {testen}')\n",
        "# (not in) Retorna verdadeiro se um caracter ou sequencia de caracteres NÃO for encontrado dentro de uma string\n",
        "testen = 'Dani' not in nomen\n",
        "print(f'daniela não contém Dani: {testen}')\n",
        "# (len)Contar o número de caracteres de uma string\n",
        "qtde = len(nome)\n",
        "print(f'{nome} tem {qtde} caracteres')"
      ],
      "metadata": {
        "id": "FGbJSR-ANmmu"
      },
      "execution_count": null,
      "outputs": []
    },
    {
      "cell_type": "markdown",
      "source": [
        "Métodos específicos para strings"
      ],
      "metadata": {
        "id": "JeNq_V4eNuyD"
      }
    },
    {
      "cell_type": "code",
      "source": [
        "# Método para deixar a primeira letra de uma string maiúscula\n",
        "nomem = 'douglas'\n",
        "print(nomem)\n",
        "nomem = nomem.capitalize()\n",
        "print(nomem)\n",
        "nomem = nomem.casefold()\n",
        "print(nomem)"
      ],
      "metadata": {
        "id": "8vIXnNtbNzQe"
      },
      "execution_count": null,
      "outputs": []
    },
    {
      "cell_type": "code",
      "source": [
        "# (count) Contar quantas vezes um caracter aparece em uma string\n",
        "material = 'paralelepípedo'\n",
        "qtde_p = material.count('p')\n",
        "print(f'{material} tem {qtde_p} Ps')"
      ],
      "metadata": {
        "id": "QNJ3wVVCN5s-"
      },
      "execution_count": null,
      "outputs": []
    },
    {
      "cell_type": "code",
      "source": [
        "# (endswith) Verifica se uma string termina com um caracter ou sequencia de caracteres\n",
        "email = 'doug@gmail.com'\n",
        "teste_end = email.endswith('gmail.com')\n",
        "print(teste_end)"
      ],
      "metadata": {
        "id": "BvvCIlV4OtFN"
      },
      "execution_count": null,
      "outputs": []
    },
    {
      "cell_type": "code",
      "source": [
        "# (startswith) Verifica se uma string começa com um caracter ou sequencia de caracteres\n",
        "email = 'doug@gmail.com'\n",
        "teste_beg = email.startswith('d')\n",
        "print(teste_beg)"
      ],
      "metadata": {
        "id": "ItVkyrE0Oxrf"
      },
      "execution_count": null,
      "outputs": []
    },
    {
      "cell_type": "code",
      "source": [
        "# (isnumeric) Verifica se uma string é formada por números\n",
        "rg = '123456789'\n",
        "teste_rg = rg.isnumeric()\n",
        "print(teste_rg)"
      ],
      "metadata": {
        "id": "J91r8xppO2IZ"
      },
      "execution_count": null,
      "outputs": []
    },
    {
      "cell_type": "code",
      "source": [
        "# (isalpha) Verifica se uma string é formada por letras\n",
        "rg2 = 'doug'\n",
        "teste_rg2 = rg2.isalpha()\n",
        "print(teste_rg2)"
      ],
      "metadata": {
        "id": "_P--wvy_O8Xd"
      },
      "execution_count": null,
      "outputs": []
    },
    {
      "cell_type": "code",
      "source": [
        "# (isalnum) Verifica se uma string é formada por letras ou números\n",
        "rg3 = 'D'\n",
        "teste_rg3 = rg3.isalnum()\n",
        "print(teste_rg3)"
      ],
      "metadata": {
        "id": "0KsXRJJHPAYB"
      },
      "execution_count": null,
      "outputs": []
    },
    {
      "cell_type": "code",
      "source": [
        "# (split) Separa uma string por caracteres específicos, se não for específicado o caracter ela assume espaço como separador\n",
        "dados = input('informe os valores separados por espaços ')\n",
        "dados_sep = dados.split()\n",
        "print(dados_sep)"
      ],
      "metadata": {
        "id": "fSfdVFtnPEtq"
      },
      "execution_count": null,
      "outputs": []
    },
    {
      "cell_type": "code",
      "source": [
        "# (strip) elimina caracteres indesejados de uma string, por padrão remove espaços do início e do final da string\n",
        "autor = ' Douglas '\n",
        "print(len(autor))\n",
        "autor = autor.strip()\n",
        "print(len(autor))"
      ],
      "metadata": {
        "id": "Jee0pNbnPImE"
      },
      "execution_count": null,
      "outputs": []
    },
    {
      "cell_type": "code",
      "source": [
        "# (replace) substitui um caracter por outro\n",
        "preco = 'R$ 10.50'\n",
        "print(preco)\n",
        "preco = preco.replace('.',',')\n",
        "print(preco)"
      ],
      "metadata": {
        "id": "1TKOSce0PPBf"
      },
      "execution_count": null,
      "outputs": []
    },
    {
      "cell_type": "code",
      "source": [
        "# (title) Coloca a primeira letra de cada palavra em maiúscula\n",
        "comp = 'douglas almeida ribeiro'\n",
        "print(comp)\n",
        "comp = comp.title()\n",
        "print(comp)"
      ],
      "metadata": {
        "id": "ujvUeyQdPTGs",
        "outputId": "5dc99dc6-42ec-4799-8e58-1da19cbbb9a7",
        "colab": {
          "base_uri": "https://localhost:8080/"
        }
      },
      "execution_count": null,
      "outputs": [
        {
          "output_type": "stream",
          "name": "stdout",
          "text": [
            "douglas almeida ribeiro\n",
            "Douglas Almeida Ribeiro\n"
          ]
        }
      ]
    },
    {
      "cell_type": "code",
      "source": [
        "# (upper) Coloca todas as letras de um texto em maiúsculas\n",
        "prof = 'douglas'\n",
        "print(prof)\n",
        "prof = prof.upper()\n",
        "print(prof)"
      ],
      "metadata": {
        "id": "4DL2gezcPYkD",
        "outputId": "592ae3ef-88a7-4c93-d886-adb066fce2f8",
        "colab": {
          "base_uri": "https://localhost:8080/"
        }
      },
      "execution_count": null,
      "outputs": [
        {
          "output_type": "stream",
          "name": "stdout",
          "text": [
            "douglas\n",
            "DOUGLAS\n"
          ]
        }
      ]
    },
    {
      "cell_type": "markdown",
      "source": [
        "##**Python Básico - Funções**##"
      ],
      "metadata": {
        "id": "y_unbNy5rKW3"
      }
    },
    {
      "cell_type": "code",
      "source": [
        "'''\n",
        "def nomedafuncao (argumento 1, argumento 2,..., argumento n)\n",
        " bloco de código ou bloco de instruções\n",
        " return \"valor\"\n",
        "'''"
      ],
      "metadata": {
        "id": "WUR1RMtfrU-A"
      },
      "execution_count": null,
      "outputs": []
    },
    {
      "cell_type": "code",
      "source": [
        "# Exemplo de função sem argumento e sem bloco de código\n",
        "def teste ():\n",
        "  return print (\"Bom dia!\")"
      ],
      "metadata": {
        "id": "BwJ_DGOKsfyp"
      },
      "execution_count": null,
      "outputs": []
    },
    {
      "cell_type": "code",
      "source": [
        "# Chamando a função teste criada no bloco anterior\n",
        "teste ()\n"
      ],
      "metadata": {
        "id": "AZcUnt8Isfps"
      },
      "execution_count": null,
      "outputs": []
    },
    {
      "cell_type": "code",
      "source": [
        "# Exemplo de função com argumento e com bloco de código\n",
        "# Crie uma função que receba dois argumentos (x,y) e faça o calculo de x**y\n",
        "def casamento (x,y):\n",
        "  vezes = x ** y\n",
        "  return print (f'O professor Douglas casará {vezes} nessa vida')"
      ],
      "metadata": {
        "id": "spaemhgOuL79"
      },
      "execution_count": null,
      "outputs": []
    },
    {
      "cell_type": "code",
      "source": [
        "# Chamando a função utilizando a ordem padrão dos argumentos\n",
        "casamento (2, 3)"
      ],
      "metadata": {
        "id": "qXd7_as4vaWQ"
      },
      "execution_count": null,
      "outputs": []
    },
    {
      "cell_type": "code",
      "source": [
        "# Chamando a função invertendo a ordem padrão dos argumentos sem aviso prévio (vai mudar o resultado anterior)\n",
        "casamento (3, 2)"
      ],
      "metadata": {
        "id": "0viYnYmbv57Z"
      },
      "execution_count": null,
      "outputs": []
    },
    {
      "cell_type": "code",
      "source": [
        "# Para inverter a ordem padrão dos argumentos é necessário explicitar os valores dos argumentos\n",
        "casamento (y=3, x=2)"
      ],
      "metadata": {
        "id": "EwuNWD3zv5wJ"
      },
      "execution_count": null,
      "outputs": []
    },
    {
      "cell_type": "code",
      "source": [
        "# Também é possível ser redundante e respeitar a ordem padrão dos argumentos e explicitar os seus valores\n",
        "casamento(x=2, y=3)"
      ],
      "metadata": {
        "id": "mLNNqxnC2O53"
      },
      "execution_count": null,
      "outputs": []
    },
    {
      "cell_type": "code",
      "source": [
        "'''\n",
        "Elabore uma função que receba do usuário os valores de preço de venda (p),\n",
        "custo variável (cv), custo fixo (cf) e calcule o valor do ponto de equlíbrio\n",
        "em quantidade e informe o usuário.\n",
        "'''\n",
        "\n",
        "def peq ():\n",
        "  p = float(input('Informe o valor do preço unitário de venda em R$: '))\n",
        "  cv = float(input('Informe o valor do custo variável unitário em R$: '))\n",
        "  cf = float(input('Informe o valor do custo fixo mensal em R$: '))\n",
        "  qt = cf/(p - cv)\n",
        "  return print(f'A partir de aproximadamente {qt:.0f} unidades você terá lucro')"
      ],
      "metadata": {
        "id": "9M8aTkGy3NXP"
      },
      "execution_count": null,
      "outputs": []
    },
    {
      "cell_type": "code",
      "source": [
        "peq()"
      ],
      "metadata": {
        "id": "aoO1JsXg5_7t"
      },
      "execution_count": null,
      "outputs": []
    },
    {
      "cell_type": "markdown",
      "source": [
        "##**EXERCÍCIOS**##"
      ],
      "metadata": {
        "id": "tH3hN0mk6RqG"
      }
    },
    {
      "cell_type": "code",
      "source": [
        "'''\n",
        "Elabore uma função que receba em seis inputs diferentes as seguintes informações:\n",
        "1 - Receita líquida em R$\n",
        "2 - Custo em R$\n",
        "3 - Estoques em R$\n",
        "4 - Contas a receber em R$\n",
        "5 - Fornecedores em R$\n",
        "6 - o número de dias em balanço (int)\n",
        "\n",
        "Após receber as informações acima a função deve calcular o valor e printá-lo dos\n",
        "seguintes KPIs:\n",
        "\n",
        "a Prazo médio de estoques - PME\n",
        "b Prazo médio de Recebimento - PMR\n",
        "c Prazo médio de Pagamento PMP\n",
        "d Ciclo operacional - CO\n",
        "e Ciclo de caixa\n",
        "\n",
        "E por último:\n",
        "Se PMP for maior que ciclo operacional print a mensagem essa em média empresa\n",
        "paga tantos dias depois de receber\n",
        "\n",
        "Se PMP for menor que ciclo operacional print a mensagem essa em média empresa\n",
        "paga tantos dias antes de receber\n",
        "\n",
        "Se PMP for igual ao ciclo operacional print a mensagem essa em média empresa\n",
        "no mesmo dia em que recebe\n",
        "\n",
        "'''\n",
        "def giro ():\n",
        "  receita = float(input('Informe a receita líquida em R$: '))\n",
        "  custo = float(input('Informe o custo em R$: '))\n",
        "  estoques = float(input('Informe o estoque em R$: '))\n",
        "  ctas = float(input('Informe as contas a receber em R$: '))\n",
        "  forne = float(input('Informe os fornecedores em R$: '))\n",
        "  n = int(input('Informe o período do balanço em dias inteiros: '))\n",
        "  pme = (estoques/custo)*n\n",
        "  pmr = (ctas/receita)*n\n",
        "  pmp = (forne/custo)*n\n",
        "  co = pme + pmr\n",
        "  cc = co - pmp\n",
        "  print(f'O Prazo médio de estoques é  aproximadamente {pme:.0f} dias'),\n",
        "  print(f'O Prazo médio de recebimento é  aproximadamente {pmr:.0f} dias'),\n",
        "  print(f'O Prazo médio de pagamento é  aproximadamente {pmp:.0f} dias'),\n",
        "  print(f'O ciclo operacional é  aproximadamente {co:.0f} dias'),\n",
        "  print(f'O Ciclo de caixa é  aproximadamente {cc:.0f} dias')\n",
        "  if pmp > co:\n",
        "    print(f'Essa empresa em média paga {abs(cc):.0f} dias depois de receber')\n",
        "  elif pmp < co:\n",
        "    print(f'Essa empresa em média paga {abs(cc):.0f} dias antes de receber')\n",
        "  else:\n",
        "    print('Essa em média empresa no mesmo dia em que recebe')"
      ],
      "metadata": {
        "id": "fo7iOAzE6U4k"
      },
      "execution_count": null,
      "outputs": []
    },
    {
      "cell_type": "code",
      "source": [
        "giro()"
      ],
      "metadata": {
        "id": "MxH0HOpkI41g"
      },
      "execution_count": null,
      "outputs": []
    },
    {
      "cell_type": "code",
      "source": [
        "'''\n",
        "Faça uma função sem parâmetro que ao ser acionada solicite ao usuário uma\n",
        "sequência númerica em uma única caixa de texto e separada por espaços e então\n",
        "após o usuário inserir os valores corretos a função devolva um print informando\n",
        "o valor da média, da variância e do desvio padrão da sequência informada\n",
        "'''\n",
        "def describe ():\n",
        "  dados = input('''Informe uma sequência de números (separados por espaços)\n",
        "  que deseja calcular as medidas: ''')\n",
        "  dados = dados.split()\n",
        "  for i in range(len(dados)):\n",
        "    dados[i] = float(dados[i])\n",
        "  media = sum(dados)/len(dados)\n",
        "  quad = []\n",
        "  for i in range(len(dados)):\n",
        "    quad.append((dados[i]-media)**2) # este bloco percorre cada valor da lista dados e calcula a diferença de cada um deles para a média, eleva ao quadrado e appenda na lista quad\n",
        "  var = sum(quad)/(len(dados)-1)\n",
        "  sd = var**(1/2)\n",
        "  print(f'''As medidas descritivas são:\n",
        "  média = {media:.2f},\n",
        "  variância = {var:.2f} e\n",
        "  desvio padrão = {sd:.2f}''')"
      ],
      "metadata": {
        "id": "fG48wv-lNp3Q"
      },
      "execution_count": null,
      "outputs": []
    },
    {
      "cell_type": "code",
      "source": [
        "describe ()"
      ],
      "metadata": {
        "id": "bROzeSotkDuD"
      },
      "execution_count": null,
      "outputs": []
    },
    {
      "cell_type": "markdown",
      "source": [
        "##**Estrutura de Condição - If, Elif, Else**##"
      ],
      "metadata": {
        "id": "xjHo4nkNWUJv"
      }
    },
    {
      "cell_type": "markdown",
      "source": [
        "Instrução \"If\":\n",
        "\n",
        "        * A instrução \"If\" é usada para executar um bloco de código se uma determinada se uma determinada condição for verdadeira.\n",
        "        A sintaxe geral é a seguinte:"
      ],
      "metadata": {
        "id": "D1mwkja2WZyj"
      }
    },
    {
      "cell_type": "code",
      "source": [
        "'''\n",
        "   If condição:\n",
        "      # bloco de código a ser executado se a condição for verdadeira\n",
        "'''"
      ],
      "metadata": {
        "id": "6GV3wYWYWdIH"
      },
      "execution_count": null,
      "outputs": []
    },
    {
      "cell_type": "code",
      "source": [
        "idade = 19\n",
        "if idade >= 18:\n",
        "  print('Você é maior de idade.')"
      ],
      "metadata": {
        "id": "V6cv8btTWk1v"
      },
      "execution_count": null,
      "outputs": []
    },
    {
      "cell_type": "code",
      "source": [
        "idade = 18\n",
        "if idade >= 18:\n",
        "  print(\"Você é maior de idade.\")"
      ],
      "metadata": {
        "id": "loM0XcCaWqp_"
      },
      "execution_count": null,
      "outputs": []
    },
    {
      "cell_type": "code",
      "source": [
        "idade = 17\n",
        "if idade >= 18:\n",
        "  print(\"Você é maior de idade.\")"
      ],
      "metadata": {
        "id": "WyGgQjTdWugb"
      },
      "execution_count": null,
      "outputs": []
    },
    {
      "cell_type": "markdown",
      "source": [
        "Instrução \"Else\":\n",
        "\n",
        "          * A instrução \"Else\" é usada em conjunto com a instrução \"if\" e especifica um bloco de código a ser executado se a condição do \"if\" não for verdadeira. A sintaxe geral é a seguinte:"
      ],
      "metadata": {
        "id": "bToQA3BMW1Mv"
      }
    },
    {
      "cell_type": "code",
      "source": [
        "'''\n",
        "If condição:\n",
        "   # bloco de código a ser executado se a condição for verdadeira\n",
        "Else:\n",
        "     # o bloco de código a ser executado se a condição não for verdadeira\n",
        "'''"
      ],
      "metadata": {
        "id": "YXmFniJ-W6gc"
      },
      "execution_count": null,
      "outputs": []
    },
    {
      "cell_type": "code",
      "source": [
        "idade = int(input(\"Digite sua idade: \"))\n",
        "\n",
        "if idade >= 18:\n",
        "  print(\"Você é maior de idade.\")\n",
        "else:\n",
        "     print(\"Você é maior de idade.\")"
      ],
      "metadata": {
        "id": "XD7PSO17W_2P"
      },
      "execution_count": null,
      "outputs": []
    },
    {
      "cell_type": "markdown",
      "source": [
        "Instrução \"Elif\":\n",
        "\n",
        "        * A instrução \"Elif\" é uma abreviação de \" else if\" e permite testar multiplas condições em sequência. Ele é usado quando há mais de duas possibilidades a serem consideradas. A sintaxe geral é a seguinte:"
      ],
      "metadata": {
        "id": "ErE3sUHGXJB-"
      }
    },
    {
      "cell_type": "code",
      "source": [
        "'''\n",
        "if condição1:\n",
        "   # bloco de código a ser executado se a condição for verdadeira\n",
        "elif condição2:\n",
        "     # bloco de código a ser executado se a condição for verdadeira\n",
        "else condição3:\n",
        "    # bloco de código a ser executado se nenhuma das condições anteriores for verdadeira\n",
        "'''"
      ],
      "metadata": {
        "id": "upKkt28lXPdx"
      },
      "execution_count": null,
      "outputs": []
    },
    {
      "cell_type": "code",
      "source": [
        "nota = int(input(\"Digite sua nota: \"))\n",
        "if nota >= 90:\n",
        "   print(\"Sua nota é igual a A.\")\n",
        "\n",
        "elif nota >= 80:\n",
        "    print(\"Sua nota é igual a B.\")\n",
        "\n",
        "elif nota >= 70:\n",
        "     print(\"Sua nota é igual a C.\")\n",
        "\n",
        "else:\n",
        "     print(\"Sua nota é igual a D.\")"
      ],
      "metadata": {
        "id": "uvSiFHXkXU6j"
      },
      "execution_count": null,
      "outputs": []
    },
    {
      "cell_type": "markdown",
      "source": [
        "Exemplo:\n",
        "      * Escreva um programa que verifique se um número digitado pelo usuário é positivo, negativo ou zero.\n",
        "\n",
        "      Passo a passo:\n",
        "      1. Solicite ao usuário que digite um número.\n",
        "      2. Armazene o número digitado em uma variável chamada \"número\".\n",
        "      3. Verifique se o número digitado é igual a \"zero\". Se sim, exiba a mensagem \"O número digitado é zero\".\n",
        "      4. Caso contrário, verifique se o número é maior que zero. Se sim, exiba a mensagem \"O número é positivo\".\n",
        "      5. Se nenhuma das condições anteriores for atendida, significa que o número é negativo. Nesse caso, exiba a mensagem \"O número digitado é negativo.\"\n",
        "      6. Encerre o programa."
      ],
      "metadata": {
        "id": "7pcPQzoEOb2-"
      }
    },
    {
      "cell_type": "code",
      "source": [
        "numero = float(input(\"Digite o número: \"))\n",
        "\n",
        "if número == 0:\n",
        "   print(\"O número digitado e zero.\")\n",
        "elif número > 0:\n",
        "  print(\"O número digitado é positivo.\")\n",
        "else:\n",
        "  print(\"O número digitado é negativo.\")"
      ],
      "metadata": {
        "id": "CtW5pBH_Qavb"
      },
      "execution_count": null,
      "outputs": []
    },
    {
      "cell_type": "markdown",
      "source": [
        "##**Exercício de estrutura de condição**##\n",
        "\n",
        "Atividades:\n",
        "1. Faça um algoritmo que leia um número inteiro e diga se ele é maior, menor ou igual a 10;\n",
        "2. Faça um algoritmo que leia dois números inteiros e apresente na tela o maior deles ou se eles são iguais;\n",
        "3. Crie um algoritmo que leia um número e diga se ele está no intervalo fechado entre 25 e 200;\n",
        "4. Crie um algoritmo que leia um número e informe na tela se o mesmo é positivo. Caso seja, mostre o número na tela;\n",
        "5. Crie um algoritmo que leia um número e informe se ele é divisível por 7;\n",
        "6. Crie um algoritmo que leia um número e diga se ele é par ou ímpar;\n",
        "7. Escreva um programa em Python que solicite ao usuário que digite uma letra. Em seguida, verifique se a letra digitada é uma vogal ou não;\n",
        "8. Escreva um programa que solicite ao usuário três notas de um aluno e calcule a média. Em seguida, exiba a média e uma mensagem informando se o aluno foi aprovado (média maior ou igual a 7) ou reprovado;\n",
        "9. Escreva um programa que solicite ao usuário os comprimentos dos três lados de um triângulo. Em seguida, exiba uma mensagem informando se o triângulo é equilátero (todos os lados iguais), isósceles (dois lados iguais) ou escaleno (todos os lados diferentes).\n",
        "10. Escreva um programa que solicite ao usuário sua idade e exiba uma mensagem informando em qual faixa etária ele se encontra: criança (0-12 anos), adolescente (13-17 anos), adulto (18-59 anos) ou idoso (60 anos ou mais).\n"
      ],
      "metadata": {
        "id": "jom9L3yzVQZg"
      }
    },
    {
      "cell_type": "code",
      "source": [
        "# Ex1: primeira forma\n",
        "n = int(input('Digite um número inteiro: ')) #recebendo valor do usuário e o transformando em int\n",
        "if (n == 10): # (se n for igual a 10 faça alguma coisa)\n",
        "  print(f'{n} é igual a 10')\n",
        "elif n > 10:\n",
        "  print(f'{n} é maior que 10')\n",
        "else:\n",
        "  print(f'{n} é menor que 10')"
      ],
      "metadata": {
        "id": "YiN3Jaj6FwCP"
      },
      "execution_count": null,
      "outputs": []
    },
    {
      "cell_type": "code",
      "source": [
        "# Ex2\n",
        "n1 = int(input('Informe um número inteiro: '))\n",
        "n2 = int(input('Informe outro número inteiro: '))\n",
        "\n",
        "if n1 > n2:\n",
        "  print(f'{n1} é o maior número informado')\n",
        "elif n1 < n2:\n",
        "  print(f'{n2} é o maior número informado')\n",
        "else:\n",
        "  print(f'{n1} é igual a {n2}')"
      ],
      "metadata": {
        "id": "vhKiiY8MHTcX"
      },
      "execution_count": null,
      "outputs": []
    },
    {
      "cell_type": "code",
      "source": [
        "# Ex 3\n",
        "n3 = float(input('Digite um número real: ')) #recebendo valor do usuário e o transformando em float\n",
        "if n3 >= 25 and n3 <= 200:\n",
        "  print(f'{n3} está dentro do intervalo fechado entre 25 e 200')\n",
        "else:\n",
        "  print(f'{n3} não está dentro do intervalo fechado entre 25 e 200')"
      ],
      "metadata": {
        "id": "hf6AdjrfHUkQ"
      },
      "execution_count": null,
      "outputs": []
    },
    {
      "cell_type": "code",
      "source": [
        "# Ex4\n",
        "n4 = float(input('Digite um número real: ')) #recebendo valor do usuário e o transformando em float\n",
        "if n4 > 0:\n",
        "  print(f'{n4} é um número positivo')\n",
        "else:\n",
        "  pass # comando que se aplica para não ecerrar o código e sim passar para a próxima linha de código"
      ],
      "metadata": {
        "id": "RHgyc2pNHcTG"
      },
      "execution_count": null,
      "outputs": []
    },
    {
      "cell_type": "code",
      "source": [
        "# Off Topic\n",
        "n4 = float(input('Digite um número real: ')) #recebendo valor do usuário e o transformando em float\n",
        "if n4 > 0:\n",
        "  print(f'{n4} é um número positivo')\n",
        "elif n4 <0:\n",
        "    print(f'{n4} é um número negativo')\n",
        "else:\n",
        "  print(f'{n4} é um número neutro')"
      ],
      "metadata": {
        "id": "k60vEuepHikj"
      },
      "execution_count": null,
      "outputs": []
    },
    {
      "cell_type": "code",
      "source": [
        "# Ex 5\n",
        "n5 = float(input('Informe um número: '))\n",
        "if n5 % 7 == 0:\n",
        "  print(f'{n5} é um número divisível por 7')\n",
        "else:\n",
        "  pass"
      ],
      "metadata": {
        "id": "ewF2L7qMHmsg"
      },
      "execution_count": null,
      "outputs": []
    },
    {
      "cell_type": "code",
      "source": [
        "# Ex6\n",
        "n6 = int(input('Informe um número: '))\n",
        "if n6 % 2 == 0:\n",
        "  print('O número digitado é par.')\n",
        "else:\n",
        "  print('O número digitado é ímpar.')"
      ],
      "metadata": {
        "id": "fEWKwCcQHqjn"
      },
      "execution_count": null,
      "outputs": []
    },
    {
      "cell_type": "code",
      "source": [
        "# Ex6b\n",
        "n6 = int(input('Informe um número: '))\n",
        "if n6 % 2 == 0 and n6 != 0:\n",
        "  print(f'{n6} é um número par')\n",
        "elif n6 % 2 != 0 and n6 != 0:\n",
        "  print(f'{n6} é um número ímpar')\n",
        "else:\n",
        "  print(f'{n6} é zero e o professor viajou na maionese e não quer assumir como par e também é o número de casamentos futuros do professor')"
      ],
      "metadata": {
        "id": "fA0KEgJXHunt"
      },
      "execution_count": null,
      "outputs": []
    },
    {
      "cell_type": "code",
      "source": [
        "# Ex7\n",
        "l = input('Digite uma letra: ')\n",
        "l = l.casefold()\n",
        "\n",
        "if l == 'a' or l == 'e' or l == 'i' or l == 'o' or l == 'u':\n",
        "  print(f'{l} é uma vogal')\n",
        "else:\n",
        "  print(f'{l} não é uma vogal')"
      ],
      "metadata": {
        "id": "-DJA_5GHHyVH"
      },
      "execution_count": null,
      "outputs": []
    },
    {
      "cell_type": "code",
      "source": [
        "# Ex 8\n",
        "nota1 = float(input('Informe a primeira nota: '))\n",
        "nota2 = float(input('Informe a segunda nota: '))\n",
        "nota3 = float(input('Informe a terceira nota: '))\n",
        "media = (nota1 + nota2 + nota3) / 3\n",
        "if media >= 7:\n",
        "  print(f'Aprovado com média {media:.2f}')\n",
        "else:\n",
        "  print(f'Reprovado com média {media:.2f}')"
      ],
      "metadata": {
        "id": "OgJiSydTH2cG"
      },
      "execution_count": null,
      "outputs": []
    },
    {
      "cell_type": "code",
      "source": [
        "# Ex 9\n",
        "l1 = float(input('Informe o comprimento do 1º lado: '))\n",
        "l2 = float(input('Informe o comprimento do 2º lado: '))\n",
        "l3 = float(input('Informe o comprimento do 3º lado: '))\n",
        "\n",
        "if l1 < (l2 + l3) and l2 < (l1 + l3) and l3 < (l2 + l1):\n",
        "  tri = True\n",
        "else:\n",
        "  tri = False\n",
        "\n",
        "if tri == True:\n",
        "  print('A medidas informadas formam um triangulo')\n",
        "else:\n",
        "  print('''A medidas informadas não formam um triangulo, por favor digite\n",
        "  medidas que formem um triângulo, lembrando que para que exista um triângulo\n",
        "  a medida de um lado qualquer deve ser menor que a soma das medidas dos outros\n",
        "  dois lados informado''')\n",
        "\n",
        "# Código para caso as medidas formem um triangulo,faça sua classificação\n",
        "if tri == True:\n",
        "  if l1 == l2 and l2 == l3:\n",
        "    print('O triângulo é equilátero, tem três lados iguais.')\n",
        "\n",
        "  elif (l1 == l2 or l1 == l3 or l2 == l3): # and (l1 != l2 or l1 != l3 or l2 != l3): essa condição seria necessária caso não houvesse outra condicação antes dela que pegasse o caso de todos os lados iguais\n",
        "    print('O triângulo é isósceles, tem dois lados iguais..')\n",
        "\n",
        "  else:\n",
        "    print('O triângulo é escaleno todos os lados diferentes.')\n",
        "else:\n",
        "  pass"
      ],
      "metadata": {
        "id": "9ieNrwZKH6e3"
      },
      "execution_count": null,
      "outputs": []
    },
    {
      "cell_type": "code",
      "source": [
        "# Ex 10\n",
        "age = int(input('Informe a sua idade em anos inteiros: '))\n",
        "if 0 <= age <= 12: #( se 0 for menor ou igual a age e age for menor ou igual a 12)\n",
        "  print('criança')\n",
        "elif 13 <= age <= 17:\n",
        "  print('adolescente')\n",
        "elif 18 <= age <= 59:\n",
        "  print('adulto')\n",
        "else:\n",
        "  print('idoso')"
      ],
      "metadata": {
        "id": "FOXDmERPIJKA"
      },
      "execution_count": null,
      "outputs": []
    },
    {
      "cell_type": "code",
      "source": [
        "# EX 10\n",
        "age = int(input('Informe a sua idade em anos inteiros: '))\n",
        "if age <= 12: #( se 0 for menor ou igual a age e age for menor ou igual a 12)\n",
        "  print('criança')\n",
        "elif age <= 17:\n",
        "  print('adolescente')\n",
        "elif age <= 59:\n",
        "  print('adulto')\n",
        "else:\n",
        "  print('idoso')"
      ],
      "metadata": {
        "id": "HLwPIiMLIOCk"
      },
      "execution_count": null,
      "outputs": []
    },
    {
      "cell_type": "code",
      "source": [
        "# Lista é uma estrutura que pode armazenar diversos valores sobre um determinado atributo\n",
        "lista_vazia = []\n",
        "noivo = ['Zé','Mané','Ana','Fran','João','Franz']\n",
        "print(f'Convidados do noivo - {noivo}')\n",
        "idades = [41, 47, 46, 28, 17, 50]\n",
        "print(f'Idades dos convidados do noivo {idades}')\n",
        "massas = [86, 74, 52, 47, 90, 110]\n",
        "print(f'Massas dos convidados do noivo {massas}')\n",
        "alturas = [1.68, 1.74, 1.65, 1.65, 1.80, 1.97]\n",
        "print(f'Alturas (em metros) dos convidados do noivo {alturas}')"
      ],
      "metadata": {
        "id": "eo9FneRbIUnP"
      },
      "execution_count": null,
      "outputs": []
    },
    {
      "cell_type": "code",
      "source": [
        "print(f'Idades dos convidados do noivo {idades}')"
      ],
      "metadata": {
        "id": "ml-lwv1SIYRr"
      },
      "execution_count": null,
      "outputs": []
    },
    {
      "cell_type": "code",
      "source": [
        "# Acessando um elemento específico da lista a partir do seu índice\n",
        "print(f'A convidada de honra é {noivo[3]}')\n",
        "# Criar uma sublista com apenas os os três primeiros elementos da lita noivo\n",
        "sublista = noivo[:3]\n",
        "print(sublista)\n",
        "p_u = [noivo[0], noivo[-1]]\n",
        "print(f'O primeiro convidado é {p_u[0]} e o último convidado é {p_u[-1]}')\n",
        "print(f'{noivo}')"
      ],
      "metadata": {
        "id": "tBvXo03JIdiQ"
      },
      "execution_count": null,
      "outputs": []
    },
    {
      "cell_type": "code",
      "source": [
        "# Método index(valor procurado, índice de ínicio da procura, e índice fim da procura) por definição se não for oferecido o índice de ínicio e fim será procurado na lista toda\n",
        "id = noivo.index('Fran')"
      ],
      "metadata": {
        "id": "kTz1XvdWIkrY"
      },
      "execution_count": null,
      "outputs": []
    },
    {
      "cell_type": "code",
      "source": [
        "# Qual é o imc da convidada Fran\n",
        "print(f'O IMC da Fran é {(massas[id]/alturas[id]**2):.2f}')"
      ],
      "metadata": {
        "id": "IsMzdHi1Irpi"
      },
      "execution_count": null,
      "outputs": []
    },
    {
      "cell_type": "markdown",
      "source": [
        "Desafio 1':\n",
        "Crie um programa que receba do usuário um nome e caso esse nome\n",
        "esteja na lista guarde seu índice em uma variável e a utilize para buscar massa e altura correspondente, bem como calcular seu imc e após tudo isso informar o usuário, caso o nome não esteja na lista retorne uma mensagem informando o usuário"
      ],
      "metadata": {
        "id": "O-71IPE1I57A"
      }
    },
    {
      "cell_type": "code",
      "source": [
        "idades = [41, 47, 46, 28, 17, 50]\n",
        "massas = [86, 74, 52, 47, 90, 110]\n",
        "alturas = [1.68, 1.74, 1.65, 1.65, 1.80, 1.97]\n",
        "noivo = ['Zé','Mané','Ana','Fran','João','Franz'] # Cria o banco de dados com os nomes dos convidados do noivo\n",
        "nome = input('Informe o nome que deseja consultar: ') #recebendo o nome do usuário\n",
        "nome = nome.capitalize() #Deixo o nome que o usuário digitou com a primeira letra em caixa alta e as demais em caixa baixa\n",
        "if nome in noivo: # se o nome que o usuário digitou estiver no banco de dados faça algo\n",
        "  id2 = noivo.index(nome) # recebendo o argumento nome e procurando o seu índice já sabendo que ele está na lista exatmente com a mesma grafia\n",
        "  imc = massas[id2]/alturas[id2]**2 # calculando o imc já sabendo a posição que deve busta em cada lista (massas e alturas)\n",
        "  print(f'{nome} tem {massas[id2]} kg, {alturas[id2]} metros e seu imc é: {imc:.1f}') # Mostrando o nome digitado e seus respectivos massa, altura e imc\n",
        "else:\n",
        "  print(f'Desculpe, {nome} não está na lista, por favor reinicie o programa para consultar outro nome')"
      ],
      "metadata": {
        "id": "y_WdZmRFI7pV"
      },
      "execution_count": null,
      "outputs": []
    },
    {
      "cell_type": "code",
      "source": [
        "d = []"
      ],
      "metadata": {
        "id": "zzoaQhVQJDe2"
      },
      "execution_count": null,
      "outputs": []
    },
    {
      "cell_type": "code",
      "source": [
        "d.append(22)"
      ],
      "metadata": {
        "id": "oUfVWwJXJH0Q"
      },
      "execution_count": null,
      "outputs": []
    },
    {
      "cell_type": "code",
      "source": [
        "print(d)"
      ],
      "metadata": {
        "id": "daJO-kVAJM-K"
      },
      "execution_count": null,
      "outputs": []
    },
    {
      "cell_type": "code",
      "source": [
        "# Adicionando elementos em uma lista qualquer com o método append() por padrão este método insero o valor desejado em uma lista existente na última posição\n",
        "lista_vazia = [] # cria uma lista vazia com o nome lista vazia e apaga todos os elementos de qualquer objeto com o mesmo nome\n",
        "print(lista_vazia) # imprime uma lista vazia que já existe\n",
        "lista_vazia.append('Joana') # adiciona Joana na última posição de uma lista que já exista\n",
        "lista_vazia.append('Douglas')\n",
        "lista_vazia.append('Eduardo')\n",
        "lista_vazia.append('Ester')\n",
        "lista_vazia.append('Daniela')\n",
        "lista_vazia.append('Pedro')\n",
        "lista_vazia.append('Maria')\n",
        "print(lista_vazia) # imprime o status atual da lista vazia\n",
        "fam = lista_vazia\n",
        "print(lista_vazia)\n",
        "print(fam)"
      ],
      "metadata": {
        "id": "nMf-zqPRJRlt"
      },
      "execution_count": null,
      "outputs": []
    },
    {
      "cell_type": "code",
      "source": [
        "fam.insert(3, 'Tobias')\n",
        "print(fam)"
      ],
      "metadata": {
        "id": "fhiuNlplJXlO"
      },
      "execution_count": null,
      "outputs": []
    },
    {
      "cell_type": "code",
      "source": [
        "fam[3] = 'Raimundo' # Atribuição direta insere um novo elemento substituindo o anterior se houver\n",
        "print(fam)"
      ],
      "metadata": {
        "id": "4moCujERJeYw"
      },
      "execution_count": null,
      "outputs": []
    },
    {
      "cell_type": "code",
      "source": [
        "# Excluindo elementos de uma lista\n",
        "fam.pop() # método que exclui pelo índice, por padrão exclui o último elemento se não informarmos o índice\n",
        "print(fam)"
      ],
      "metadata": {
        "id": "meNu9fa_Jiv3"
      },
      "execution_count": null,
      "outputs": []
    },
    {
      "cell_type": "code",
      "source": [
        "# Excluir Joana da lista fam pelo método pop\n",
        "fam.pop(0)\n",
        "print(fam)"
      ],
      "metadata": {
        "id": "TejwD-FqJmuo"
      },
      "execution_count": null,
      "outputs": []
    },
    {
      "cell_type": "code",
      "source": [
        "# Excluir raimundo da lista fam pelo método remove\n",
        "fam.remove('Raimundo')\n",
        "print(fam)"
      ],
      "metadata": {
        "id": "7ORw07o1KJhu"
      },
      "execution_count": null,
      "outputs": []
    },
    {
      "cell_type": "code",
      "source": [
        "# criando uma lista com strings\n",
        "nomes = ['Douglas', 'Daniela', 'Pedro', 'Maria', 'Eduardo', 'Ester']\n",
        "\n",
        "# criando uma lista com números inteiros\n",
        "pesos = [78, 25, 98, 63, 92, 67]\n",
        "\n",
        "# criando uma lista com números fracionários\n",
        "alturas = [1.85, 1.29, 1.75, 1.67, 1.82, 1.70]"
      ],
      "metadata": {
        "id": "-h9hQbtMKNeX"
      },
      "execution_count": null,
      "outputs": []
    },
    {
      "cell_type": "code",
      "source": [
        "# forçando um erro usando o remove\n",
        "nomes.remove('xerox')\n",
        "print(nomes)"
      ],
      "metadata": {
        "colab": {
          "base_uri": "https://localhost:8080/",
          "height": 200
        },
        "id": "mDprE5OCeaKx",
        "outputId": "ab528888-6f68-4604-8bda-c1b2825860ae"
      },
      "execution_count": null,
      "outputs": [
        {
          "output_type": "error",
          "ename": "ValueError",
          "evalue": "ignored",
          "traceback": [
            "\u001b[0;31m---------------------------------------------------------------------------\u001b[0m",
            "\u001b[0;31mValueError\u001b[0m                                Traceback (most recent call last)",
            "\u001b[0;32m<ipython-input-4-2decd0ea6be5>\u001b[0m in \u001b[0;36m<cell line: 2>\u001b[0;34m()\u001b[0m\n\u001b[1;32m      1\u001b[0m \u001b[0;31m# forçando um erro usando o remove\u001b[0m\u001b[0;34m\u001b[0m\u001b[0;34m\u001b[0m\u001b[0m\n\u001b[0;32m----> 2\u001b[0;31m \u001b[0mnomes\u001b[0m\u001b[0;34m.\u001b[0m\u001b[0mremove\u001b[0m\u001b[0;34m(\u001b[0m\u001b[0;34m'xerox'\u001b[0m\u001b[0;34m)\u001b[0m\u001b[0;34m\u001b[0m\u001b[0;34m\u001b[0m\u001b[0m\n\u001b[0m\u001b[1;32m      3\u001b[0m \u001b[0mprint\u001b[0m\u001b[0;34m(\u001b[0m\u001b[0mnomes\u001b[0m\u001b[0;34m)\u001b[0m\u001b[0;34m\u001b[0m\u001b[0;34m\u001b[0m\u001b[0m\n",
            "\u001b[0;31mValueError\u001b[0m: list.remove(x): x not in list"
          ]
        }
      ]
    },
    {
      "cell_type": "code",
      "source": [
        "# solução 1\n",
        "teste = input('Informe o nome que deseja excluir da lista: ') # recebe um nome do usuário e o guarda na variável teste\n",
        "teste = teste.capitalize() # Padroniza a variável teste com a primeira letra maiúscula\n",
        "if teste in nomes: # verifica se o nome armazenado em teste está na lista de nomes\n",
        "  nomes.remove(teste) # se somente se o nome armazenado em teste estiver na lista, faz a exclusão\n",
        "  print(f'O nome {teste} foi exluído com sucesso') # imprime o resultado da exclusão se somente se ela for feita\n",
        "else:\n",
        "  print(f'O nome {teste} não está na lista, logo não pode ser excluído') # Caso o nome digitado não esteja na lista informa o usuário essa situação"
      ],
      "metadata": {
        "id": "3dBFR-Oaed_k"
      },
      "execution_count": null,
      "outputs": []
    },
    {
      "cell_type": "code",
      "source": [
        "# solução 2 (utlizando try/except)\n",
        "teste2 = input('Informe o nome que deseja excluir da lista: ') # recebe um nome do usuário e o guarda na variável teste\n",
        "teste2 = teste2.capitalize()# Padroniza a variável teste com a primeira letra maiúscula\n",
        "try: # comando para tentar fazer alguma ação\n",
        "  nomes.remove(teste2) # ação que será feita caso a tentativa seja bem sucedida (neste caso se o nome digitado estiver na lista)\n",
        "  print(f'O nome {teste2} foi excluído com sucesso') # imprime o resultado da exclusão se somente se ela for feita\n",
        "except: # comando para o caso da tentativa (try) ser mal sucedida (no caso se o nome não estiver na lista)\n",
        "  print(f'O nome {teste2} não está na lista, logo não pode ser excluído') # Caso o nome digitado não esteja na lista informa o usuário essa situação"
      ],
      "metadata": {
        "id": "b3CLSsV_e0Cu"
      },
      "execution_count": null,
      "outputs": []
    },
    {
      "cell_type": "markdown",
      "source": [
        "Exemplo extra: apareceu em uma dúvida na hora da aula"
      ],
      "metadata": {
        "id": "AovZ8ZdNfmCt"
      }
    },
    {
      "cell_type": "code",
      "source": [
        "try:\n",
        "  ida = int(input('Informe sua idade em anos: '))\n",
        "  if ida >= 18:\n",
        "    print('maior de idade')\n",
        "  elif ida < 0:\n",
        "    print('você digitou uma idade negativa é isso mesmo? ')\n",
        "except:\n",
        "  print('você não informou um número, por favor reinicie o código e digite um número')"
      ],
      "metadata": {
        "id": "2dK0pHSse5Z-"
      },
      "execution_count": null,
      "outputs": []
    },
    {
      "cell_type": "code",
      "source": [
        "# criando uma lista com strings\n",
        "nomes = ['Douglas', 'Daniela', 'Pedro', 'Maria', 'Eduardo', 'Ester']\n",
        "\n",
        "# criando uma lista com números inteiros\n",
        "pesos = [78, 25, 98, 63, 92, 67]\n",
        "\n",
        "# criando uma lista com números fracionários\n",
        "alturas = [1.85, 1.29, 1.75, 1.67, 1.82, 1.70]\n",
        "\n",
        "# Tamanho da lista len(lista)\n",
        "print(len(nomes))\n",
        "\n",
        "# Maior valor da lista\n",
        "print(max(pesos))\n",
        "\n",
        "# Menor valor da lista\n",
        "print(min(alturas))\n",
        "\n",
        "# Soma dos valores de uma lista\n",
        "print(sum(alturas))\n",
        "\n",
        "# Contando a frequência de um valor em uma lista\n",
        "print(nomes.count('Douglas'))\n",
        "\n",
        "# Ordenar uma lista crescente\n",
        "nomes.sort()\n",
        "print(nomes)\n",
        "# Ordenar uma lista decrescente\n",
        "nomes.sort(reverse=True)\n",
        "print(nomes)"
      ],
      "metadata": {
        "id": "5d3Z7KMne9il"
      },
      "execution_count": null,
      "outputs": []
    },
    {
      "cell_type": "code",
      "source": [
        "# Adicionando todos os elementos de uma lista em outra usando o método extend\n",
        "# Melhor para alteração no banco de dados\n",
        "nomes1 = ['Zé', 'Mané']\n",
        "nomes2 = ['Ana', 'José']\n",
        "\n",
        "nomes1.extend(nomes2)\n",
        "\n",
        "print(nomes1)"
      ],
      "metadata": {
        "id": "JQrbCN5QfBwr"
      },
      "execution_count": null,
      "outputs": []
    },
    {
      "cell_type": "code",
      "source": [
        "# Adicionando todos os elementos de uma lista em outra usando sinal de (+) (concatenando listas)\n",
        "# Melhor para filtro\n",
        "nomes1 = ['Zé', 'Mané']\n",
        "nomes2 = ['Ana', 'José']\n",
        "\n",
        "teste = nomes1 + nomes2\n",
        "print(teste)"
      ],
      "metadata": {
        "id": "QPW4Qs1NfFwe"
      },
      "execution_count": null,
      "outputs": []
    },
    {
      "cell_type": "code",
      "source": [
        "# Colocando uma lista dentro de outra\n",
        "carros = ['Fusca', 'Gol']\n",
        "carros2 = ['Uno', 'Punto', 'Bravo']\n",
        "carros.append(carros2)\n",
        "print(carros)"
      ],
      "metadata": {
        "id": "tayjJVxHfIqu"
      },
      "execution_count": null,
      "outputs": []
    },
    {
      "cell_type": "code",
      "source": [
        "# Acesssando uma lista da outra\n",
        "fiat = carros[2]\n",
        "print(fiat)"
      ],
      "metadata": {
        "id": "GVZ8Cvj6fMcI"
      },
      "execution_count": null,
      "outputs": []
    },
    {
      "cell_type": "code",
      "source": [
        "# acessando um item de uma lista que está dentro de outra\n",
        "ok = carros[2][0]\n",
        "print(f'O melhor carro de todos os tempos é {ok}')"
      ],
      "metadata": {
        "id": "xCYBD9MtfPcz"
      },
      "execution_count": null,
      "outputs": []
    },
    {
      "cell_type": "markdown",
      "source": [
        "Função Range"
      ],
      "metadata": {
        "id": "r1vVNBQZfxiP"
      }
    },
    {
      "cell_type": "code",
      "source": [
        "# Função range com um argumento cria um lista com n valores inteiros de 0 a a n-1\n",
        "lista1 = list(range(5))\n",
        "print(lista1)\n",
        "# Função range com dois argumentos cria um lista com n valores inteiros do início informado no primeiro argumento até  ((n-1) - primeiro argumento informado) informado no segundo argumento\n",
        "lista2 = list(range(1,5))\n",
        "print(lista2)\n",
        "# Função range com três argumentos cria um lista com definição de onde começar (primeiro argumento), onde parar (segundo argumento) e de qual tamando de intervalo entre os valores (terceiro argumento)\n",
        "lista3 = list(range(1,5,2))\n",
        "print(lista3)"
      ],
      "metadata": {
        "id": "GKYk73zWfS9T"
      },
      "execution_count": null,
      "outputs": []
    },
    {
      "cell_type": "markdown",
      "source": [
        "### Estruturas de repetição (For)"
      ],
      "metadata": {
        "id": "rCMTEBasgEyQ"
      }
    },
    {
      "cell_type": "code",
      "source": [
        "# Apresentando e utilizando o for de forma simples\n",
        "pesos = [78, 25, 98, 63, 92, 67]\n",
        "for peso in pesos:\n",
        "  print(peso)"
      ],
      "metadata": {
        "id": "rsf5N2_EgIrQ"
      },
      "execution_count": null,
      "outputs": []
    },
    {
      "cell_type": "code",
      "source": [
        "# Utilizando o for com else\n",
        "for i in pesos:\n",
        "    print(i)\n",
        "else:\n",
        "    print('Todos os items foram exibidos com sucesso')"
      ],
      "metadata": {
        "id": "QK5FIdwzgM2p"
      },
      "execution_count": null,
      "outputs": []
    },
    {
      "cell_type": "code",
      "source": [
        "notas = [5, 9, 6, 8, 7]\n",
        "for i in notas:\n",
        "  print(i)"
      ],
      "metadata": {
        "id": "Etq1qshNgQeO"
      },
      "execution_count": null,
      "outputs": []
    },
    {
      "cell_type": "markdown",
      "source": [
        "Função enumerate"
      ],
      "metadata": {
        "id": "loYNJbbngYrc"
      }
    },
    {
      "cell_type": "code",
      "source": [
        "notas = [5, 9, 6, 8, 7]\n",
        "\n",
        "for i, v in enumerate(notas):\n",
        "  print(i,v)"
      ],
      "metadata": {
        "id": "qiiaj4gFgZh3"
      },
      "execution_count": null,
      "outputs": []
    },
    {
      "cell_type": "code",
      "source": [
        "notas = [5, 9, 6, 8, 7] # Recebe uma lista com várias notas\n",
        "# Objetivo: percorrer toda a lista de notas e para cada valor encontrado testar se o mesmo é ou não maior ou igual a 7\n",
        "# Se verdadeiro imprima a mensagem aprovado e sua nota\n",
        "# Se falso imprima reprovado e sua nota\n",
        "for i, v in enumerate(notas): # primeira variável é o índice e a segunda variável é o valor\n",
        "  if notas[i] >= 7: # se uma nota qualquer encontrada for maio ou igual a 7 faça algo\n",
        "    print(f'aprovado com nota {notas[i]}') # se verdadeiro imprima aprovado e sua nota\n",
        "  else:\n",
        "    print(f'reprovado com nota {notas[i]}') # se não for verdadeiro imprima reprovado e sua nota\n",
        "  print(notas[i])"
      ],
      "metadata": {
        "id": "4-4VtJ1SggsQ"
      },
      "execution_count": null,
      "outputs": []
    },
    {
      "cell_type": "code",
      "source": [
        "notas[0]"
      ],
      "metadata": {
        "id": "hDpHTVYigkOO"
      },
      "execution_count": null,
      "outputs": []
    },
    {
      "cell_type": "code",
      "source": [
        "# Utilizando o for com range\n",
        "alturas = [1.85, 1.29, 1.75, 1.67, 1.82, 1.70]\n",
        "alturas_quad = []\n",
        "imc = []\n",
        "for i in range(len(alturas)):\n",
        "  alturas_quad.append(alturas[i]**2)\n",
        "  imc.append(pesos[i]/alturas_quad[i])\n",
        "print(f'IMC {imc}')"
      ],
      "metadata": {
        "id": "MC1ph9CxgpQw"
      },
      "execution_count": null,
      "outputs": []
    },
    {
      "cell_type": "code",
      "source": [
        "# Utilizando o for com range\n",
        "alturas = [1.85, 1.29, 1.75, 1.67, 1.82, 1.70]\n",
        "pesos = [78, 25, 98, 63, 92, 67]\n",
        "alturas_quad = []\n",
        "imc = []\n",
        "for i in range(len(alturas)):\n",
        "  alturas_quad.append(alturas[i]**2)\n",
        "  imc.append(pesos[i]/alturas_quad[i])\n",
        "print(f'IMC {imc}')\n",
        "print(alturas_quad)"
      ],
      "metadata": {
        "id": "n9dOzbjigtcx"
      },
      "execution_count": null,
      "outputs": []
    },
    {
      "cell_type": "code",
      "source": [
        "# Utilizando o for com enumerate\n",
        "alturas_quad = []\n",
        "imc = []\n",
        "for i, v in enumerate(pesos):\n",
        "  print(i)\n",
        "  print(v)\n",
        "  alturas_quad.append(alturas[i]**2)\n",
        "  imc.append(pesos[i]/alturas_quad[i])\n",
        "print(f'IMC {imc}')"
      ],
      "metadata": {
        "id": "nJB4vyZugxfi"
      },
      "execution_count": null,
      "outputs": []
    },
    {
      "cell_type": "markdown",
      "source": [
        "![23PBAD1.png](data:image/png;base64,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)"
      ],
      "metadata": {
        "id": "pA3XwYm5sk7x"
      }
    },
    {
      "cell_type": "code",
      "source": [
        "# Utilizando o for com enumerate\n",
        "alturas_quad = []\n",
        "imc = []\n",
        "for i, v in enumerate(pesos):\n",
        "  print(i)\n",
        "  print(v)\n",
        "  alturas_quad.append(alturas[i]**2)\n",
        "  imc.append(pesos[i]/alturas_quad[i])\n",
        "print(f'IMC {imc}')"
      ],
      "metadata": {
        "id": "SsvNyNyGspeb"
      },
      "execution_count": null,
      "outputs": []
    },
    {
      "cell_type": "markdown",
      "source": [
        "![23BAD2.png](data:image/png;base64,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)"
      ],
      "metadata": {
        "id": "AFtovkPztHBk"
      }
    },
    {
      "cell_type": "code",
      "source": [
        "dados = input('Informe uma sequência de números inteiros separados por espaços: ')\n",
        "dados = dados.split()\n",
        "dados_tipados = []\n",
        "for i in range(len(dados)):\n",
        "  dados_tipados.append(dados[i])\n",
        "  dados_tipados[i] = int(dados_tipados[i])\n",
        "if type(dados_tipados[0]) == int:\n",
        "  print(f'Este valor {dados_tipados[0]} é do tipo inteiro')\n",
        "else:\n",
        "  print(f'Este valor {dados_tipados[0]} não é do tipo inteiro')"
      ],
      "metadata": {
        "id": "OJqK_5r7tL8D"
      },
      "execution_count": null,
      "outputs": []
    },
    {
      "cell_type": "markdown",
      "source": [
        "![23BAD3.png](data:image/png;base64,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)"
      ],
      "metadata": {
        "id": "rEdEErrItZZj"
      }
    },
    {
      "cell_type": "code",
      "source": [
        "dados = input('Informe uma sequência de números inteiros separados por espaços: ')\n",
        "dados = dados.split()\n",
        "dados_tipados = []\n",
        "for i in range(len(dados)):\n",
        "  dados_tipados.append(dados[i])\n",
        "  dados_tipados[i] = int(dados_tipados[i])\n",
        "print(f'A soma de todos os valores informados é {sum(dados_tipados)}')"
      ],
      "metadata": {
        "id": "BL1_br7atctA"
      },
      "execution_count": null,
      "outputs": []
    },
    {
      "cell_type": "markdown",
      "source": [
        "![23BAD4.png](data:image/png;base64,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)"
      ],
      "metadata": {
        "id": "sH_SdjtwtuzX"
      }
    },
    {
      "cell_type": "code",
      "source": [
        "dados = input('Informe uma sequência de números inteiros separados por espaços: ')\n",
        "dados = dados.split()\n",
        "dados_tipados = []\n",
        "quadrados = []\n",
        "for i in range(len(dados)):\n",
        "  dados_tipados.append(dados[i])\n",
        "  dados_tipados[i] = int(dados_tipados[i])\n",
        "  quadrados.append(dados_tipados[i]**2)\n",
        "print(f'A soma de todos os valores informados elevado ao quadrado é {sum(quadrados)}')"
      ],
      "metadata": {
        "id": "os2bRrjltx3I"
      },
      "execution_count": null,
      "outputs": []
    },
    {
      "cell_type": "markdown",
      "source": [
        "![23BAD5.png](data:image/png;base64,iVBORw0KGgoAAAANSUhEUgAAAqAAAAEZCAIAAADHcwCyAAAgAElEQVR4nOy9X2hbSZo3XPoYeJEgLIsEMa+GoM7H29LOjUzwhZojw4wDUW4+mMTg3kY27OyyONgXjV/ivglSdiRypaFN4LUnyl7MzFoa2gY7HWh2IppopokO7W8QweKlQbpYR+tZ72vvytPspNdemAF9Fz/8fE/XOadUkuwk7a7fhbHOOVX11POv6jxVdR5ft9sVBgYGBgYGBucL/9frJsDAwMDAwMDg9GEGeAMDAwMDg3MIM8AbGBgYGBicQ5gB3sDAwMDA4BzCDPAGBgYGBgbnEO4DfLlc9jFcv3798PDwtJrklatrtm37dJs2+DagXC6fkdrk8/lbt24dHx+fes2D4fj4+NatW6Ojo61WS/FAuVwevi3bthUNnS4ODw+vX79u27bQcwKHh4f5fP5M5fIqu98TPeX+5kBfA8vlMiR+KrWdFlqt1ujoqL4qShS2Wq2lpaV+Gz1FZfuO69WdnZ1cLpfJZIZvgOPw8DCdTkcikaOjI7/fL4Qol8uhUKhWq1mW5XzesqwnT56cLg0GBucGz58/b7fbT58+DQaDrg/4/f4HDx68YqpOFzpOYGVlZW9v79XQ8yagp9zfHGhqYKvVKhQKy8vLp1LbGUFHFTmFx8fHS0tL4XD47EnzhMsAf3x8vLe3Nz4+fuqNraysRCKRpaUljO5CiHQ6vbOzk8/ny+Xym6+sBgZvFMwM+NsJI3cDTbiE6I+Ojv7jP/5jbGzsdFtqtVobGxszMzM0ugPvvvsuRncENx4+fDg6Ourz+WzblkIiPLavDubwEJ84CZvk83lUglZQDyIhVLM6ANtqtVKp1OPHj0EhJ+Pw8PC9995DtRRd4QRLYaV8Pk8tfvDBB2jXyQEhhG3bVAmP2+RPwBc76Cc6y7tPlfBbXt0EAYhNeQVLefCKl+rZhGs3ITJXKfCa+S1FESHEP/zDP7guA3nx0wtcUi9fvuS3FPKVoGYdNcHrUeiwxBOuh7ZtQ6NA8O9//3seMOQc01nFIF6Njo5+8cUXvOOc4VJEkXeHP8Zp1l9D4axz1gC2ZLPZYrH4zjvvgAYv5nixut/ui360HTx//PgxcV79PPr7+PFjV+F6aVFfbs3Vkbp6MC/Tk1yKwhvzkLVX12zbjsVijUYjmUwSc1yJlGrjqg7avEySW33PVTbe688++0wSDfGfqwe8WavVIgoPDw9v3LhRLBaz2SyVUjgfhbJ5dUrHoFwG+Gaz+dFHH8VisX5NUY1OpzMyMhKLxaTrb7/9Nn93X1lZWVtb63a7UtC+XC4XCoVms9ntdpvN5vz8/MArMcVi8eDgoNvtEkk7Ozv42W63f/KTnyjKHhwc3L17FxTWarVkMknK9+WXX25ubnY6ne3t7Wg0ms/nOcGFQoEIzufze3t7R0dH3W43HA4XCgXeBOeAbdvz8/OopNvtTk5Ovv/++ySObDZ7+fJl1L+/vx8KhejnxsYGmjs+Pl5YWAiHw6iB33JFq9V69913FxcXu93u2tra/Px8pVLpyVJe6ujoaG9vr6cV8W5i7cayLBAZDodv3LhBJhGLxZaXl+nWwsLC8fGxoogQolKptFotcNiyrHQ6TbUp+OlEPp+3bbvT6XS73fHxcS4phXz7AlcG1NNzJRLcJp6USqX5+XlyFsVi8cKFC91u98GDB3wy3Wq1rl69ShzjbHGFbdvJZLJWq0ETVlZW+u0ONyiJZsuy7ty509equWsNQogHDx7kcrnZ2dnPP/88Go0qmNMXqxXdH0Db7969e//+fTiNbDarFnGlUvnVr34FOnO5XD6f1/HAmm5N4UglDwbTo24KIWB6kkup1Wpc/dRw7ZplWc1mMx6P12o1rAtrentJ1b1Mkls9OqJw8ly4nU5nc3Oz0Wg4H+N1Li8vz87OSg8Eg8FHjx7Nzs7mcrknT54Eg0GF81Eom1enNA3KZYBvt9tCCDSm4wg0gWp7YnJyMhqNShcPDw9XV1cXFxdxKxqNLi4urq6uDkZVPB6fmpoSQgSDQcuyUqnU3Nwc/dzb21PbKpFhWVYul1tdXaXnZ2ZmMFlBuGJ5edlJcKvVqtVqCwsLcL5zc3OpVMqLA9Vqlf+cmJjY39/vdDr4mUqlrl+/LoS4dOlSIpGYnZ29efMm/dzZ2RFC7O7uvnjxAv2VbrlifX09kUignmg02nNVzFnK7/cvLCxsbW09f/5cUYT3C/FGSIH+wcVqtZrL5Wi2l8lkYMyKIkKIeDzOOcxrU/BTAoSYyWQg05s3b5IZK+Srwy4ClsPC4TBIjUaj29vbrvtROOr1eiKRuHLlCn4i2Ea9IPWWABndvn0bPyWOOQlbXV0lzqODPbtzeHho2zZF6bhBgbxQKIQnSY496yRo1uDFnL5Yre7+ANpOTuPKlSuzs7PValXxMNfeqamp/f39ZrOpeJ5K9XRrPR0peTDiQDqdlrp5dHTUbrcvX76MIpZlYULQk0LNrul7e67qCpNst9sjIyPQHKyRK7aXceEGg0HXJ8EcaSDo2Xcv56NQNkWnNM3BZYBPp9P8BVrtCE4dpDcceEPlqwZjY2OYYQ3QBAkbzUUikUAgoFn24sWLnIyJiYl2u41ZoRAiEongH4n7IBjaXK/XfT4f3YL58SY4BzKZDDQMocVkMsmfJMr9fn84HCbnxRGNRiuVCt5sRkdHA4FAsVj06h1tv6B6QqFQPB5X8wRunZfCNEI9paNuHh8fP3v2zLIsCuSAJzs7O6jZqRKKIviZSCQuXbrkvKXmpwQp5gQm0y3hIV9FhU74/f7x8XEexNNBOp2GMSN2h/Am3eXqTZCGN3HClmfPnrlOZ+HEJyYm6ArptgLBYPDJkycIySAinc1mcSsWi4GZAwfeNGvwYk5frFZ0fzBt1+EewVWCfZXycms9HSnRKY3i4qSb1WoVmjM9PT3AiRKdrul7e16bwiTxTygU0tmlr+MAd3d3t7a2uEy5qnjBy/kolE3RKU1z6H0OPhAIRCIRxTufJvpScScajQatGsBuDw4OhiTpTDGYlUqghZmNjY1ms1mr1fqtgVbLYrHY5OTk0dGRM5pEgKrxK6FQaGRkRKeh6elpko56GuGKbDbrY6CBQXhrjqKIF/rip9Nlc393KvIVQqTT6VqtVqlUQqGQzgKhYGtv09PTtVoN4U2dtlxnz67odDr7+/v8SigUunjxYs+CcF6hUAiHZejNhiKWpCc9va0EzRoUzNFndc/uD6ntrxF9OVIv08tkMqVSqVgsBgIBn8a2njMlkuBlktFo9OnTp6lUKplMOhe/OYZxgD3h5XzUyubVKU1zOIUP3fClfgXvQqGQ6yuOtOHIC/F4nFYvAP240NlBMW13xn4vXrzY15BAoZthOvv8+fOtrS2wrue5R0zm+BWn8nmhVCp1vw4E9zSBbnIQtV5MVhThwKxc9M9Pp3fj09zh5UugdfFarVYsFtW7QMRJFJF2GOg35Jymu0Z9hJtf63Q6PZ0sIopY3XMGDBEdxTro7Oys/sJtXzWomaPJ6p7dH1LbXyP6cqSKOS4Cvd1ut1QqZbPZ0z2bPpi3V5gkYkvdkw0KXjtvhnGAaiicj1rZFJ3SMQeXAV76moczgCABq1k9xRCNRicnJ/mKNbC+vu66+Y4D/eH91PnmAGmnc142MA4ODur1Ov3c2dnhgWIFwRSZl8JNiPi5tuXkvHrpzhXtdpvHqxFc8noYUWgetu10Ojz8y7WNbjljPNIOcDXQKN/6QDtRvaJHiiLUa1o3oWBjv/yUpqQ0URBK+XrV5so6CZZllUol3i+nDjujiPV63bU2DifHvJY/AHCe80eyIM5huiUtanjptt/vv3fv3sjIyGBLbIoa9JnjZDWHovtDavuQ0NEiBfQdqbObzrg0kE6nc7nc8CHeAYhUl3I1yWAwiN2OrrrX0wECzkWZnp5Z4XwUyqbZKYVBuQzwU1NTW1tbm5ubQojj4+M7d+5EIhHatDIM5ubm2u02tmLiSrlczmaztI/JC9hcQDMUnAej/SBOgGUkp5WVFZ2t4JooFAogw7btjY0N1w1NmM0QwfiMAwiORqPJZHJpaYnT5voihV7QlMi27Ww222g0+nKLkUikWCxiBxA+vNBoNBQbCSEjSB98plvQKsxv+C1swOGb8/HBA32dQaP0OrW5udlut69fv+73+2dmZviuY/pKnVcR/KxUKrSnFFtSr1+/3i8/IUTaw7y5uUmRWIV8XavyYp10+A3bizA+eekwfBDtOULTQmMTK+yaOEZscX1Y4jy1AkQikUqlgqkPv4UpEe3XAc2YCkhH6fCMelovQacGBXMUrO6r+8Nr+8Dw0iJ96DtS4gAdxllaWsLuRUxo+MfaNjY2dBahT51IqZSXSUqftlxfX3/rrbfonUcCH/68mAzm8IEgm82q1+wUzkehbIpO6RpU1w184Wp2dhbxrtMC33CYSqVwBoniDDz2VavV+AOlUokKOkNkEjqdDu1OL5VKuVwO4ZFSqSTVyTuI8zZe/QVbisUimMPjSGiOjh44CZZuERNyJ3DlAO8F6o/H43hAIpUqoXrop8S3XC7HOaBmHTpLxNO6ES7yLuvrjLObzp5y8njN/JZXEciUBmNOjIKfXiBJzc7OLi4u8toU8nXCi3XSrgi+7uClw7wI1YZbkslIrOYV6tg1pxmaQApPfUdHrl27hlt8W0MulyuVSlSK33LGYDm4NfEeedVAGlKr1RTMUbC63+7ra7vkGSTbdG2US5DOjzlJ4lrUl1tzdaSuHox300szhdIbcw1Udw2GRnS6Eqmozdk13hd+Xe39pF5zByi1SLJIpVIff/wxbkkWh2egOWrno2NrUqd0DMrX7XaFgR7o6GFfC59q4FDp+Pj4m7mGdxZdNjAwMDhPKJfLz5494x9pfUNgssm9amAvJcWcsQnu1L8baGBgYGBwFsAiheZyz+uFGeBfNbC7Bwc2fD7f/Pz82traaz8OYGBgYGCgA+zU29jYgA8PhUIzMzNvZgjWhOgNDAwMDAzOIcwbvIGBgYGBwTmEGeANDAwMDAzOIcwAb2BgYGBgcA5hBngDAwMDA4NzCDPAGxgYGBgYnEOc2gCv87ngVwkki/RKgSB9uvw8QTN5j8E3C/h8wgBfJ32VX0pX0JDP5/GRznK5jFQX3AbfNO/hChAs5dMql8sD8FbK93FGcGW1GJTmswb/9ipR7vWwQqu5A3yVejWATL0EpHi+X8F9p6+nvynAlwdqtZrX99eQh+cVU2VgMBiQiqpUKg1w1hZ5tM6CKn2srKxQnp50Oo1ecFdoWdZrJ7Innj9/3m63nz59Sh9Fx7fBl5eXXy9hPcHd3TeCZlISL2hq9TdCr4TeeDSY4M7nAP8mODUDg9OCmY++CfimjBYGBgSXED3iBg8fPsRneqQQB2IjuKWISCBCDigiD1KkRcr4hLCk1Ja6CH5SKf41wffeew+dGh0dbTQaPCTCO6UO6Uj184AJQkNSu0KI/Alcmcb7SBEqtPLw4UNUSFmGqH5F05999pmTw65dI5IUMkLxx48fUyXSk66CdqXfCV7WqztEc09KeHckJntpo9d1VwIU/OlpDgoKB+OwPpHcXry0V1OrFR10xhgRsfz9739/69atbDZbLBbfeeedVqvlGn2lUCo3Byc9Xibm2mU1Z5xsR9pA+smZ4Cpl27ZjsVij0Ugmk0SMwu9xD/Dy5Ut+S8dbeslI7a4l6bjSzMlQVOXlf2zbvnXr1gcffEDM8XLCTpC4R0dHv/jiC4kSKA8vTh2RRgEvB0h6peORuHnyBxSOxUum+hyQ+uVskdawnIJTEEZwX4NHglFk9bEsK51Ok5NNp9OWZSFTTTgcvnHjhlOf8vl8oVBAcptms1koFAZY7bZte35+HpUg8zRluvQCEreEw2FKCsSzOn755Zebm5udTmd7e/vtt9+mUq1W6+rVq9Qp3l91/bVajSfye/fddxcXF0Ht3t4e53g2mxVCUEcoYS7vY7fbnZycfP/996nplZWVtbU1kERJXyi/kGvTnU5nc3OTEhgrupbP5/f29iBiyEixuvPDH/4wk8k4pakWNKffWWe5XOZl5+fnUVbqqWVZlPhVTQl1p9Pp8Eyy+Xx+dXUVOaA6nc7q6ipKeRGvJoBD0xx6UjgAh/WJJHhpr0Kr4VZIqwVTXU0g9oBsZp9//nnPTzITM7snqcNmZ2eRiVVtYgR9cxZC3L17F9nBS6VSNpu9evUq/eTpSl2lbFkW5UPLZDJCaQ75fN62bSjh+Pg4z72r4y0VMhLe7tqVvRLNEryqUvgflLpw4UK320WcSeGEOWzbTiaTSI+2traG/MUcfr9/fHzctm3qzu7u7osXL6TMHQoHKMHLI2F85f5wfn4e/lDtWFxlqh6GesLVM7sqm8KfENwH+Hg8vrCwgE/nz83NiZN0s/iLK9ItAtIDLy8vw5iR3JcyNOuj3W5Thl24CVeN5ID4KUH7pUuXEonEzs4OPeCaVHh9fT2RSNy+fVvRKeDo6Kjdbl++fBk/Lcva3t5GN1HJzZs3xUnG6K2tLWRhF0KkUilUK92qVquTk5Pk9SYmJvb39yk9Ob9Vr9eRjBk/oeJ4kjcdDAY5l7y6dnx8vLe3R0noo9Ho9va2Il9cLpfDXS7NnoLm9EvAJonFxUVnWXSKMitnMpkHDx5QFgdXSvDmNzMzg8eCwaBlWch5j1uZTAZyx9pNOp1WEK8mgEPHHKi/XhQOxmF9Igle2ut1HQv/uVwOq6FOrT5rbG5uttvte/fuoV9qEyPom7NgKjo2NhaPx0khuX1pSlkhLNwiJbx58yZlrdX0lgrPI7zd9QDwqkrhf1CKvG5PJwyQdnG1d9IzNja2v7/fbDbxs16vO1O5KxygBC+PBJqp4+QPFWarkKkmB1yh6Zl7+hOC+wCfSCSIiSi8s7NzfHz87Nkzy7JojKRbvKzkeoRDSJpAqVAopL9vMBqNViqVaDSKiE0gEKCk4EAkEpGKSAylTj179szJLNyanp6WXh3Abp5NCEJtt9v4yZnGb2UyGZqO+Xy+ZDLJmyN7FkKk02l4cETzEK4h+nnToVAIyYwVXRNCjI+PZ7NZzS2mExMT9P/Y2BjmjD0FzemX0Gw29/f3+Uycqo3FYiMjI7FYzHXO60oJhm0YJEKpCJlQQ5xIQEG8mgCCpjnQLS8KFf0ankiJBlft9bouDSriRHWr1apmi8PAtu3p6WlyoD1NDOjLnAVT0VAoNDIy4uofNKWsEFan04GwcN3v94fD4Z6leOVeMgJc3bWzszrwqsrL/wD0JiY0nDAA7eJq72S++LrKuSZtUzhAJ7w8Ur1e9/l8Ti+hMFuFTDU54AoELXp65p7+hND3MblsNutjcK2Xy3tgRKPRp0+fplIpJF6TTqe4glY+YrHY5OQkQnw6bSmGIgmZTKZUKhWLxUAgIC2uTE9PE1s0hUpLUBsbG81ms1areT1Ji0zT09O1Wg3hGnFiJ/xJuKqeXUun07VarVKphEIhxRKOGsMIutFoxGIx4lgsFjs4OBBCBIPBR48ezc7OEj91ZniYIYVCoUgkcnR0lMvlehLpdb0vAnTMoSeFCpwKkQQv7VVotavbPWvgWF2pVJLeXTRNTN+cNaEpZS9hSRYqUahpRAoZvQJ4+R8nNJ1wp9PZ39/nV0Kh0MWLF6XHeJTe+VYgNBygJiKRSCAQcF73MluFTAcehgBNz6zpT3oP8Jgi0c9cLtf9OpwhER5nBi5evDjASIB5Ct5mRkZG+Pq0K5BbHatZPeP5HM4JL38JkJBOp2khKpvN0itUqVSSOON60oM0koJU3W6XB9xcgTAUrY3R9UAgILlgyXIUXaNlxVqtViwWe25xoPoxEovhBB2Px2nzAUBMwIoMrcLy1T5XShAuw2KeM1LtJLIn8ZoECD1z6EmhV79Oi0gOL+31uq4enM4Cx8fHd+7ciUQiCLpyaJpYX+asA00pewnLOUniFOobkZeMOCR3PQx4VV7+xwlNJ+wchrnac1BIo1qt8gAD0NMBaqLdbmOXCYfCbBUyHXgYIvT0zPr+xH2A39ra2t3dxf8US0EUggf6XY/nQzW5ynoFQAjkRJzTMQD5dzHSK4q0222uAbu7u1tbW16NAs5OIRio48XS6XQul9vZ2YGScaOVNnnyfSLYlDE2NuYMUnkFP51hqHq9jhAZ6OcRyE6nw2/pdA0p6l2XcJyEEZMHEDTBWdb1kxR+v//evXsjIyP0pCslUrgM3fRqyOu6K/FOAvgtHXMAFBQq+jU8kQqQ9npdd2o1DErxTk8PDzPMSEvvQE8TA4YxZ1foS1khrFAoxKPunDmDGZEkO1d3PVh/XatS+B8nNJ0wBCqpvWuFiNKvrq5KazSAwgHqIxKJuL4GqB2Ll0wHGIa84OWZe/oTgvsA32g0lpaWUOnKykokEsH2irm5Ob5bD6Z4/fp1XjYajU5OTvI93oVCwXV3mzgRM4lnZWWlUqngVrlc5h5/fX0d2ysURSKRCHaBCiGOj4+XlpYajYZi3AKmpqa2traoU9jMKXUKgE8h28Y0ClOfhYUFvlWSM00IUalUUC2oSiaT0WgUHVldXaUd9dlsttFoeI0ltPUGLBUnJgH6Nzc3xUlss2fXpLOFrotbHNlslo7qQZp+v78vQUvAnhq+UTmfz6Ms/6CVONnjQ6rsSgmMjTYWQSUwJQeROAEl2KFKBfFqAjh0zAFQUDgYh/WJJHhpr0KrZ2Zm6E0Rqst3WnFARWkiu7m5qb/uyCEtvfP61SZG0DdnTWhKWSEsSQk5czSNyEtG+OnlrgeAa1Vq/yNB0wmTdnG1dyUJUfpiseiMzwMKB6iJK1euJBIJ6jhxW9+xcJkONgwBmp65pz/5/9F1oFQqpVKpDz/8EA/Mzs4iMgN0Op1UKoVbqVQK76MIJvCfpVKJmkAkwQu8wlKplMvlKCDGK+GVaxbBLRREEaIEUU2K+PEKpf4qqBVfjxnydSleCc4I0R5RHu6TmFmr1eLxeKlUksgjgvEkDkukUimqijddLBbxgLpr0sqQMwjJi3/44YdUiSRNV0E76XeFJCy6zvciUCRfTQkvksvlSqUSXwLgDfGeemmpKwEK/jhV1AkvCgfjsD6RXPO9tFdTq72UBOAahQ6SvlEltVqNrnMlgT7/y7/8i+tqJdHjZWIKoXg9hmckDhB76UiSs0JJylj7pFYUfo9WSeENOGE63tJLRgp37cpqJ80ERVUK/yN5/q63E3Z2inQ4Ho/DcUGNufKQOPgVV3mhKu4AiTYdj8SXselJtWPxkqkmB1wFpPDMXHBqwgieA7zCVRn0BQzwiknDmwzJD35zKWk2m4uLi2+gFN4cDht8E3GK7tp4/vMHk03O4FuBaDT6N3/zN3/913/9hmc0MTAwMDgtmAHe4PwDh3xisdj3vvc9nS0CBgYGBucAvm63+7ppMDAwMDAwMDhlmDd4AwMDAwODcwgzwBsYGBgYGJxDmAHewMDAwMDgHMIM8AYGBgYGBucQZoA3MDAwMDA4h3ijB3jpu30DQ/qu57cK9I13xZfSOVqt1tLS0llTpUnMK8B51Q2k9VRwuFwuD5ZCcHiUy2X9HNCuwBdJhyc+n8/3ZMLr0lXX7AwGwwDfoFVw1TXBwTca33ndBBi8IiD5mPoZfDmZEhsbfEOBT1jXajVF4q90Ou2aiu2sga+OLy8vD1PJysrKaeVM6wkdwzH4RuDJkyeRSGRpackr6Qbyl75iqs4UZoA3MDhvOH9+ysBgeLyuSe1rhHuIHl/+8vl8Pp/v4cOHo6OjFLVAEAO3eHTLtu1bt2598MEH/DqS0ksPI+T18OHDW7duOevBXVy/e/euRBivUB1IsW0bj42Ojn7xxRd0XYpMShFaKoWCdJ1TpWha3TVxEjgFKEmXtAwhhQRdeSjJSCeUJ1XLe4pqDw8Pb9y4USwWs9ksVTgkQ5xd4E/+53/+Z08d8Pl8xJxWq5VKpR4/fkwdL5fLxAcp0u5FufDWjeH7m8/neSmI2+thL1OSIKVV7LluRdxWLz2QIehzNX8CV5q5QvJb5XL5gw8+APf+9m//NhaLNRqNZDJJXejLS+B6NpstFovvvPMOZSPU4aTU3K1bt16+fCnxxCliMhy0IlFIouHd58VdHaMETr+XLbtqJnEJTaNRndroscePH9PD0jKEWi68RYWtKfivMA2Fl/ayxMEcO1dOpIbjIXovlZbASSqXy7AR4Qj4OzPFaSrtMEOAywDfarXefffd5eXlbrfbbDZXVlYove7h4WE6naZ09OFw+MaNG1RvsVi8cOFC9yQFfT6f39vbQ3qPTqfDUy4KIWZnZ2dmZtAEJfs7Pj5eWFgQQqDUhQsXKAcfuGPbNnIh1Gq1ZDLppR+2bSeTSSQUWltbQ8rInrBte35+nhLyTE5Ovv/++1i9XlhYCIfDuF6r1Si9oytcuyaEyOfzhUIB9TebzUKhUC6XkQyRJ4zf3d198eIFEiN68ZDLqNvtWpZ1584d/SVJ3lNkGPzJT34SDAYfPXo0Ozuby+WePHmCnKRDMgRSoy40m835+XmSmkIHqPJms8mThB4cHPz0pz99+vRpt9vN5XLT09Pvv/8+fhJ5ClEKpW4M39/bt28nEon19XVxEosulUqucXK1KXGMjY3xzNNIL+2V8Dufz5ONLC8vx2IxnQVFTa4KIbLZrBCC1GZhYYGSHcdiscXFRectIUShUBgfH+92u3//939PidoymYzw1nDAqSEImCOB0+effx6NRvU5KfFnfHycpygtl8vcPOfn56UBLxgM3r9/f2trC5lANzc3t7a27t+/HwwGJXsslUpcQyTHKJHUarWuXr2Kbna73ZmZmXQ6LdGv0GchxMrKytraGvwAaiNuWJblrI3jhz/8YSaT4R6JGKWQC29RTRtHXz7cFf26Yh3ukXJCIXkphUpLJAkhkBTu2bNnsBE19JV2yCHAZYBfX1+fnJyEV0LebrqFuN/c3Bx+4h8KBsbj8dh4lRMAACAASURBVKmpKeqAbdtIay2ECAaDlmXxnLi5XI6amJycRH7358+fb21tLSwsoNTc3BxlSMQtmJMQwrKsXC5HydQljq+urvL6eRcUqFark5OT0WgUPycmJvb395FqsN1uX758Gdcty9re3qbHnHDtGlI4Ly8voyCoQoplyYPX63VkvlfwEDnjQ6EQimQyGVff4YV2uz0yMoLi8JiScp8WQzBZIYFGo9Ht7W0a8FwZhSKkSJcuXUokEjs7O1QnZcvGIEe5w4k8BeVq3Ri+v5S2/NNPP0X29Js3b7qKQG1KHOBAtVrFz3q9PjIy4pr6HTpGDFHYiBM6XBVCpFIpkIqeYrQjriL+yW9RKdeM7IN5iYE5KfHn5s2blJcTuxYWFxed5slrwHXMEgqFAj1fr9cTiQRlYcfsnJjGHaMTKEt6kk6nMb3mz3hpJn7yW+vr64lE4vbt2z25AUi2gC73lAtvUU0bh74P90K/rliHQlfl7KnSUqfg4vx+/71793hWXy9oKu3wQ4A8wKNG4qAQYmxsDKl2j4+Pnz17ZlkWKR/aI+dLY4Y4WQW0LIsCEdK8hjdBaLfbiUTi0qVL+BkIBCKRCN3i9QshJiYmtra2dnd3pUqgBPwVhypRI5PJ0FuFz+dLJpO8m9PT05q7jl27JslDsDcz7sHhaMbHx/1+v4KHsVgMXn6wzb1oOhQKqafPwzOkXq/7fD7eaw5XRkWj0UqlEo1GEYAKBAIUxQFImqFQ6Nq1a66Ve1Gu1o1TUQAMRdeuXeNTVQk9TYmDx3icBTmcY//ExES73cb7hxo6XBVC8Kaht6ifu13hmJREIpFAIOCsbTAvwdEXJzudDueP3++n/aTNZnN/fx8DMzA2NoZ3JqkSDAbJZFIaleFeEeTHMgQVkRyXk/5wOKyenXtpJkBcOj4+3tvb47WBG64TI4DbAnW5L7moaePQ9+Fe6NcV61Doqpw9VZp3ymvM8oK+0g4/BPR9TC6bzfoYFOEIcDMUCkUikaOjIySrV0PqIbdA4e0mJHQ6nf39fX4lFApdvHixZ0Fap9nY2Gg2m7VajW5lMplSqVQsFgOBgI+tCvcFLzvnHlxyNF48pHD69PS0ejXLFdFo9OnTp6lUKplMKpbNToUhmlIj0IJWLBabnJw8Ojqi1yx9eFGu1o3TUoCpqal4PM5fGlyhb0oYVJrNpjo+L4SoVCqhUIjqVHjbU4fmNFrCAF7CCU1Otttt6Qr34I1GIxaLUSWxWOzg4MBZSTAYnJmZEULQe5Vgq6HT09O1Wg3LEPr095zHKDRzgNp0oC+Xvmjr1xs4MYAr7otCidqez6jHLAU0lXbIIaDvAT6Xy3W/DtfoLqJhWOnUjx5LqokJKf10vou4DpmhUGhkZIRf6XQ6rrYqtYWYTLfbdQ37pNNpWmDLZrMDvDo7I1cXL14E/fQ2X61WaT6o5iFC61gfmp2d1VmL4sDcEBP2kZER57LZaTFE8w2SgJAXFsxcVasnFJQrdOO0+oujho1GI5vNqmddmqYkTib41WpVEZ8HUqkUFjgJznjvaQFvOfRTPXy6YjAv4YQmJ53+mnvneDxOy7SAqxpga4UQAnuycBGBcSyUKo4mesE13kDoqZk9a+sZIQDIFvTl0i9tmj5cjb5ccb8UStRKV5wqrR6zFNBR2uGHAHmAd8YK6vU6wk2Ym/CVGMUnIKRoGCL/PfsciUR4xIZ7kEgkIg2Q1WrVdT6IIAmPpUhy4kpGt5zBW2c0Bkin07lcTm2TTkCJOf08fI34z+rqqm3biM8LbR5i4WdkZMR13asnsHXIGY08FYY4pdYTUsgL76z6xYWScoVunJYCYO9Vs9nM5XJ8DODoy5SAiYkJ27YV8Xnhxu1T/5oN3w2KmcTY2Bi4yhkCqfV8ARrMS3D0xclQKMQ3u3Bf7DRP1+/MYPaWSCR+97vfCSGwQxP1kNkK5jMHoN8Jfc101uZccpUg2QJMT18u+rSJfny48PDSEiRLHNKxc+irtGLMcqVE9KO0ww8BLm/wU1NTGxsbqAjT1Xg8DgOYm5vj2yk3Nzfb7bbr9hnYEu0aWFlZqVQqPV/mrly5kkgklpaW0HOU4rf4XuhsNsujZLy3MzMz9P5EM24gEolUKhUYOb8FidKOD9TfaDQ6nQ7WP4j7mFUpwqSuwNIsTbLQNO1sQpS+WCzy+LyCh9IhEDyjeLGTIJ28Wl9fx7Y+/sypMEQSqFTQFZFIpFgsYjMLvQ2rPaAEBeUK3TiV/vK9Wtg443WCQ9+UAAi3WCwqFM+yLL5DmHRs4DdjJyqVCo1qS0tLyWQyGo0SV+nkJ0ZB2nTmhcG8hAR9TsIGada1ublJ2zuwxYzME1/KI/Mk0I6q7373u5lMBooEf0078kipvIYlCVNTU/ysjfPTigrN9KqNuAFhKfRKsgVoi75c+qJN34d7eWmFJQ7g2L14Itgg0lOlYXSuYxaapg0Q/Jam0p7CENB1A60hxePxjz/++Nq1axS86nQ6tEuQxwNrtZoUHuRLHblcrlQqIQiGeEKpVKIncegFAS6+5rq4uIhTW/xJ3HLG0yRQ6/F4vFgs8udLpRLRX6vVqHdS12q1WjweB538lhCCE8+h7hpvWgiBwIvEc/6wgofSLQU3SC4SbZwSSY5U4fAMISZIT6oZxWkrlUq5XA4U0gkr4hjXTJDXU5Rdb90Ysr/olJOZXszxMiUFGzUf89IxjlKpBIbrcxUyonMHUoyRLzzzW9SQRCEuDuYlqC2Q3RcniT/oi5d5UtNECRqV3BGnlpQKRocnnY7RCU4/N3Aq6KWZTi5JD0ucdz724Ycf0sNcW/TlorY1Bf/VPlzHS0vGNYBjl5QTT3JbcFVpRaekMYs3DVfmekuhIUMOAb5utyuUsG07n8+Xy+UzWskzMDDoCToBPNi+hFMBjuQqvvRp8A0CjmLj2P3rpuX84E2wUw45RI/FAP7dotXVVcWyn4GBwSuA9HkAAwMDg56QB3gs17fbbRxCCAQCb85kxMDgWwisO8ZisWw229ceYAMDg285eofoDQwMDAwMDL5xeKPzwRsYGBgYGBgMBjPAGxgYGBgYnEOYAd7AwMDAwOAcwgzwBgYGBgYG5xBmgDcwMDAwMDiHMAO8gYGBgYHBOUTvAR6ZEPtNAjEYKDcGzv72bLRcLp8RYfxLvzoZO6RsAYMRls/nTzc1COFVClETS0tLfaW/MzgLkBQUFuf8OroOBivFAZsaLDWzGsgfehY1nx369UiSQAfwSKfL/8HyHp2dS9THqfCh1WotLS0NWcMAPvwNfYOnRPeKZ6QsMmeHdDrdM5clMvfho4+vjLBvLmzb/sUvfvG6qfi2g0tBx+LOB/B1zlKp9M39fpeOR+ICfRM8kg7N5xXIVfPVV1+9+qa/8+qbNDAwMHhdwFz8dVNhYPAq4P4Gj2iAz+fz+XyfffYZXZdyJEtBA17K5/PxYEI+n6fr6myhAI8vIUIiVWvbdiwWazQayWQSwRPpMR5RQUQOUAR86LHR0dEvvviCrkvBJerLrVu3PvjgA9yiEL2TMKn7EgG8tpcvX3J6vEppdsdLiNItItIZU+XihkScjeZPgFt4nn66xrXK5XIymWw0GrFYjJSBinAaDg8P33vvvYcPH0rXXTsiqRwBlD9+/JjoR8JQ+slLeXVTeOgwdAMUEpHlcrlnDTqCg3GRIUh6KMmLawW/7kqhUwpSRNfLFhQNqUu5qpwT3Irv3r0r3XVVEmfxhw8fUiU8rYaUcpvCv6eiIbZtwyHw61zivJJT9EicY3BHYC8JtC+PpMn/AbpDNCtkJLWicIlcAVqtViqVevz4MSmY5Ae8fItT6FRkAD30qvDw8PDGjRvFYjGbzZI7JRfhpJZD4cMVnorDZYBvtVrvvvvu4uIiUtptbm42Gg0vCqRSy8vLlLmPkisjCRXleSwUCvoLCZSch3LnoVrLsijNZSaTkR5rNpsbGxswZtu25+fnkUoP+YwpCy+HbdvJZBKJAtfW1rzSePO+hMNhZ+BLIkwq0ul0eBrgfD5v2zYSBY6Pj/PavEppdkchRH7r6Ohob28P+hGLxUZGRur1OlVSrVaRZwiJpyzLAnvD4fCNGzdonpfNZi9fvgy27+/vh0Ih+klS4Ein05SEFIsanA/Ly8uxWIw05Msvv9zc3Ox0Otvb29KX2BUq58Tdu3fv37+Px7LZ7NWrV+knzwLu1U2FDheLxYODA/B5ZGQkFovt7Oy4ytpLDbwEt7a2Nj8/TzmkFeBa0e12eVZ4TuHR0VEikUDuaqcUeG1etqBoSFHKS+WkXsCKhRDg0oULFyhfu1AqiYTZ2dmZmRlIiqdaV2NIDQGfL1y40O12ESG4desWEVyr1ZLJJL2cnJZH4n7v6OjoD3/4A+cYoO+RFPzHgDdMdzRlpHaJXgpwcHBw9+7dtbU1iTZ1KS70Wq2WzWbplXJgPXRWGAwGHz16hByyT548CQaD5XK5UCiAY81mc35+3vWlV+HD1XrI4TLAr6+vJxKJmzdvCiGCwaDmSlW9Xk8kEleuXMHPsbExIUSn0zk+Pt7b2wuHw1h9iUaj29vb+kt9R0dH7Xb78uXL+GlZltPRC0eurUuXLiUSiZ2dHSFEu90eGRkJhULiJDrn7BGW5XK5HAiLRqOU9Jqj1WrVarWFhQX0ZW5ujmcmdsXh4aFt2zMzMygSDAYty9rb2zs+Pm61WhsbG5lMBpn6bt68SSmlFaV0uiOUQuS3/H7/wsLC1tbW8+fP0cqzZ8/geUHDxMSEEOLJkyfoL2rAP7gohEilUtevXye2z87OonIuBQUkPliWlcvlVldXaQCYmZlxTWbopXKurUxOTkJtxsbG4vH44uIi/aRSXt1U63A8HofigYGpVAoFudQUAlUILhqNLi8vq7kHVKtV6qAQYmJiYn9/n1hBJPn9/pmZma2trd3dXa+q1Lbg1ZC6lJfKSU0/f/58a2vL1b56KgkHJ2NycpJUWo1hNAQ/SROoL/fv33cSfIoe6fnz5+12m4S7sLBA+cu9oFBFBf+H7I4TrjJSuMSeCkDy4rf0S125cmV2drZarYrh9NC1Qon/q6ur9Bgku7q66hyeFT5crYccLuli9/b2xsfHaTdEKBTqqTSC7aFA8AFBISGE3+8fHx/n0Ym+AP2bnp5W76WMRqOVSiUajSKmEQgEaM41NjaG10pF2ADTCAxmQCQScT5Wr9d9Ph9UmWjrST+2ulBEJZvN4ha98OGn3+8Ph8M9S+l0RyFEmDe/hWG43W4LISYmJsj7Q11isdjx8fGzZ894ymB0nEbuSCQSCASoCzQQaqJer3M+gIx2u423AeEhC+Gtcq6gOWIoFBoZGXHWqeimWofJu6EV4gaHQqASDYNZXyaToZczn8+XTCb5XVeSvKC2Ba+GFKXUKsfRbrcTicSlS5fwMxAIUCU9lYSDZN0XhtEQ/OSawIc9IhjGdYoeqVqtcuGCsepuKlRRwf8hu+OEq4wULlGtABcvXsQ8TLo1mG8ZRg+9nBUBYU5O7djYGN7R+WMKV9BTDznkAR6Kxa9A3dVEC7ZaMD09XavVEBTCLQQDK5VKKBRSLxi4IpPJlEqlYrGIDLauC3i0ZBKLxSYnJ4+OjmjqF41Gnz59mkqlksmkz2P1rtPp7O/vS72+ePGiPpEKwBWGQqFIJHJ0dJTL5XDd6eC40nuV0ulOTyFOT0/TChCfDFGU3qlD2WzWx+A6Pg0M0g1AGp+8oFC5geHVzSF1WHgLlGNg66NF0I2NjWazWavV+qKNQ20LXg31tCAvleOQPBT372JQJTl16BuC17zqjfVIav4P0x1NqF3iYAowQKmz1kNsfKEaYrHYwcGB9ExPV6Cph/IAz2crgFPVXIF4AhYtnO+1tFpQq9WKxaLOIg1HOp2mddZsNutcsUBQBasazgARJq20SsqXJwGnG+10Ok6mDwCEdLCQJp0Scc71SLEUpXS601OIpVKp+3VgFZai9K1Wa2tri79A5HI5qcgpnjJKpVJY0yJgsUpdSq1yg0HRzWF0WC1QwmDWR+HcbrfruoDVFxS2oGiopwV5qRyH9FaHlxj6OZiSnDr0DcEZYKCX4DfTI6n5P0x3NKFwiaIfBeBD4wBqc9Z6iI0vvAan2fZ0BZp6KA/wmK3wVatOp8Mjn3xtj2454wn1et01XmpZVqlUcl191EE6nc7lcs5YhBRU2d3d3drachYPBoPYASHFQ8BNvl7inEsKRywFsUc1wVLQiRcJhUL7+/vNZhM/uRopSul0RyFE9JQzUNo+jcjbL3/5SyIAtXGROTckD4NIJMKVSmh/WUhT5TSh380BdFhToD2tjztZUlFnONe58qcPhS0oGlKU6qlyhEgkwvcH8JeYwZTECSJD8to66MsQnARL4XRgSI8kxYe9/B6HQhX74n9f3dGEwiWqFeDg4IDvDt7Z2UH0cTC1OVM9xJSI1yCdTQMUrqAvPXTZZDc1NUXbGnHkSSIOrOS30CTtFKDvKrTbbekzQNhiwP2yGvAFRDqmn9zFAJFIpFgsYtsOvirQaDTAgnK5zNm3vr7+1ltv0VSA6J+ZmaFdlF7fhYhGo8lkEpuQhRArKyuVSkW95AyVpe0PKAKbxO4SHMgRQmxublLcUlFKpzvCW4jYicM3t6+srEQiEdqqhih9oVDg8fm5uTm+63tzc7PdbmNj3fCwLItvxgbzaROQFxQqNzAlXt0cUoeFUqCuNLhaXyQSqVQqcH9cRTEY0E4f27az2Wyj0RjMySpsQdGQolRPlSNcuXKFNvkTl3BrMCWR+hUOh23bdpqbPvQNAX3hRwyy2SwIPkWPdOXKlUgkgg325PfUWxAUqqjg/5Dd0YTCJfZUgEKhgKUB27Y3Njaw23EwtTlTPcSuOn4uI5/Pu+4jVgzE+nroMsBHo9G1tbVCoYB1mps3b9LSJrb1Yjnt6tWrmUyGthfevn07EolgcQKHl1KpFDYoLS0t7e3tYakgFApZluWMznkBhwpWV1dpuWJxcZFvv0wmk7du3bpy5UqpVMIiUCAQGB8fz+Vy0Np0Oj0zM0OrJrZt37t3zykPy7JwvgL00wZFCZlMJhwOYzeAEMJ1JZUTdunSJeIYipRKJZoDZjIZy7JA27Nnz2ijLOezVEqzO2oh0i2fz7e3t7e0tEQ10M5BPouCFGj9dXV1tVwuDxMdhQnFYjFoLedDLBZbXl7WCbl7qdzAVHl1c0gdFkqButIAhZcEh8gBVPT9999fXl7Goqzf779371673aZNKjj/1nOuI0mB4GUL6oYUFqRWOQL4LIRA/S9fvqSdNGJQJeHgCrOzs1MqlfoqLvoxBOwnJ4JxkAwEn6JH4poZCASwc9v5mKZHUvB/+O5owsslil4KMDc39+6774K2tbU1ingPoDanroc0XcMGhXQ6vbi4iGX4UCg0MzPj6kwUPlxfD33dbldNnIEXcFxyfHy8L19vYKAPOuv/bfiIrMGQwPFojECvm5ZXB2MjCryh36J/M4EZEy1ZYWcfP/BgYGBg8MpQLpf5rnU62vpaiTJ4g2C+Rd8HKEaKn/F4nMeCDAwMDF4l0un0zs4OjeipVGrItTODcwYTojcwMDAwMDiHMCF6AwMDAwODcwgzwBsYGBgYGJxDmAHewMDAwMDgHMIM8AYGBgYGBucQZoA3MDAwMDA4h3j9Azy+yPN6CRgsle0wwCd4B8u8hLID0Hy635DXByWmHODj4WeKpaUl+mCk69fRvymwbXswXWq1Wvho16tp7vUC+v+No1z6UvKp49VIk5uYzvfb8XHWN8pdDAlKeXr9+vV//Md/HHLQ0eTPax7gvb6x/CqRTqdffVqqZrP553/+53/xF3+xvr7eb9knT55EIpFHjx71SzO+N/nqv7uHb48fHR0pEqm9eti2/Ytf/AL/U5Ls10vSKwa+Xv7VV1+9bkJeEZ4/f95ut58+fWq+XfF6kU6ne7qClZWVfrMBveHAF+M7nc6TJ0/+7M/+bMjaNPljPnTzGoC0m9/73vcuX76MdCl9DdXpdNp8HNfAoF9YlkVJVgwMvhXouqHZbOK79vF4vFarpVIp5A/G/5QNF4/hFi8F0HWU+vjjj6VbtVqNrlB2W54BgueQ5pU7M/Jy8AQwUhZqusUz8pZKJV4hp4o/ljsBp4F+OrPzKkB8kxgIYmZnZymHktRTzoTZ2VmkQu92u0dHRzwdAq+QA48RT7wYpcNARSvOFhVyl1Ije3VQUUTdopdcJDXrdDqk5GoRKCihW/F4vFgs8ru8X5ykYZRqgOY40GWpj178129uALUkVrg+yRkukSRxw9XJdJVeqy/+u3qPTqfzl3/5l9AWuu7FEH0nxlm3uLg4OztLxCg0XJNXXW9pQvm53fHOeim/jqCdJoZWnDzhtbmyVGpC4a84vEYW1+ug9uOPPyYbyeVy3GQ4Aa6mJEEiUtJJL9qkgmCaK3+84BKix7f7FxcXu93u2tra/Pw8JctTgL74TxRTRjwhRKVS+dWvfgWJ5nI5JAS0LIuMDcnq8/l8oVAgiRYKBSwYS5VblnXnzh3X5Yd8Pr+3t0eqUygUaGE1n8/btg2eLi8vx2Ix55qrbdtIlISGeGZAIUQ2m718+TJq3t/fD4VC9JNnw+yJer2OlMyXLl1KJBJS9m7kvUUXkLWMUjQimV6320Wa0YWFhePjY+S8CYfDoLlWq3HOe8GLUV7XsYBEDESeq56L1lgUyOVyUE3LshQcRgdJyuFwGB1UC4VDYoVCLul0mpyXMxyiEIGCeLq1vLzM/R03qKOjo729Pb4AOZhS2badTCbhZdbW1pAwVKc5QjAYfPToEUYOLFF5KZi6ueHVUqFanKuonFJkOuHqZLweJmjyX+E9vvzyy83NzU6ns729HY1GvRii78TAOiEE+nLhwgWabio0XJ9XCmkq4KX8g/kfwJUnQghyGp9//nk0GlUMLgqHz5HP51dXVyG+TqeD9GvCe8QB7t69i/T2pVIpm81evXqVfhIBrVbr6tWrlmVRF8hdcGQyGXqTlByOggbeu06ngxSx3KmCPwoOuwzw6+vriUTi5s2b4iTNZW9BCVGv1xOJBOV4RgoWyoYZj8cXFhaw6DI1NbW/v4+01hzI9b68vAyKkTcXEWzUg2z0YJbrEs7x8fHe3h4laI9Go9vb21hYReWZTAbBcMuycrkcZbYmVKvVyclJYtnExATP6ZlKpZBzFwPz7OwsuISfmolKj4+Pnz17hmzrfr9/fHx8Y2OD2wPnFXJEPnnyBFH9XC4H5UCO7a2tLYxD7XabkkBblgVHo6bBlVEKBiKzzv3799UM7AkFh6vVai6Xo4VwkrJaKBy7u7svXrxAKmjRp1w4XEWgIB7SWVxcxC0wh2rjBsUFh7sDKBUpA+VN5lk11c15QaFgiuZORS0VqtVut0dGRmD48Gt4E+gpNS8n44QO/3t6D8rnrWCIphMjhnANpBdEhYZr8kqtPAp4Kf8A/oegyROvwUXhrzgODw9t2ybxYcNNOp1WjDgoSP0dGxuLx+Nk4Hx0g7ndvn0bRbi70IGCBpBNyeaRyHtvb68vlysP8GDZ+Pg4cTkUCvHYiBdo30S5XEai3EajQXdJ8xSQhC2EGBsbg5XGYjG88qrfkjFeZrNZ5wZFemmmKxMTE0gYzx/LZDIUS/D5fJRXBohEIoFAAA2Fw2FSrL4A6yUTvX79+sjISL1epwcSicSlS5fwP4S6s7MjWZE4se1qtYpnpqen9feoezFKwUDuPoCJiYmtra3d3d2+uu/FYWgz72DPIk5Eo9FKpYIp/+joaCAQoFefvuAqAgUlu7u7W1tbkUiEapiYmOD94gYFwVGy9gGUCspATaASzebUdboqmKK5U1FLhWrBA4RCIZ0DDjpOxgkd/vf0HjoM0XRiQoh2u801MBAIUP0KDdfklUKaangp/wD+h6DJE6/BReGvOCg2I11XjDj4SXIMhUIjIyNORkkzDHHCjWfPnmmyQkED7fylU0jZbFanTg55gIf4+RX0rWdFUDifzzc9PU2ry/1S42WiFE6cnp5GinsvJUbotVKphEIh6VwWXQRcxwkkhPX5fBsbG81mk685nRaq1Wqj0YjFYmgoFApVKhVNhfAyRcR/isViIBDw+Xw6J2q8GKVgILnCYaDmsGsH9YVCB1Fisdjk5KS0NDg8BlYP0lufzzfwtIPQ6XT29/f5lVAodPHixeGbc+V/z+aGV0sv1YpGo0+fPk2lUslk0ufzvcYTbjreg+DKEH0nJoVtMPPA/woN1+RVT2l6QaH8A/gfQJMnisFF4a84vEaWwSaFElxfS/ShoAFzqVAohFNIPC6oCXmA57NFwKkQrkCkgpYt+6UDcIZeL168yINO3ZMNHYplHloOqdVqxWKRFqKc2x+k03EUvOp2u/pRpr6AFyxpG0WtVvN6FcYMkX4638NIt9LpNC1QZbNZnQ0BXozyuu4MePRrHj057OxgX0JBdASrWYpYbl8gEQyjHs69P8Ocg3DOuTudzsHBwfDNuSpYz+aGV0uFauE9BmuQIyMjXtsvzho9vQeHF0M0nZg0YHAnoNZwHV71lKYreir/AP4H0OGJenDx8lccXot6ihFHH851tL6Cu140IHqPrRIDHzCWB3jMFvkLZafT4cF2Tg3dcgb26/U6L6UDsJV3tV6vY/4iUXjv3r2RkRFXgXEgfTsWLSKRiMRH58cWnMErafvb8ECwCEs4BMSp6EA8H+yJJEy8uCY5w8JAOp3O5XJ9LTxzRnlddzKwWq32+06v4LCzgz2LOCHFNsEiffIIriJQUOIMgyv6NfxHdVAn5wM1PXBzCgXrq7kB1FJTtYLBILY49TR8J1y9lj50vAegyRC1E4tEIk4NxP+aGq7glUKa9JMmW3RL3wwH8D+AF0/0BxcvP+YcWbyuu444aprD4TBvUbHU6AoFDZil0cIQatasluCyyW5ubq7dbm9uboqTz+VI1GDBmN9CKOVX1AAAIABJREFUP2l7An2+pufKH0c0Gp2cnOS7EwuFAnavSN9awhYGviQGSJ98Ojw8XF1dhWZYlsX3PFPlfFoE1ae9M7ZtZ7PZRqMxgENxBWbB3D4BLNvYtg3aGo3G0tISaMAnYq5cueL3+2dmZmhqjE+UYOMJPDhNmTHv46boSokro4QQXgy8cuVKIpHgm8az2azEwJ5QcJg6SEqMLwz+13/9l75QIpEINsATixqNRr/bUoSHCHoSXygUoKK4hXdQbLPi+7Gpwr5I4pB4xb8WNXBzCgVTNze8WipUS/rK5Pr6+ltvvSWZT094eS196HgPQMEQTScmThjCNZDOMSk0XJNXCmmi/kqlgkVofkuh/AP4H4IOTxSDi8Lh8xowstCpCiqlGHF0iAempqa2trYobIAjCdi2qQMFDaFQaH9/n/brQQ2csa4e6LqBH+zDKUl+qBTXpSPy0uE83EJIR316HusKdCySnwj0Og6rOPynPgbtetaWn4OXTjTiJBUCnnTWi6qSTqbiJz/uKQEddz2pid7VajUQ8+GHH4IG6TCr1/lmTrbwPgzKz8F7MUqTgZIIODec4KxTcLjrcVBYXUSCdKI0l8t5nUylntIJVzqk6yUCNSWkonSCVtJ5Z4WaSuWKAQ6me1XietpYanqAY/eaakl9d1UtLlDF2XG1k/HyWn3x39V7uNq7F0MG+5yDdA5eoeGavOoqpUmVoF/Xrl3DLYXy6wja6xy8F0+Ih7VaTTG4aH73QmIOf8x1xAG10rF46Ysv0sM9zY0PNIpz8F6jXi6XK5VKTlOt1WqKQcd9gOdwfozlnEH60M3rxRtFjD46nc7Dhw9Ppaqjo6PFxUX11xvOFKciAumDIQYGBgZnh1qt5jpGv/5kM68dOzs7p7I//NuMZrN5Wgz0+/0//vGPl5aWvkGpXxCl7BkqNDAwMDgL/Pa3v3XdOvCtHuBx+mKAtWQDCb/97W+lnYODActjgUCg3W67Lk++mcCepo2NDTr6ODMzY/IFGBgYvAIcHh5+9dVXrntTfN1u99UTZGBgYGBgYHCm+Fa/wRsYGBgYGJxXmAHewMDAwMDgHMIM8AYGBgYGBucQZoA3MDAwMDA4hzADvIGBgYGBwTnEaQ7w5XKZzi5Thjvbtm3bVqfzGx44XqWf4UDC0tKSOksVDtS9xmRWZwEuF69va3O0Wq2lpaVXRV1/GFIB3lhIH+N8Y5HP5wfIFvqKgWSjbz4zXwt0PMAZtahpvHx8efOBIeO1E3xqA7z0TWMksj06OlpdXU0mk/1+4LdfICXRYCePbdv+xS9+oXjg8PDw/fffX1xcXFxcfF3JrM4alHHZ6wF8+Pqrr756lVTpYxgFMPg24Pj4+NmzZ7lcbmNj4zxN088BdIxXGl8MNPGdM6qXpPXgwYMHDx6cUSuvDI8ePcLgh1feM52sGBgYnDqQaHV5edm27Xq9fhbJoA0M3jS4v8FTgN3n8/G4DYK6jx8/9p0AIQjbtmOxWKPRSCaTFAFDsnpnJeIkVgbohFV5VWjx8PDwvffee/jwoc/nGx0dbTQaUpCHiqjj6uVyOZlMNhqNWCxWLpelalGw0+m88847qG1lZeXtt99GWQRhcF29BgF+Pn78mLgqxQmdHXTGZnkgC/9TEf6YbdtebFeAB+icNRweHt64caNYLGazWeopf4wzWaJNEaRyxnXz+bxaf3ijvAkpyjcAf3jTrqTyPkKBqWtEaj6fVwQeeX8VFPJbd+/eVQuOQ8onJqnQAER6SUG6devWrZcvX6pp83IpTsCs+Hd/r1+/fuvWrUajIcU8pf6qUa1WkdXNsiyeDtvZlw8++IBT6OqswLeHDx/CA1BmNnIICs13egP9aiUV9boF+cKP+Rw+kJeSZLG6uupaxMvYnVAotroIMYGrHC72O75IrJaMjnSG+AC9oqzK0pqyFGxXSJnf+uyzz9S99hoEXaXjOoJwm/JSNpcB/vDwMJ1OW5aFr9WHw+EbN25QbyuVyq9+9Stk0cjlcmjGsizKSZPJZMD9vb09SiDWbrcpoV4+ny8UCpQSp1AoKMZ4iISqajab8/Pz6MyXX365ubnZ6XS2t7dp0KUmbNtGvpDl5eVYLObV/3Q6jbRIzWYTUQdebTQabbVa77777uLiYrfbPTo62tvbA9NxfXl5GVyyLOvOnTvq0fTu3btI0lyr1ShdIzpI1NZqtWQyadu23+8fHx+nHLJCiN3d3RcvXoyNjR0fHy8sLITDYTTdbDYpPaht2/Pz8+AtsgoS2zXhWkMwGHz06BFSWj158gQJfOmxbrdLyTQl2mq1GmVCdGJiYoLnvUbCYySa9NIfUsvuSSKp2dlZKRfqYPzJZDJQXVfcvn07kUisr6+Lk2hhqVSyLEt8XdmEENPT0z2ZrKAQt4QQ6PuFCxeKxWLPCoGxsbH9/X3k+hQnycKJn/0SKXpZMVU4Pj6uDp+qXYqEaDS6vLxMgXTk37x3797bb7+dSCQoDTlC7pZl6YTToFrIDiBpndTNcDjM+6J2VisrK2trazB/ySGUSiWF5gshfvjDH2YyGc1qnf5HCKG4JYQoFosHBwe4xZPPYrAkOsPh8MLCAm4pirgau7NTCsXWBJcFOGPbdl/jCwe+Ib21tYUEu5ubm1tbW/fv3w8Gg5x7a2tr8/PzlJNXAYWUeYWdTmdzc9M1aT11c3V1lbJlrq6u8qkMyVQIQdIRbAQplUrZbPbq1av000vZXAZ4JKCdm5vDT/xDWWnj8fjCwgLi1VNTU9yhEGBO9IF35DtH0mJkC15eXkaILBqNLi4uUq5fJzCqUYvRaHR7exuOVQjhurSPJjKZDG5ZlpXL5SiTsQ54tevr64lE4ubNm+Ik2TbUBfnI6fv+mUxGvYYthFhcXESvr1y5Mjs7C1eFyCF0TqJW8tf1eh0JnsGTqakpXL906VIikdjZ2RFCtNttpCEXJytbikHLFZo1VKvVyclJinNOTEzs7+93Op2jo6N2u3358mVctywL8yTXtmKx2MjICBJ1CyHQ01gsptAfXnxzc7Pdbt+7d09i+1nwh/Ksf/rpp8jwDZWQlO327ds8eaUXFBRCH0jh5+bmeCJONVAPDYH1en1kZCQWiw1GZE8rpgpv3ryprlDtUpxA/vWlpaVPP/00m82iIWnKy6cvPdFsNvf395EuAVqHuZoQotVq1Wo1V4b3dFbcBOr1OiIE+Im24CVckcvl4MfU1Xr5H/UtIUQqlQKfkQCe5jTVapWaFl93XIoirsbu7JRCsXVwfHy8t7cXDoddvT1B0z8AYC/mo4VCgZww5x7mlDoUKqTMKwwGgwrHAvrJfILB4JMnT9Lp9PHx8erqai6Xw6umU6YkhbGxsXg8Tn1RKJs8wDvnxWAfCYn8owKg2LIsiiFks1ncksZF4XjtkFCv130+n1eLkUjEtQj8Gl2ZmJhot9uYEOmAquUTf1yByiIVClrRn5+6UsuHHKIWpsX9NU9QFo1GK5UKogujo6OBQIBe8sDMUCg08O5NzRrofReBsmQyievQlunpaZ3VATyMeCmUG4qn0B+CbdvT09NkJBxnxJ9oNDo5OXnt2jU+AHc6Ha5sfr8/HA7rVOVFYbvdTiQSlDciEAi4qo0r+BDIDXkwItVWrF9hT5fiiqmpqa2trWvXrvHRiPsKp5krCFhdXSXnGAwGZ2ZmaKIgeRjQRt0USmdFE1nBtqki9IqQsoIqPjUZGxvDm5xUrcL/KG7hp2uGTJTiZHN4JdX0MnYnFIqtAygwXwd0hY5/4Lh+/boQIplM0gCMmQTnXigUQnp1Nbyk3FeFmG46BzXp7Ug4pux0KxQKjYyM6HgG9zX4bDbrY1CzzxVQhVAoFIlEjo6Ocrkc3dKZInAMkMu1UqmEQiGiX6GROpienqaqSGUpak13Bx5TvTrI/TV/BaFVrlgsNjk5iUg1ikSj0adPn6ZSqWQy2XO1zBWaNdCa3MbGRrPZrNVqdCuTyZRKpWKxGAgEei7C0WxGeiFT6I8Q4vDwMJ/PU5BcwtnxZ2pqKh6P87cZ8qcEL++pSaE07GkOxgT4smazyfk5GJHCWwoDVNivS8F0Kh6P0+sgXaxWq33F58EKTsD09HSlUvF6qeDQd1a0dDo9PV2r1RBS1inYE67+p+ctBfSnjIDC2CUoFFsTWDMlB+71nqD2DxIwpRNC0Es/hlL+DIbMnuR5SbnfChV61a901HAf4HO5nJQ3vq9IL0JbyD/vDFw7wzsXL15UWFFfL99AKpXC8gYBK8d9VUIolUoSNyiE8uDBA1oMVi+5KeDsIImf3hiwRQgvdojiYknMKRdMb/FCMDIyMsC5vp41UCip2+26RuDT6TStUWWzWUWQg6L0/IVMrT/Hx8d37tyJRCKYjDtxRvzBQcFGo0H7J4SbNeoEJBUUSiMl3gx0yAPwAlqtVjk/ByNSIYUBKuzXpdi2nc1mG40GrQQDExMTtm2DgZrxebCCOwQYLL0YKaDvrBChxaqw67xTgU6nc3Bw4HXXy/+obyngnJ8p0NPYOdSmpwnaq1Gr1YrFonNxXe0fnKAjdtgxJtwCY51OZ39/vydtXlLut0KvNQ4xxHTcFfIAjzcGvp4xwCdEpAge4kL4H7bB+9YzCK/ghWaRgb/hALFx54WgkPSy7vf77927ByfSbxNOaqvVKr3TI0SzurrKw3FSFBcvKM6ascGEh/76hVcNmK5y9+rlK9PpdC6XU3h/DEiffPLJJ598Qi9kCv0R3kvvhDPiD3boNJtN2lsqhAiFQjxm6xyPqe/8loLCSCTCt4A53wx6AkMgf8EdjEi1Fasr5BjApSBCk8vlms3m1tbW5uYm3QI91WpVPz7vfNdHbAz7+KTw+GDOyhmhrdfr6hA9NxlJHwgK/6PpmnpW2BP6xu7siJfpacKyrFKp5FxcV/sHCZiXJxKJ3/3ud+JkzyZ0kh+m6HQ6XF7cJ9MthZR7Vsjh1CvAKR0wcJh3epc3+Lm5Ob4pEf4UoT9NwP5pE83KykqlUsF7KoJsfOdhoVBQfAbnypUrfD8nlFg928AOHXozoyZ6TvScoK1V1OLKykokErly5Ypt2zzAi87qeBzXDhK1eHEhauGJisUixeeFEJFIpFgsYucFvVbCDKSDQ+vr69iXp0+PTg1QRNq3SC9bnU5HEhDm2uo3rYmJiY8++uijjz6ixxT6o1h6J5wFf7AHArtasBEJnoK28KDOzc1NCpPC5mmtl99SUCgpPPrekzwOKGGxWCR+DkZkTyt2rdAV/boU2pQHyguFAhkaZoTZbFYzPv/8+XPOCgKsCQfik8mkxHDs89J3VmAjbZSjV0bF5IziQAoHpfA/ilsKbmD3HA9B9TxqqDB258MKxVZQRZAOdvKNR/wxhWY666Rdq9/97nczmQz1HTqJuSMmlLx+IQQ2//Jbailj14hrhRIk86Fek3ToQA2mJmqZ9kDXDZ1Oh7aS8nB3rVbjP+noAn5iIWR2dvbo6Iiv0+RyuVKphKNoFLmlu1RcAb7EgqgUKKSyiLnxgBUvom6CFopyuZxULe8mqkLviBvUBO+dFz8lannQkqh11oPWebvdrzOwVCrlcjmSC7/lXKrg4NIslUrUhFcN6C8olDQERw25aCR5KYDnJVJd9Wd7e9t1Sa9UKkkKMAB/crmcM4zM5eVkhbO52dnZxcVF4iRfg0QvXJksUchLoTYiTEEkB6+NMACRaismpZUqVEhZUy05b72YT9bUbDavXbvmZX2urOiyM5Z04pe6KTHZ1Vk5HQ5nI7xiKpVyFRZY8eGHHxJDFNV2vf2P4hYXIjjGBcdLuXoAqYjC2J1QKLbzSbTIey0t2zudpM74IvFHqsS1X8VikY9lVD+JErfUUuaMlSpUM4pTyCuh6yCVeC4NKNJAzOHrdrvCwMDglIATuktLS3jt+FO7/Z3T2zVzeHi4ubn5t3/7t4pn6CyyYhFUIvKbhXK5jHPDZ/FBSXBvfHz87D57jK8CzMzMmC8rvzmgA+797p94w2GyyRkYaOHff/Sjf//Rj/D/8W9+s/vWW386CcD+6w9+8OWPf4z///jixVe//OWf/vmfhRB/are//PGP6ZZmDfzWn9rtlz//OdHQbDbVJ0pe/vzn/+//+B84i/yndnv3rbeOf/MbNZHSrZc///nuW2/hf0UNEv2cyDMF1tRPMbcFtohTyBoRXVoOMzD4RsMM8AYGvfHvP/rR8W9+88d2G//8nx/8wP/97//rD37wp3b7X3/wAyHEy5///Msf//j4N7/56mc/+85//+//5/r149/85t9+9KM/ttu4pV8D3UIN/8W+efnb3/5WMfb88//6X//P3NwP9vZm//f//r//23/bfest//e/j+bQkJNIav3Lv/u7L3/8YzwghMDgrahBov+lMl3TaSGfzwcCgXA4fIrvvtjJhWOTPp9vfn5+bW3NfKne4JzAa4XAwMAAOPr1r/85Eul2u3988WLv+9//JyH+8LOfdbvd3//d3/2TEHvf/z5u/XMk8k9CHP3613988QK3/u2v/qrb7f7hZz/7JyGGqUEHKI6yvAmpdWrC2ToeG7gGAwODNw1mgDcw6AN/fPECYxuAIdB5648vXvBbXo/p16BJW19NqFsfoAYDA4M3CmaTnYGBgYGBwTmEWYM3MDAwMDA4hzADvIGBgYGBwTmEGeANDAwMDAzOIcwAb2BgYGBgcA5xJgO89Enh06qwr4Q3ZwF8YXiApDUS8vn8AMlvbNumr0brpM9ptVpLS0tDETooOKlnisE4+U3BqfROSppwKjiLOgmDpYailKav3UsYvIEYfkjSyeVz1hjA7r5zdtScP6ysrPSVu/PskE6n1d/6QKKCvlKJGxi8Ceip205g5l0qlczHXw0MOEyI3sDAwMDA4BzCfYBHOAIhLx5rRaDDdwIe8eC37t69y2trtVqjo6NUSh3l4A8rIir5fB7P8JBFq9VKpVKPHz+mGsrlMlUoBTfK5bKTJPTi4cOH1BdEC3E9m80Wi8V33nkH9XhxSU3wrVu3Xr586XqLmlPUQ8TTkxScpOKHh4c3btwoFovZbJYI448p4jz5fJ7fBZe8RMY5oKDcldXO+HM+nyeJK3ii4CRvSB2qVejkYGLN5/MkFOeKktTZfntHagmaQa1CoHRrdHT0iy++8Op4X5FwzTq5zeZP4NqcFyVq3XYS1mq1rl69WqlUpqenIS+Fm5KYz+WuaYY6DOzLEXlxT+oFNxzOVXSZ66FOZ6VnFGJyZYurQur4eSk7rRQ5P11rUgxJargOLhJcpeYMofPFSi+DRU8fPnzo2uiQtuwywMNgZmZm8CkcZD2C2SBLFa43m03KRoxbQghkG7xw4QLlh6YsPShVKpUov7Jr0+++++7i4mK32z06Otrb23OlO5/P27aNFITLy8uxWIyU6eDg4Kc//enTp0+73W4ul5uenn7//ffxkyeJL5fLhUIBSQObzeb8/DxXoNnZWXS/2Wwixa/f73/w4EEul5udnf3888+j0Si4ZFkW+mVZFrjk2i9O8Pj4OLII0629vT3wrdPp8LTZOrBte35+Hh1BOuSf/OQnwWDw0aNHSDP65MmTYDDIH5NYIeH27duJRGJ9fV2cJDwulUquGZaQFIs4EA6Hb9y44azTi9UTExNbW1u7u7tUm23byNut4Imak7yhQqHgNcYrdHJgsQohpqenvQX1tVID9E4IsbKysra2BqoUArVtO5lMInfk2toa8tYDtm3HYjGyLyHEwsKCzhivqFNts9lsVgjhbE6HElfddtIWjUafPn2KZJpPnjwJBAIKN3Xr1i1iPrQRrkPTDPUZqOmIvLgnOdtarcbdZjabvXz5Mrqwv78fCoXop9RZUqdarZZMJr3GeC8xqdnCFVLTz4+Nje3v7zebTfzc3d3d2toiqz9Fa1IMST0r9BpcCF5Si8ViIyMjSCQPVKtVy7J6euBisXhwcIDaEonE0tISmcmQtuwywNfr9UQicfPmTfxMp9MYJHZ3d5GlCtcvXbqUSCR2dnbESQqmhYUFZJ+cm5ujPLuojVLWI1VGp9NxZe76+jo17ff7FxYWtra2nj9/LjF3Y2Mjk8kgnZRlWblcbnV1lfpGmaagN/TkxMTE/v5+p9M5PDxcXV1dXFxESoloNLq4uLi6ukrszuVyGNKi0ejk5OSzZ8+cjAOpt2/fxs+5uTkhxJMnT5ydkgi+efMmZRTGqDYzMwO+BYNBy7L29vb036va7fbIyEgoFALHHjx44JoktFqtTk5OUgoNYoXzSbB9Y2Pj008/XVpa4pogAZ1Fx704oGC1ZAyw+VgspuCJgpO4tby87CVTDoVODizW27dvu+aqlzBY7wAuQS+BHh8fr66ucgVeXFzEM3QLC9Ve9uWEok7Ry2ZTqRR4yG9pUqKp2xIUbgq3yE1Fo9Ht7W3LsjTNsF8G9nRECu4dHR212+3Lly+jKsuytre3SdypVOr69evUu9nZWdTg9Mn379/38pMcrmLqyRaugZp+HhRWq1UqNTIyEovFTt2aFEOSAj0HF8BLaiCAxgv+0qL2wJz/MzMzePM5FVuWB3hkYwyHw85E0dFotFKp4OV1dHQ0EAjQnKjdbicSiUuXLuFnIBCInOTATqfTDx488Pv9CJ/GYrFGo+HKXLBjfHycmoY2tE9SUgKkE3RlYmKi3W5jFiOEoKZDodC1a9fgIDgw7eVZucbGxjABxE+yKy8cHx/v7e1xLkmi5eh0Opxgv99Pe9+CweCTJ0/gYhAWxlRaH5gRh0Ih9cJHJpOBc0T0KZlMKh7GtObatWvcQiRATzA5pb5YlgXnQlCwmnMM+oraFDxRcBKy47KW3hU4vHTytMSqwGC9A7haegkUAwN8CkDmII0ZwuFtvaCos6fNcg2hW5qUaOq2BIWbqtfrPp/P6RA0zbBfBvZ0RAruQfGmp6ddQ5iRSARZg6Ekru6aT48AKWbG4SqmnmzhrND0836/f3x83LZthITJh5y6NSmGJAV6Di6il85zJuPFALWpPTAJlONUbNl9Dd51hKMljVgsNjk5eXR0RJMsya1z8dA6wfT0dK1Wazab8XjctVFgenqaFiq4cXJUKpVQKESPqYcrVzQajVgsRjXEYrGDg4N+K+k5DwCkCYpUEPIOhUKRSOTo6CiXy/VFA8Unke/Sa9GIFnI2NjaazWatVlNXOzU1FY/H+ZTTFdls1sfg6hYVrCZj4JE64c0TNScld6aAWidPRawKDNY7CV4C7XQ6+/v7/MlQKHTx4kX6qePmJPSsU8dmnehJiaZuS1C4KeHhSUU/ZjgAA9Xw4l4mkymVSsViMRAI+JQbkhSkunZWH/ps0ffziD00m01u9aduTYohSQ3NwcVLahSYlF6B+vXA4pRs2X2Al7gDIOiBVQQpViYJA29C+B/RDCyEuC7lSiiVSlI+HOfRl1QqhTUSAhYRelZOiMfjtBwC8AiYJpxccp1KO8VABRERwhIL5r99EQBgGovX4pGREefiOsVzNLuJI3aNRiObzapfnlAnhzOIqmA1GQOfOCt4ouCkEMK56HDx4kXXIV+tk8OLVYGBe8ehEGgoFBoZGeEPdzodPnkdwJP2rFPHZsXJa0dflPTUbScUbgqN8rcxoC8zHHgo8oKCe+l0mpa0s9lsv0f8nZ3VmQSTmPpii76fR3CiWq1yqz91a1IMSWpoDi5eUqOYX6vVoulLvx4YOBVblgd4zHRcl4GloAfmX/g/Eonw4A+pCNjKoxn1et0rRI8oCper67cFIpGI5Mr7/TIGVJzX0O+HWZxcQtzG1dRDoRCPFXNVkwJTqESTBieCweD9+/f5WgPgDPWoo7Kbm5twkblcLp/Pu7LFyQHXjxGpWQ1j+OSTTz755BOa6ip4ouCksyGveKxCJ09LrABpsqbEe1ZIUAgURsTlS17AaV8w4Z7vAX3VKdksgrHU9263OzY2NgAlXrrthNpNuW490TTDgRnoBU2PJ4RIp9O5XE5nzCM4O1utVr3e6V3FpO+d+vLzQoiJiQnbtvkL7qlbk9eQpIbO4NJTaghM/vKXvyTa+vXAvKEhbdnlDX5qagpbx/GTtv5HIpFisYhlfHrJgze8cuUK3/u3srJSqVTEicekvU7YlS3cph6Cbe+iQWJlZSUSidDGDcCyLGkbaqFQoH0WOsBuBdrkiUMmtCNGE+AS7SnF/kZEn5zNTU5O0ki5ublJ8RyoNe3hAt9cXzK8IB07WV9ff+utt8i7AdAG2ipi23Y2m200Gq6+km+Lw74PvnWTY25uju+q3dzcbLfbEgd6snpiYuKjjz766KOPSPsVPFFwErf4ZnhohVOmap3sS6yLi4uuxKAJcpqaElf0ToJCoNikQ6EX6p042b9DL4IwYb4xygvqOtU2W6lUwEM0l0wmo9GoJiU6uu2EvpuCXy6Xy5pmODADFYz14h7Rhut4VeUjRE+gs/xsRTab9fKTrmLS9059+XlxsixdLBapR6duTV5Dkho6g0tPnUdgslAo0PSlLw/MGxrell0GeCx9ra6uYs1gfn5+bW0tGo1allUqlbAeFggExsfHc7kcuOn3+/FVVCwXvXz5kta9bt++HYlEsKqBcxSpVMprKhqNRtfW1gqFApre29tbWlpyamQmk7EsC3XGYrHl5WWd4D9HOp1eXFzE2nAoFMJRwJ6l4P0DgYBt2+ASrazs7e09evTIa4rACX727BlthoxGo8vLy7ScI4QolUpe+9u9OjIzM0OLRrZt37t3z+/3kwaMjo7u7u7eu3ev3W7TYl6tVovH407zOz4+vnPnjjgZ0oLBYCaT8YoNBoPBcrlMHFhdXS2Xy04OqFkdi8VSqVQqlaJpuJonXpzELWoIWuElU4VO9iVWznyJGN7Ezs5OqVQasnccfr9fIVDLsnAmCr2jYw64hQOEMOFwOEyBTRzd9lrkVtSpttnZ2dmXL19ScxQzV1Diyl6u264UclIVburBgwfhcBh8I23UN0OsFp0TAAAgAElEQVQdsvuCF/dgXOSEcSCqLy+HzpI64YyWVw2uYurLO/Xl5xG641YvTtuaFEOS+PonNyToDC5qnUfvxMnpCdHLYBUYzJa/hq6BgcFpAJ9JwDLkNxEff/yxtFtiSLyxDKnVas7tI99avGIxHf361/965w6+0tHtdv/tr/6Kbv3hZz87+vWv8f/f/c//+Vf/X3vvF9vWkeaJlu5kZppCjN1ucWDeVUNDe4Eh92WoNbQAA1LosQyIQaMfOhagICC1iJ8kSFgE6rF8gQ1IJeT6pdk3grFXiumXJC2yJxIgpQ14G9bmmp2GyRuilzCsAOlQDYzFVkM9VJpKtscYMj3JLO/DD/r2S51zikVK/ifX70niOVXfV9+/qvNVnfMNDRFXn7322pfb29TDZ6+9Rq2cevhye5vfRs1brVa9Xr927drRjuvxhPkWvYGBgWg2mx999FEXL6Q8icAD1tTUlG2C0ODBofnBB/9w9uw9IX79b//t7H/7b787e/aLDz5ofvDBwPb2/bff/v2FC894vX/x1lt/6vX+4Y03/ijE/7x82fVf/svvL1xofvDB/bff/jc///mX1eo/nD2L3r45P6/oYefUKbrt9xcufFmt/puf/xy/VCqVQ75f8KTATPAGBgZiZ2fn2Wef7egYyhMKfB1MCJHNZs3s/jDR/OCDT86e/b/+w3/4f//H/1j9+793Pf+88HoHtrc/vXBh59Spr6rV//PnP/+qWv39hQtfVat/9u///bP/7t/dz2ZbxeJX1erA9vbnr7/+u7NncRvm7/tvv/2Mcw8nXn4ZK4DmBx+gB+Lkl7/85Xe/+91HKIqHhp5Wq/WoeTAwMDAwOOb4qloVQjzj9eLvTy9cwCM1/v7m/Lzrb/5GCHH/7be/+MUv/uKtt6TbhBCfv/76N77zHdzWXQ9PG8wEb2BgYGBgcAxhysUaGBgYGBgcQ5gJ3sDAwMDA4BjCTPAGBgYGBgbHEGaCNzAwMDAwOIZ4IBM8PkveRfkjdYed1lo4cuBLq/ofvXdCKpXq6OP5xwn05ePDdHLkBvbQgE+Q8i+w8o9db21t4fNbovMKC080HqaDc1qaRSgWFhYOabGdguqfPkIbOBJXfXDguuORWUen3Aacvv9/eKDSHb6/e3gS3QU98x58B1haWtIsSWRgYIubN296vV7b76vgg9JU1DIajep8PtngMAiFQvQlcycUi8V33nnnIb82jc+b4/O6D5PuEwoemXV0yoGKhUfO0tbW1q9+9at6vX7z5k232z05Odl1zYLDwEzwBgYPD2baNjB4GuDz+f7u7/5OPGqXt0/RU4Kop6eHpzuQJaBC9zxdwC/Nz8/z3ra2tgYHB6mVOlPBb1akI5D96Onp4UkkFMy4fv069ZDL5ahDKd2Uy+WsLGEU165do7EgRYbfE4lEJpN57rnnqDaarZTUDE9NTd2/f59fsuWEQyotJZTZMyJkze9xQop0KJcY8l3gSsp94TZiWKFlqt0yODj48ccfc34uXboEUUPX3RmYNGqFgbUVtTjIjV+7ds1Ws05KLxaLU1NTly5dsk2rSvl2q/o+++yzF154IZPJJBIJdEtNQPH69etEl5J+1oFwLThld61uQj3s7++/9NJLGDtxqHDJjpzIthW3w3/6p39yaqKwamlo+qFGfN2kJdtD21wuFw6HNzc3/X4/Ve5yMlGJDboEZU1NTW1ubnKXEZaKedQ/Qg3qWgnmQVwv3Aas/DhpTTJvyQ6dXFXomZamCvRNWh1zhBBffPGFFJmpiZWKbdCT8udOw7RVwZE3kaAZ9BQ7KTYT/NbW1rlz5yYmJvC1ehRc2t/fbzabs7Oz/f39+L1SqVDJPFwSQqA2wIkTJ6ii39bWFooLoVU2m6WanrakX3zxxbm5uVar1Wg0dnd3bQefSqWKxSLqFi8uLvr9flLP3t7em2++eevWrVarlUwmY7HYK6+8gn95HcBcLpdOp1Fao1KpzMzMcN1PTk5i+JVKBZVzUZoJVRk+/PBDn88HKYVCIYwrFApBSrbj4gwPDw9T1b+2nAAoT3T79m0SRT6f50WvOaHd3V1ooV6v83KuqVSKE0qn07bmzlWwsrIyMzOjU2ZRoWV8GbRQKKBDqfhsOp0eHh5utVrxeLw7A4MPkHhRfMk2rOiIGkC9UdDimlUrPZPJnDhxotVqdVFh7Fvf+tZ7772HChw3b960fjJ2fn4eBdGz2WwikTh37hz9y0WNsmNwHyHE7OysbezY29ubn59fWVmxSuzzzz9fX1+v1+t3796FnTu5ZKdOhN9TqdTy8jKUVa/XUYSwbRMnq+boKNRIkGyvUCigbTQaReGvSqUSjUYVJsqBKmdra2ugDpu/fPnyX/3VXwWDQarw3Ww2eU10gIeaRqMRCoWKxSJqwYEoxTHklqmsSDabDQQC4+Pjol0gzWQye3t7uMRrqipcVdO0OlKBjkm3xTe+8Q0pMks3fP/734/H4+qgJw2T+O/v78cwnVRwmCZthakIekI5CXLYTPDlcjkYDJ4/fx7/RqNRRJydnZ3t7W0YkBBiYGAgGAyiIOCdO3dKpdLs7Czi2vT0dCQS4b3R9sPQ0JAQwqkc6urqKpFG2d1SqYTSzgSURo7H4/CKUCiUTCap1K4QgqqAo1of3TkyMoJKgrzkuTgoRUzFjIUQyWQS5ShQopvPrBKrFy9exL8o5Ge7lyMxfP78eSpc2JYTwsjISKlU2tnZQatisTg8PCzNIvidqhdjWYBK2OBhcXGxLSGuAsQpW01JcNJys9lcXl7m8pRKoEYiEaq23p2B4dKVK1ec7KFTUQshAoEApyUONKtWOoXXB4GxsTFwPjQ0FAgEaCBWUSMf6OQ+BOpB4UHC2SW7cyKYKPkCpihKYCqa2Fq1NKKOQo2ERqNRrVZPnz6Nf0OhENY30m0KE5WAyuILCwvvv/9+IpHAkF0u1/DwMJU239nZKZVKbau85/N50r5gcYzfg2Lh5ODqQBqJRGC6KCqNwKJwVX3T6kgFbU1aLRZNSCNycnkgn8/T/UKIeDyOxbpCBZ020RemIui1nQQJ8gSPRWV/f7/1EcTn821sbGBRPzg42NvbSwuKarXKHyhR3x5/R6NRDBh5Ob/fv7m5aStc67wF/5GK5pbLZY/HwwsJj4yMoN4z/iXSbrd7dHTU7XZLhCqVSq1WgxkBQ0NDeDjAv+TnTmg2m7u7u1xK1odsQr1e5wy7XC46SNWWE4Lf7/d4POVy2bYV8XDz5s1QKETJrkQiQTxAIJxQrVarVCrWcXEVuN3uQCCgloZw1jLiJg9hpB36l8o6dWdg1WrV4/HwofHFEEFf1EIITguavXfvXlulS2wcLcgm3W63x+ORxCgsU5Q4cB96XuQ4efIkF4WTBylcsjsnQisnKdk2UVi1BP1QY0slFArFYjH1qXWFiVoxPj5eKpVGR0f5BMD9zhrKbBGPx1GgHSlZa8W//f39V155ZWxsDFTaBlLudASFq+qbVkcqaGvSRwI+IoXLiwO52Rqhkwq6aKIvTEXQazsJEuz34G05pv0Av98/NjbWaDToSVRaw/I5jDYbYrFYoVCoVCrqCSMWi9G+hZP/bGxsuN1uuq2LGpfYVKMe/H7/3t5ep520XQcA0gJFaqjJSV9f38TEBOYSp/y8ODAmt9uNI7jJZJIu6Uw/MD7+C3yv7RidtFyv12u1mtThyZMnbTvpzsCEQ8Cy4mEq/VHhQURJJ5fsTp5dLIMUVs3RaaiREI/Hs9ksdr57HDbXFSZqBfIQUl4HP+bzedv8vC1oK3dtba1SqRQKBekGHLmnxBKgE0g52rqqjmkdUgWPA2yHqVbBUTWRoA56mpOg/QRvm3RCxgCbClibEKSoh2cd/I1kEW1nth1VNpttfR3WI4iRSAR7DwTbbUsFsKnGe7DNyKlhlZJt5sOqS95Qn5OhoaHt7e07d+7Y5ufFQd4GW2jWbWBrWu/kyZNSqOWLRMDq9rZw0rJ1fVCv152mge4MTAhhXbraziLdKV2ipan0RwX1alK/FYeTS3YnT6sdqqG2ao5OQ40V0WiUNo8TiYR1v1ZholYUi8VEIrG5uUmb3MDIyEixWERXbfPzlNF1Em8ul1tbW6NELkEnkHK0dVUd0zq8Ch4oFMGHYB1mWxUcSROrMNVBT3MSlCd4LBNst7ikjAE2kPC31+vlSVF6ELSmfMvlslPSBrMLD6C23wfwer1SjOj0kyAI/bwHze9dEKxSUuRq3G43T4ZzPXXEycDAwKlTp65fv95qtaz5eWHZCwBLToTK5TKeiqzj4hsN9Xqd64tLni4ptAyd8uyTYi7pwsCEnT3k83nrM31HorbSGhkZ6UjptqOjVYh6Qu0OVveBAG2fFfb29rDdA9y7d8/2UVLhkt05kbVVWyismqOjUNMW0Wg0mUxaF3MKE5WAT68kk0npwKAQAmPJ5/M6+Xlr5px7k7T1DmgGUgkKV9U0raNVAcE25uhDGpFT7lPYDRNQqOBImjj5aUdBz2kStHmCx9YRWSS90uP1enG6WBx8lGNzcxPx7syZM/w05tLSEo5eIybSuQaYo3AIcDhuwE+lIvUkfR8Ap1foRCL6pDM4OsBpCzqoCVfkB4t0ACnRaV6cOKXzYhK5sbExvAcihFhfX6d0WUec4IROOp0+deqUrY1iJUFnvqAFzCvggQiR0KyEpqenq9UqtA9+eP9CCEwM/JJCyzjFk0gkEFzoki26MDAhBC7xE6qJRMJqDx2Jmj91cSPUV7p1aBsbG1jkqYXQNUjU9N7BwsICP/EkIZ1O09n7tbU12+OBCpfszokkX9D5OJfCqiVW9UONFdKbqEgbWB+vFSYq3QmGp6enISiStjjY708kEjr5ecwHdH6KsgI4LMy33rkodAKpBIWraprWIVVgC6eYow9pRIqZQpKAOHiJ8YsvvnBSwWGatPVTRdDrYBJs2aFer9OBPZ6Iy2az1DCbzSaTSUoU8O2oubk5vPAj/R4IBAqFQiQSwSVb8G0bvChCnfCkE9+HQ/qO2vJ/R0dHiXl63cV2LPjRlhCxQbyBBJcS3eMEYnhychLyofttOVEIR3EP3+lJJpN4c8Z2yCQlK/i4MpkMFyn1T6rEJbWWeSt0CJay2awkty4MTBKvNW/MoSPqbDYbiUTeeOMNW806KR1DlpJmtqQhNLJMLgQICkOg30GRuMW/Cpsn93HyMtwDRUgSkzq39qnWF35UO5HUikcJpyZqqyZohhpOi2uNa9Y6HGJVYaIEMCz1wG/DDQof5MPnjEE7CAKcE4I1WElak5xOiopOrtrSMy1NFXRk0k4xh+uOR2b6Hd2+8cYbJD3qk9uALXWSttU2uAqOpIliNtQMegpbsp/gDR5PSN74ECA529MATPCKqfpJx1Oo08cNx97GHgdIy4gHikajMTc39zAjsyZMNbknCdK7lQYGBk8ccH6+0z1Bg8cZLpfr9ddfX1hYeBBFaw4DM8E/GcB7pbu7u9LLMAYGBk8QUqlUb29vf3+/KUlwbICjJL29vdVqte2pyYeMnlar9ah5MDAwMDAwMDhimCd4AwMDAwODYwgzwRsYGBgYGBxDmAnewMDAwMDgGMJM8AYGBgYGBscQZoI3MDAwMDA4hnggE7zOFyiPFp1+TL4jpFKpjr51z8G/Aq3DJD7H2B2thwMo11qHw+Ah40i8bGtra2Fh4ahYOgy4p+hUl3hUnoIqYZL9H14XVAx3amrqrbfe6jrgCL0vz+vggQbVo4XtkPHjIYfQaaGTxw3PPGoGniKEQiH6pLYTlpaWeMkgA4MHB3wHm9egfEwQjUbbvib+aD0lnU4PDQ0d4Sen8Ln4RqOBz4lfuHDhqHruGjrx6jFBX1+fldWbN296vd6FhYXHp9jjw4dJ0RsYGBh0BmsRWIPHDdFoVF1f+GmA/QRP+aKenh6e4kAmiorM85QUvzQ/P89729raGhwcpFbq3BEVr+O/EA+aXeG7bwAl08DhtWvX0IOajVQqheZTU1P379+3vYSr+k7uNBD8CPYSiUQmk3nuueeo7Ju+6HAzKQVKVHCIG65fv066lhKPXIxOpJ1MxQmSCfFueVecbSlViGG2zUBy0fHenH7P5XKXLl0Cb6lUqlgsTk1NXbp0id/mJBCrNjsVr9VKSUqcSYWXCWaZ3IOsbMBC9vf3X3jhhUwmk0gkbM2ybcJZzao4hKfwvChS4ryTo/IUfg+KgGnmclGIhcrKOQ3Bqlxb8OH09vYWi0UavpPueEOi0tEGgZU9a3iU/E4nGhD01aEO+Fz7/DbJW6UUvW0r/ZmlI0lyI4ckpcALwaqtixjGKCKRCPiUNgikIejwbDPBb21tnTt3bmJiAl+rn5iYiEajmIFmZ2f7+/vxe6VSoYqEuCSEQJGiEydOUEXUra2tF198cXFxEa2y2SyVmLSF3+/3eDy8WHU+n0ddRc2uUqlUOp3Gd/8rlUo6neYOtrS0tLKy0mq1pBqLUg/FYhGlIFChlV/a3d2lKk/VapWKh+pDGkgoFHr11VeFEFevXkUVqQ8//NDn83UqOp/Pt7i4uLa2hntQzPTy5cvqNez3v//9eDxulVUul+NinJmZscYpmEooFKKBwFScaEkmVCgUeL3RaDRKXfX397/wwgtdb54Vi0W/30+i6+/vn52dbTab+H1ubq7VaqHeKH5Hq3Q6PTw83Gq14vG4ECKTyZw4caLVauE5wEkgttqkPp3Eq7bSyclJOCCvJq7wMvF1o11cXPT7/Tyqzs/PX7lyBTJHdcu+vr733nsP9alu3rxJ/kXC2d3d1ZmVbVkVR+QpxWJxZmYGUoK+fvSjH7lcrkN6ysDAQDAYpBLd+Di8TvFWwne+851kMkl1byWolSuBD6fRaFjjklV3wuJKPBq3RSqVWl5epqJny8vLvLCsbXjUiQaEjtShCPhc+61WixdIFRZvJTi1ajuzdGr54utGDkXDs65cuVIqlbD+W19fL5VKV65ccbKuYrEYDodR/Ckej4fD4b29vbakNXm2meDL5XIwGDx//jz+jUaj8P+dnZ3t7W2qGw0nQeH6O3fulEql2dlZzCXT09NUKQ+9UbHboaEhIQSvVC8BxZJv374NXvf394vFIgoz63SFQs6Li4vYHkMxZipRLIRoW6wFPcTjcejj/PnzVLAPzFDZXbBqWw1aDfCMUsdCiHg8bptK6lR04qBO8MLCwvvvv59IJGgUCiSTSTgzl9X+/v7y8vLc3JyTGIHV1dVgMEifx5+enhYHlbBt0Wg0qtXq6dOnidu7d++CBNXP1uxKjXw+T+MSBxIWQiwvLyeTSezvomw2+aEQIhKJ8OLugUCArF0hELU2bcXb1kp5q7GxMbiDwsskow2FQslkkspRCyGI8zNnzkxOTtLcxgFtwvGtwnGCLatH5SnVatXj8UC2mAilaA506ikul2t4eLhYLELgOzs7pVLJWv1djfHx8VqthmU0R1vldgpb3SmisRpQDZkKdq/pxINteNSMBoSO1KEI+FJtrZGRkVqtRv1I3kpwaqUg1J3lN5vN3d3d/v5+GLnP57t79y53dqy50+k0ic62EwQlNAyFQrZVgK3Q5Fme4LGYJaY5fD7fxsYG1suDg4O9vb30AFGtVoPB4MDAAP7t7e31er34mzZCkOHx+/2bm5tq1kdGRkql0s7OjjgI8fiCv05XUrQVQgwNDdVqtUqlgn9pdnFCvV73eDxUM8DlctEpJDhDKBSiZHIikVD3ZgusJf1+v3rF3YXohBDj4+OlUml0dJTPcArwuDY0NIRFfaVSqdVq8EzpEv0i2bew+KoVuCEWi0mLTesjFO7UCVhWwHWtipaWF8LyJOf1ent7e+kqTS1CCIVA1Nq0FW93VqrwsnK5zI0WdKvVKp56MTRrhxwQ2vDwMGkTwqlWq+qGtqweladALG63W50T7sJTuMCt0tMBgjg9UhPaKrdT2OpOEY3VgCVz9jhstakTDTg6VYdTwI/H41jPIQ0eDod5K8lbCYpWtoS6tnwsE/kOFwcWH+FwmD8tW4GgxKNEW1cVnXir/R68rZppy8fv94+NjfFa9FIg5pMi7RPEYrFCocAL3TuBcilS3NfsisflLmCVEZcGjMbtduPIazKZ7IIEZUdjsZhij6oL0YmDByn+9NkdNjc3/X4/bS/5/X7bxFHbBZOEeDyezWax3ShtHSUSiR6G7qYEgpOf6PiPLZwEoqlNCV1YqcLLhBAbGxtut5vYk6KhJmgIPT09+nOGLY7EU3w+361btyKRSDgclnZhObrwFLhJPp/vIj9PQHrPmqg/ZAjSgSIat0UX7GlGA6BTdTgFfNqZXltbq1QqhUJBh1VFKydColvLj0ajhUKBXI8/t/T19U1MTAghKI9li3q9XqvV+C9ut/vkyZM61HV4tp/gbZ+ckCHE3oaUKJOiPJ7t8DcyCdil0HmgFOxBcGtri6fONLviaRzg5MmT+gZtnQBIGki+YbPkkOczkW/E9snk5KTtHlUXohNCFIvFRCLR3Snfer1OfhsIBGgfC6B0OofVVGzTPxzRaJQ25xKJBD34JpPJ1tdhm4/VhNMCXL2AU0AhEB1tiq+LtwsrVXiZECISiWBXlYCdNZ2hEbLZrKSC7qqaHqGnIBmA50WPx8N3YQndecrIyEixWERY6zQ/DyA1WqvVfvazn/HfDxmCdKCIxm1hZa8tNKMB0Kk6bAM+5a7VtCSoWznNLOIQlk/HhgqFQiaToYMmW1tbOLzldFADcLvdHo+H/8KjhBo6PMsTPB4LbHfLpAwhNq7wt9frpdSHOEg7iIMYxDMJ5XJZJ8+MXMpPfvITSp1pdgUv4uZbLpfxJNGWKPXA82k8jErZe+RJNLt1gsvlunz5ssfjkVyuO9Hh6x/JZFI68aQA344lFVvFaP3qhdVUnHLjTohGo8lk8t69e9aupM/p8JBUr9fVckDu2rrysP4OG9Z5ptcRiLDTpqZ4dazUyctwSYranX6gwyqcw3wv5UF4Cs4uWTPDXQcZsJfP57vIzxOQqJ+cnKTnp8OHIB0oorEaVva6aKL4Bk536rAGfGvu2vbgiIS2rayEjsrysX2OIIYvTASDwd/+9rfi4LyzLUBdihL8Br7RRpf0ebZ5gscmLs0NdDTf6/XSmyEYwObmJsZz5syZYDBIj4xLS0sbGxviYA6g4xi0qGm7vYFcSjqdpiyKZlfIvNEjFG6bmJjQf5RBD7TsWl9f565bq9Xo5BeGyRWgCeltB77tROhOdHRUDXEnnU4rzhIDtIlIsnK5XGjOj7inUimrGGEqtGiFHduefAFghTRt4zkP3jg9Pc0PWq+vr1erVXSF+ILjr+BEPSKXyzUxMcE3R/ESVKPRwO/06geckE4DKaAQiFqbTuLtwkqdvEwcHK6kp1tOq+3QSGizs7P8JDY+vaIjHCuOylOkt9dWV1dPnTpFsxpx3l2QwfNcIpHoLj9P4OdwxVGEIB0oorG6oRTfdL7BpxkNgO7UYQ34mMPooCglJtVLk7atbGeW7ixfEh2OImJlQ+dhv/3tb8fjcetBDS4uUOdRgq56vd6NjQ08bfJLHfDcskO9XqcDujw5ww/4ZbPZZDJJiUG+CYQlLfIk/PdAIFAoFCKRiDUZawU27ZDlAxRd4W9KUXI+qQc0t6Y1FNSFEJOTkxgOMk58RyeZTGazWWvyyipJ8MCZ5P3wHmi/qlAodCo69EkDRHNr5lbi7Y033iBdc2m3LOq2FSM3FZKSAvx+8fUsE78ksU3iIjlIrFrBd/54b/x3LsxsNsv5lyxKIZCWgzY7Eq/CSukFqpazl9Gd1g65BVIP1AqcE89cOG21qWb1MJ7CdcGlZKvHLjyFACZJOJINODWxDgT9SOZk1YUCXHTEhlp3TtFYamUL3pYHasmqnYKqOop2pw5rwJcCAiQP0pKm+JAVrZwItZwtX20S0tEHjBFdSY6pNn6ijk8s2M65GMvo6Kh1slB4a0+r1RIGTyXw6jm+c/CoeTmGMOJ9/JHL5fAW+NE+Xhs8Paj9oeX5Vz1H2APe419ZWdH/ELKCB/OpWgMDg6cROEp95Mlzg6cHtT+0fnz7n398+5/x7w9v/PGHN/5Il6KLjc3f/Av+/UHuC7pt8zf/El1s1P7Qsu0h9/99eZgeJJhiMwYGBk8dUqlUIpGgrx4ZGHSK2h9amM4xB9f+0MIfP7zxx/84/GfRxUbkr5/54Y0/Xvren79T+FIIsfHRV0KIwMCf/CD3ReSvn/nbbJMu8R5+X/uXT/+xVb/fml7ruIf/OPxnEpMmRW9gYGBgYNAZfnjjj7U/tN6IfgOP2p5/1XPpe39+8l//Hz+88cfN3/zLpe/9eeSvn/nx7X9+5/aXgb/8E9z2t9kmmgT+8k+kS4fv4W+zzf875pJy9WaCNzAwMDAw6Ax857v2h9be//xfgb/8E+lvIcTGR19F/voZ622KS931YAszwRsYGBgYGBxDmEN2BgYGBgYGxxBmgjcwMDAwMDiGMBO8gYGBgYHBMYSZ4A0MDAwMDI4hHvYEL32N/GmDzpefHyg6rUHyINCFEHjtGc1SEAsLC22/w/9kwVZ3KLl9GIc6TFGZ44pUKvXI3eQR4tEOX1HJ5mGiCyGQh0q1shT3P2i/Mx+6MXjCgPqh6nuKxeI777zz3e9+9+Gw9HAQjUalr7KgvkWhUNCvkWpgYPCggfrR6ntQPGZxcfGBcmImeAODJxU6ax0DA4OnFjYp+mKxODU1denSpZ6eHspRIBMISFkFfoknJRRNPv300+eff97aRN2KY2tra3BwsO2dxWKR7pHyLbZsb21tRSKR69evU+e5XI5o8aqgUufSJQ6ka3Db/Py8dDWVStmOQsE53WDlh1JbmrzZUt/f33/ppZeuXbvG23KB8+w6H51CEQohSD20Td3zlLIt9VwuFw6HNzc3/X4/VYZtSwID5MUfn3/+eZ0cXVtRW7ckeAbPiTerFniK3raVmpBg6nfvUbYAACAASURBVFaYhNPQiLSUulRsunHHgXGSgngPkiU7WRpHRyYqnGOUmtb8/LytAx5tjOK3SalpW7Yh8OvXr1MIRe1X+pcT0uRBMNuYmpq6f/++jvTaxihQl/iJRCJWfSl4s6UOw7527Rp6oFqrh4lRCiF0GqOc/I6GUCwW/X7/5uZmOBym3vhttvK0+pp1FpBgvwefyWROnDjRarWuXr3qcrlyuVw6naaCkjMzM5z15eVllBSs1+sozSSEUDQRQvzgBz+Ix+O4lE6n6ZK6FWFra+vFF19cXFykgnpUq5gDZXnQGwpRU7nxVCrFCXEe9vb23nzzzVu3bqHMXywWe+WVV/AvL7nNO5cucTSbzdnZWSEEavmdOHGCqsvDCIrFIhWQDYfDMD4F5wQUNkaVdCCfz6PIsQ5vCupCiM8//3x9fb1er9+9e9fn80Hgc3Nz4Gd3d5e2mmZnZ/v7+0GoUCjYKkItBN5DpVLhRY7VcKIejUappmc0GtUk4fP5FhcX19bWwD9q21++fFldUl1H1C6Xa3h4uFgs0u87Ozvb29tDQ0Nq3iQtOA2cWikICSFSqRSpe3Fx0e/3q/f/nIxwZGSkVCrt7OzgtkqlUqvVQIKD28zKysrMzAxVr1fAydKsd2qaqHCOUWpaFAMx9tnZWXrUOcIYJd0WCoVeffVVYtspRgkh5ufnr1y5gp4TicS5c+foX16KXocH8XXbGB4e5iXJndjQiVEDAwPBYDCfz9Mv5XL51KlTAwMDmryphbC0tLSysgK5HTJGKYRwmBiFbnd3dxH6MIRisRgKhVDstVAoxONx6bZ6vV6tVq3y7OvrC4VCt2/fJivN5/PBYHBgYMCJuv0EHwgExsfH8Tf2+ebm5hBifD7f3Nzc8vLy/v7+/v5+sViMx+Mox4SEYTQaVTRBn8lkEruGUm/qVoRyuRwMBqm4PYJLvV6XbqtWqx6Px+12i4NNEYhya2trbW1tcXHRiRAVmBoZGRFC0ABHRkZqtRoI5fP5sbExCrv8EsedO3dKpdLs7CzmienpaapVjEtXrlxB56FQKJlMLi8vN5tNJ845JGVDF2BYhzcFdUkIQojV1dVgMHj+/HnwMzs7WyqV7ty502g0qtXq6dOncVsoFJKmorZCwAxExoaIcO/ePaEBTer6JEKh0NjY2MLCwvvvv59IJEjvCmiawdDQUK1Wq1Qq+JfCXFvebGudKVo5EYLN04is6rbCyQillaVTiOE2g8WTWpLWVtzSbG/WMVGnGNWWViQSmZ6etvZ2tDEKv0DIQoh4PI5nqrYxiqxuaGgoEAgQS5yQJg+SbZw/f55qnCvY0IlR0ooT5fuGh4ddLpcOb/pCUGhTM0oohHCYGNVsNnd3d/v7+xH6fD7f3bt3rSdmYKUTExO4DbF9d3fX6p58eY1WkKcTA/YTPGlO2K3Qh4aGsMrAJbqToGhCXDr1pmhFiEajlFro6elBrsM6CgQ7t9stPalITiUsYdHr9eIPt9s9OjpqHaAQIh6P08qrp6cnHA5b7xFCVKtVHv56e3upc+4hJBYoz4lzCVzZ2Iv1+/2avCmoS0KwmhFMvFqtwhBjsZg6la0Qgs/n29jYwBPY4OBgb28vPdy3hSb1jkiMj4+XSqXR0VFag6qhaQb8UQaTBOTZljcSlOaInAiVy2WPxwPzAEZGRqrVKp69bOFkhHxl6RRiENf47263OxAIOMpRCKG0NNv7dUzUKUa1pYVkmG1vRxijsFqivSRC2xhFM5bb7fZ4PLZ2oslDvV7ntuFyufr7+9uyoRmjONtY6EN6OrzpC+HwMUohhMPEKCxxEomE+r0ArDtDoRBttSQSCds7+fLaKXnGofWaHLYzaXvA7/fv7e3hkjRJ6DTpjhAH7bXEYrFCoYBch/U2n89369atSCQSDod7vr7v6MS2Pmj/aW1trVKpFAoF29ukhR63GyGE1+vt7e3tiHMOUjaWxhSSNHlzom6LWCxGeuEmHo/Hs9lsJpPp7e112p1SCIE2t/x+/9jYWKPRoIWzDnSod0TC5/ONjY3xDJYamqLmjzLcLbsbvqKVEyEhxMbGhtvtJiU6rUW4KJyMcHx8fHt7e2dnxynE4LGJ/4J5qO3QhLOldd1Q4exd0DraGNXX1/fee+9NTk4SJzRfHj5GafJgXT/RxKlgQzNG8RUnT/Zo8taREA4ToxRCOGSMwo4heZ/TOgNPCG632+v1NhqNZDJp21tfX9/ExASW123z80Jzgsd2ZouBshy2CUl1Ewn1ep08RLMVsjHYrlA/ZmFlhCW2x+Oh/VEr2ydPntS3pGazuby8nEwmFeMCuKuIgycb+tf6CEUG7cS5NDo8S21tbZVKJeRF9HlTULcim822vg56ZSsajdJGWiKRsO5OKYSART2Ubk3x6aAt9Y5IFIvFRCKxubm5sLDQ9nidvqgFe/jgbtnd8NWtbAkJISKRCPYXCTdv3lTvQTgZ4cDAwKlTp8rlslOI4UkaoF6v12o1ndEpLK27hk4xSp8WX68ceYxCfrvVamHmoB3iQ8YofR6sT/98Ra5gQydG0Yrz17/+NX/I1uStIyEcJkYphHD4GBUKhUC9UChkMhnr5jo2CAqFQuvg3Juit6Ghoe3t7Tt37rTNzwudCR7S5FKm09rWS22b4F++XKJccdtWgDX7Vy6XbVNPHH19fTiEUq/XrYTK5TJWT21kcQA4PN9o4AdJOLxeL89780jh9Xol883n89anas65tX/k1X/yk59QfkmTN03q4iBYc593+jRKNBpNJpPW3SmFEKTs/c7OTqlUsnKrAyfq+iT29/dTqVQymaxUKqVSaX19XU1R3wzEwaPM8vIyd8vuhq9uZUvIqu6OPnkkGSGi9o0bN371q1/ZhhgkafhpoHq9zp2ULy7JGPQtTYKioVOMakuL74BideL1eh9ojHK5XJcvX/Z4PEcSo/R5cLvdPO/N19+abKhjFFacKysrPHGlw5u+EA4foxRCOMIYFQqFstmsdXNd2iDAjoNTJ1heX79+vdVqqfPzQmeCx9EGWlciCOJ4C/KZeElDsLd0FE3QZywWoxcb0uk09aZuBSB20FEL9CDsciy5XI773urqKg4cgW1+1pR4aCsNAPZEZ5Tosc9q32fOnAkGg/Q4uLS0RGeJcYkfy08kEjhn4cS5lRNk6dPpNOXnNXlTUJdI4MQKPzi6tLTk9XrPnDkjvbaBdSif8NoKwev1ZjIZnGxqNpsLCwubm5u2p0us0KSuTwLnGKanp2GK6XRa/S6ZvhmIg0kxk8nwnHZ3w1e3siWE84OkbrJ5xfJfbYRDQ0OffPLJJ5984hRipqenq9UqFknwZc7/xsYGgin5r1BamkIa6oZOMaotLXrSgoRxIuzIY5T0mhOdpDl8jNLnQRLR+vo6JbcVbOjHKKw4E4kETZOavOkL4fAxSiGEw8Qo6c1VfiyG34blBX3TAhHS6YgMHDydTjsJ/GtoWVAoFKzZvGw2S02kTAi/hHSlokm9Xo9EIj/96U/pHDXyEjqECHwXBG8aRCIRTtq2N2lQ/BLxQK8u0L+jo6OUkaOXr2gg1DMu2TLMuZ2bm5ucnOSs0l6LlPpTcC4BPXAxKnjLZrOTk5PIjDlRR3NJL3yTjPfAaWmqTBKCpPFkMmkdL5qjc86eE3UiByo6JLB9LvWA2yQz4NA3A5Ihl56CN6sWuO7UI7Il1GLq5gZjq24rb5LEIB8rCSfhZDIZ7lnUM0hz8TpZmrVnTRNtOccopybJA1ibWIVvO3b9GMXPbSiCgKQvKaLaRjB9HlrMNiYnJ+GhJA1bNlqdxCjcyWWl4E2agGyp84BAOGSMUghBJ4C0mIdy9qQ9e2vwRxNuBslkMpvNWjeDpJHSQBQBqqfVagkDAwMlrl+/jueqR83I44L9/f1oNDoxMaG5QU7vPZuv6hoYHBL4CMHKygpFJKcAZarJGRi0QbPZ/Oijjw55pPmYAQn2559//lEzYmDw1EH6/IYiQJkJ3sCgDXZ2dp599ln97c/jDbzgNDMzQ19JMjAweDjAZwN2d3cvXrxIPyoClEnRGxgYGBgYHEOYJ3gDAwMDA4NjCDPBGxgYGBgYHEOYCd7AwMDAwOAYwkzwBgYGBgYGxxBmgjcwMDAwMDiGePQTvO3HnPF9QXWJvbbo6GvbjxbSFyuPMVKp1JOilAeKLjTOP6+tY9v4kOoTIWrpi56PA0xcOpZBSfrC7rHHM4+aAREKhegbvISbN296vd6FhQV1qRwDg6cT0Wi07SfklpaWeOlCg45g4pLBMcCjn+BtoRO/DAwMDB4mTFwyeLJgn6LHx6p6DuBUus6aw+F5rWKxSD3w23K53KVLl6ampnp6elKplJQKs21lzeumUilK6HFuNbN8SAlKA0Q/vPLP888/T3SJyuDgIHhGK4l/3EYScxICvzQ4OPjxxx/rsC01BA+RSATdSqk/STuaUtrf33/ppZeuXbvGGVa05Zc4dTW5+fl5axN9JoVFg4qbbXWtZj51AJIz0t1WWvpsCKXGFXZiC65r3hY/gqtEIpHJZJ577jmrEp2cOpVKSa7K7+QSIAZAixfY5t6qkA+/ND8/rx6vbSsngT+0uKQm1GlcUgQlriyeZHYKSupQcPigxFnN5XIUjaUirdadFzIhhZFLiqBurX4qXeL6UjQRQvz4xz+2NmnbioMGorhTEXmc2IbiEH5JSnBDiZBm5LGZ4KksBFXIoYJ9ElCrtFwu0y/5fB51S/E1fKpvw0tVCiHS6fTw8HCr1YrH47xDp1aoek4FxVEuFyX/wO3c3Bzq9uzu7rbd32o2m7Ozs/39/aBSKBQwQJ/Pt7i4uLa2hsEuLS0JIS5fvuxyuTiVlZWVmZkZKniqgEIIxWIxHA6jONLKygpo6YA3jMfj4XB4b2+vbauOpPT555+vr6/X6/W7d+/6fD5F22Kx6Pf7yVT6+/tnZ2ebzaaaXCaTOXHiBC4JIdCkIyYlDVYqFV4pUnEn6ZqYJ3KcEyFEIpE4ffo0Oq/Vam63m/4lWvpsCKXG1c6iBm+LUfzoRz9yuVxXr15NJpOTk5MffvghKbGtU1+8eDEYDK6uroqD6pzZbBblYTDnoYKWECIWi7XlTSEfXBJCoFrXiRMnqDpndx1yPLS4pCDUaVxyMlTUWs3n83Tb7du3rSQeZlDiums0Grdv304kEm3piq+b0OLiot/vd3p05IpAWaNQKERB5oUXXqD1zblz5yYmJnAJpY/29/cVTYQQGxsbW1tbMLxQKIQm4qB+klMraSC7u7vooV6vV6tVVBa2Ssk28oBtIsR5EEJkMpm9vT30jCLx9+7dkwjpRx6bCb5cLqP4Mf5FvWfbEtd9fX2hUOj27dswXD7vSl/DHxkZqdVq1EkkErEtU+HUSnIkFLrw+/1CiNXV1WAweP78eXFQFbhUKqF2rxMajUa1Wj19+jT+DYVCmMnEQdnshYWF999/P5FIxONxfOCXU8E6QNF/2+E0m83l5eVkMonQiSLTOh1KDUOhEK9jqECnUuJFlxVt8/k8MSOEiMfjV69edblcanKRSGR6etp6SZ/JnZ2d7e3t8fFx/IsgeO/ePeudTromSSLjasskTBSdT05OgjFOS58NtcbVzqJGtVr1eDyoM4F5XZqcAE2nprra77//PoqgY9Sook3ucPHiRV4B0wkK+dy5c6dUKs3OzmIze3p6mhf07KJDjocWlxSEOvU4J0NF8e9isYgJYGdnp1QqWUk8zKDEdedyuS5fvqyjO8mEQqFQMplcXl62XfRwReAkBCIG/YEfYdWQgBAiGo3evHmzr69P0UQIEQgEuOHRJXUrArQ8MTGBHmAD1vLwilkGiqOPyVvZg4WjZ4qWnJB+5LGZ4KPRKMI0MgN+v39zc9N6G8CfrcEi5t14PI5Ag1RGOBzmrbxeb29vr7U3p1bckWCIWMNC1sPDw3TmBUOtVqtODFNvsVjMdk09Pj5eKpVGR0fJ1pvN5u7uLqfidrup8LACTsOB7uGlJJC2vXXdsAspUbeKtrhEFqxPDrqz7U2TSZ/Pt7GxgQfTwcHB3t5ep+c/J11L7kfk6FGJTNTlcvX39/f391vPVemzoVac2lnUGBoaQoLB6WEI0Hdqn883NjY2OjrKJ2B6mMA9kElb3hTyqVarwWBwYGAA//b29upYsr7AH05cciLUhccpghJUjKeacrkMRTzCoNSd7ohz+mVkZKRarSLtJIEUwTMWuARB3bt3D5esjqlogn8581JvilYELCBCoRCl2W0TGE4KheI429IykdbrQojTp0/b2qS+I9in6LGvE4vFCoUCasvbNhYsGyYJiPZy1tbWKpUKr2avgKIVORJfwwKxWIy2IhRD5YjH49lsNpPJ9Pb2ShsYCHC0jBIHps+bu91uj8fT9XDq9XqtVpM6PHnyZNsOu24oupKSTlsn3+6OnGYr2n/y+/1jY2ONRkPxQKnQtea6ygn6bKgV152zAD6f79atW5FIJBwOK7Y2O3Lq8fHxQCDAn/OsM5N1YWeFQj5S3NRcMegL/KHFJSdConMXcDJURKR8Ps9JPMKg1J3uhBAbGxtut5tkor+QTSQSPQx8QnWyQ0WT7ghxYG3kdru9Xm+j0Ugmk7a3KSKPjvsooO8INhM8Egi0RaGmRKuPra0tmncp29NqtSgvocO0ohU5knUlmM1mW1+HzknXaDRK+5GJRII2MIrFYiKR2NzcXFhYwJLKukS1OkNHw7G6Yr1e19lK77qh6FZKbds6PZRokpPilGYrJAmxj2ibkZbgpOvu5q0u2FAorjtn4cAjBW3a2e7f6zt1s9lcWFjY3NxMJBKUFbCuhGzzgRIU8pHkjMeaw3Qo4aHFJVtCQBce52SoIyMjxWIRwweJRxiUutOdECISiWADnoCMetuGYJiDtO9kh4omCuZ1WmGvAScVkBVTcO6kUCvbtjlCJ+g7gjzBWzM/5XJZkaIXB8/WP/nJT2jetWZ7KPOpgLoVHOnGjRs3btygZTKsnAtLOsapg2g0mkwm0QkOSyeTyUqlUiqV1tfXxcESlVIoQoh6vc5lwrfx6JJiOGCbj069p0Bo25CnvOjSYaSkaGu9pEmO71chKiENpc+klCREUqftWATTtZUcOunomV6fDYXiunMWW/T19V25cgUzPf+9I6deX19H7Egmk6lUCmsFt9tNWWJhF9NJkvySQj5er5cfm7U+j9qiI70/nLhkS+jwcYkHJXGwv5DP54lE26BkGwqOJCi11Z1EjlpJJ0t0PviDYfKIQW9tWC+1bWKVDG3VtW1FkLarsB2jGAJACrUSctrrVEDfEeQJHuSXl5fpmGI6nRbKGQjP1ul0Wpp36QAFPROrzw21bTUyMvLuu+++++67ZKB0JojUsLS05PV66TCRLeBs1AQrMvRJ5yxwxiSdTiPhOT09Xa1WMd9jEUC9Yb8EBwD5JcVwXC7XxMQEPSGRkNuCxmvb0Ov1bmxsIArzS91JqW1baRTi4AWeRqOhJpfJZOgsKE5yoTd9Jr1ebyaTwZEleuK0urpw1jUxT4e6iZO2MumCDYXGu3MWgvRlrtXV1VOnTpHnE3VNp97f319eXp6bm/P5fDjag6PUcAea79fX1ynhjM7pFBi/pJDPmTNngsEgJcmWlpZ0ToDrC1w8xLhkJdSFxymCkjh4vEkkEnwLQBGUnELBkQQlOols1R36p2UHv4RWlF5C/3RUTQEMk46pr6+vV6tVHMHDeSlIQLC3ARVNhBAbGxuvvvoqcSiEwCV1KwIWu3QmDmO0HiZQKBRsEyHOgyY6cISWBTyhHwgECoVCJBKx5i44sAmBrAVQr9fpaGUkEikUCoFAADmrbDY7OTmJbGGr1UL/SN0oWtFVa56HbyjyniVCHJyQOEimYTuKyEEOtrxlMhlIhoYgiQuX1MPhrdAhUi6VSmV0dJTeY7GCxis1xJA5Od6Pk5RsJcNVqW7LL3HVODVJHgCXJLvSZJKPFCpLJpNWw+AjknRtJcc5wQtmEs/4G1ZB/+qz0XLWuNpOpIFANdy2OQ+2KigUCjpOLRl8y+IRRGhycnJubo4Y4J0nk0kn3iT58FbojfjhAu9a762HFZdsCbU6j0sKQyVdSCQUQckpFHQXlJxka9Ud7x8KkjyLBiiNhWCVj8QzVze/xLl1aoLOaQ2qT8iqC27wtoJSKJRfkmzDyi0PRDqexWEzwT8laPz85/T3l9vb/NI/vvWW0yX8C9e99V//a9c9WHng+OlPf6qY4Dngn5o3GxgcFaQ10NGiXq9fu3btQfT8mEMRlN5ZWKAIzi99ub2tGZSkVtYerDxo8fz1Ja/BY4VHX2zmkeD+22//w9mzn7/+uhDiq2p159SpnVOncOl3Z89+/vrruNT84IOdU6d+f+ECXfrd2bNfVatCiP/12Wf7/+k/HaYHKw+4p9lsfvTRR/SmhIHB04ZKpWL7utrxhiIo3fvOd/57IvHi0FBfXx9CCt326YULmkHpd2fPNj/4QBwEJdsenIKSwROKx/Rb9A8U999++/PXX/+Lt96CHX/+2mvffO01IcTOqVPPeL1fVavfnJ///PXXv6pW77/9Nm77/YULX1arQogTL7/8u7Nn//F73/tqb+9f/+f/fP/tt7vr4cTLL9Ml9PAXb70F9nZ2dp599lmdw6UGBscSv/zlL7/73e8+ai4eKigo4WGAh5T/p6cnvb396gsvnMvlPv/TP0WsoOcHYQlKn7/2mrAEJSHEN+fnf3/hwomXX3bqgYIS8UBByeBJxaNOITwCfPbaa0hDfbm9/RuvF+n0L7e3P3vttd94vbjnH9966++F4Lft/s3fUPPfeL0PogcDA4OnE5++/DIFhL8XgocUihv6IeUIezB4otHTarUe9RrjccFX1eozDm9JSZec7jx8DwYGBgYEE5QMDgMzwRsYGBgYGBxDPKWH7AwMDAwMDI43zARvYGBgYGBwDGEmeAMDAwMDg2OI9hM86lB19HV38fUP+Wp+h3lhYcG2EFZHoK8VHrKfhwNIiX9j8omA7Vea8eMhhV8sFvmHVw2cIH0I82lDd45DHz/XjEi5XK7TuCfhyQpHXQDVh3t6en72s591WgTE2pXtp+l1PlnfNbqoXdJR56lUqlPOu5twnfAw3oNHtSv1PcVi8Z133nnaXn59QuFyua5evSr9eOfOnWq1euvWLfMGv8FjDp2IhI+lLy4uPhyWnkRARIVCAfUJH1D0jkaj+nUvO4WOJXSNpaUlzTp7Dw5P44duDB4EQqHQg3MVAwMDA4NOYZ+iR5YAuZdf/OIXTpd6enp0Mgk8DUKV6nnzXC4XDoc3Nzf9fj9V9+K3qXNxxWIRtw0ODn788cdO3Co6kUpySQnAVCpFPVC+yJqmTqVSPJVErXp6evjvfGjz8/M6orN2YgsnilaBcK1tbW1FIhFkEZ2UWywWp6amLl26hJ4/++wzPnbbVmpCHY3LOjq+9UPNIVjoUdKFIqFNxgMTJQ6lxKCUa9WxK0lo6IpSmlbf4Zc4q4omn376KYlRGp2iFYemO5OUrPqyZRsCv379OrGHSnT0LyfEO1cktBWO01G4EBoRqVgs+v3+zc3NcDhsjQNqoz1kOEqlUlwIEG+xWNQ3aR0qtgqS2FBbBRfR1NTU7u4uiRS+c+3aNVudaqqbQJ6IAHL9+nUaXS6Xo8HyrlIHsCorl8tdunQJGiebBNtSK4okVvm0tTfckEgkMpnMc889Zw160kZkdxOuNSRaYTPBb21tvfjii3Nzc61Wq16vr6+vU5lhXFpcXMRXcrLZ7MzMjP4OU7PZnJ2d7e/vR/NCoYDm0WiUiqZEo1HptkqlwgsvSigWi+FwGIWJVlZWUHrPOpBGo7G7u+vklkNDQ7zcNcrrorRfKpUqFouo8SCEiMViOiNNpVK7u7soxVGv16kKIYYmhMClEydOUF0jK/b396PRaCgUghz6+/tfeOEFp/1pJ4oSBgYGgsEgr/pcLpdRYFSt3Ewmc+LEiVardfXqVV7h0amVglBH47KOrlKppNPpYrGI8uelUgllE1HI/MqVK319fSjRTSWrK5VKrVYbGhqSuuXGE4/Hw+Hw3t6egg0+ZB27koSWy+XS6TTVDJyZmSGrTqVSy8vLVLtseXkZlxRNhBA/+MEP4vE4yYQuqVtJA2nrzsVicWZmBr2hJiaZViqV4oQ4D0KI+fl51KfPZrOJROLcuXP0LxHinbdaLV5RlEPhOB2FC9turREpFAqhdkuhUIjH40Lbvw4fji5evBgMBldXV8VBDjybzYZCIU2T1jdOrqBCoUCFYjE5UdArFArhcNg6x3MRXb169Rvf+Aa/mslk9vb2wAOvC6ypbifs7e29+eabt27darVayWQyFou98sor+FfqKpFICCHIYmdnZ0kI6XR6eHgYLi/1n0gkTp8+DSuq1Wput5v+JaPSsTdsYqIg04cffujz+ba2ts6dO0dBLxQKRaNRqpzbxYRrGxKtErOZ4FdXV4PB4Pnz54UQfX19XArlcpnXzIZ5aRauFkI0Go1qtUqV7UOh0N27d30+n3Tbzs7O9vb2+Pg4/sVUce/ePWuHzWZzeXk5mUxiEwhVq20HggrNNBlIkGajcrns8Xj8fj+K+MbjcewrX7x4kQpcKrC/v18sFqnUMWo5o1jvnTt3SqXS7OwsLk1PT/N6ghKoOD3+xR+2aXAFRelOl8s1PDxM1bubzebt27eHh4ddLpdauYFAgDTC4dRKQUh/XECz2dzd3e3v78fofD7f3bt3ucaxCEun0yhkLg5KdJfLZfSQz+eDwaBUJV0ynlAoxCswKqBvV1xovNQ6cY4a7VAfmRn2BeH/Tk3Qp2T51Ju6FUHTnavVqsfjQfUjRC7EBHjH4uKiE6GxsTFcGhoaCgQCxBInlM/n6TYhxMjISK1Ws/KgcBz9cGGFZkTS9K8jCUdUS/79999fWFigJjomrU8FII2cOXNmcnISARCixkIZMkkmk1RCRZG+MAAADv5JREFUXhORSAR+jTLztDTRVLcCExMTYAwPYOQ1UlecAUkIkUjEqfg6XYIVTU5OQpLcqLqzN+jl4sWL+JcHvS4mXEVIlCBP8GiJQIxf3G43VTWORqP0LNLT04MUjXpgHHCMWCymzsr6fL6NjQ2segYHB3t7e50ec+Gf0DTgPfjUInySDwSaqFar1n74bISpKBQK9fX11et1zPR0W39/v84wb968GQqFKCeD5aQQolqtcrfs7e31OnwbkrNB3YZCIVtLUlC0gqcr4MywG7VyKcRLULSyJdTRuABoJ5FI2B6wh0OGw2FyEurz9u3bODItWQKgMB4FOrIrLjTrI9fQ0BDW7PS4IDVXNMG/nHmpN0UrgqY7Q49ut1t6RECHnG0pE0YTp9vt9ng8tuKNx+P0iNzT0xMOh633CKXj6IcLKzQjkqZ/HVU48vl8Y2Njo6OjfE2jY9IdUREOBs/Xc4CUPNCB1+u1rQeoqW51z/jD7XaPjo46Vd3kEUYSghNv/BJCPc2gHF3YmzQfC6bNzz77rIsJVx0SOeQJHjbKf4Fz4m/aD4jFYoVCASka9dgkxOPxbDabyWR6e3udtohoh8Pv94+NjaHesG1v9Xq9VqtJ3J48eZL+jcVitEuh1gTmiUqlwvPzVsegmKUGzNftdnu93kajkUwm8bs0jbVdMSQSiR4GxbTtRNEKnq7gzwHdKVfRyolQR+MCsImzsbHhdrulTbW+vr6JiQkhBD1gAePj49vb2zs7O07JzLbGo4C+XXHglAk19Pv9tCPgtH5SNOmOEIemxn0+361btyKRSDgcljY7ndjWB+3Irq2tVSqVQqFge5vCcfTDhS10IpLQ868jDEfj4+OBQIA/7AoNk+6UihMUU+Ahoanuxxld25vt3NFsNrubcBUhkUOe4K3PlNxqkUxA3t82IaCDaDRKOwqJRMK6W4anPezTWLdJOLgsiFsey7LZrFRdx+mNCyyp8vk85eeF3QpXJ/WH1CX24aQda0nHWNkpukomkxL/tgJRULSC0hW//vWv+Xq/O+UqWjkR0h8XB21fFQqFTCZDO6DYpxRC4MgM3T8wMHDq1KlyueyUzGxrPAro2xUHTpnwVpQQdkpUKppI4MxrttLXOB5hkQbweDy02Wll++TJk/pTPuW0FeMCFI6jHy6c0DYiafrXUYWjZrO5sLCwublJ++JAW5PuiIoC1WoVW9eEw6/kRCfqPlpYn1oPg67tzTp39Pf3f+tb3+p6wnUKiRzyBI+lMRJBRA9pAWv2vlwud5SilxCNRpPJpHXYUjoOj9S2PWA5wk9ykSJxiXfe9psGIyMjxWKRJ5DdbjdPOVrnY+qfX5IS+8ib4W+v18uTXQrLgyL4Pp/t52XaUrQFUqkrKyv0HNCdctu2shLqaFy2wGY5ekAoDAaDv/3tb4UQ/EwTlhc3btz41a9+ZU1mCqXx0L8U5g5jVwDiI58O6as+1kttm1gZpsxq21ZAdxrHwUbM9FZC5XIZj7nqTgjWnDZXB4fCcfTDRVs4RSRN/zqqcITjopVKJZlM8mWrpkl3YZwcXq9XWrfl8/kjeabXV/fhQad/hBA4LeiU8OgUXdibNejBhE6fPn0kEy4PidIlm0N24+PjpVJpfX1dHHyLh3NJh2joyUl/cSS92oF1Mdc34PV6M5kMzkTQYtbpyNjExAStc4klwc6qELmlpSWv10sHFqyAA2cyGWKJznBhyOvr65TvgjTIjPglLAvo1NjS0tLGxgZmizNnzvAzpbjkxM/09DQ/rLu+vl6tVm2Phygo2vaM5HkikSBL7U65bVtZCXU0LkB6axGHyGD3dPbq29/+djwel554hoaGPvnkk08++cTWt8lCrMYjhPB6vRsbG1jbHdKuANgSHYKFZ+HEEPZcycxovIom6DMWi3HmqTd1K03dEaSXSFdXV/E2BNgmQpwHtSgImJDoAFexWEwkEpubm9a1jsJx9MOFFZoRSdO/jiQc8TOSOIrFl62aJt2pcXJA1JSkgVKk/a/uoK/uw2NjYwNyg0mEw+GjShh0Z2+YVSnogTcEvS4mXEVIlOjaTPA+n29lZSWdTmMxfv78ecr7X7x40ev1IumP4/uRSETzwKoQoq+vL5fLLS8v09bg3NwcMg+wKr/fn0qlsB7Bhl9vb+/w8HAymXSarkKhEF7kAEt0NlsaSE9Pz+7u7sLCgsJMkaWPRCK0VBdCRKPRiYkJDPn27dv8WCyXxr179+gMts/nW1xcpJ0wIUQ2m8Wi2OVyLSwsCCGw4Xf//n3F/g3ERbtWeHXKNnoqKNr2jEcBIQS3ie6Uq25lS0h/XNTJwsLC7u4u7ne73XjJZGtra2ZmhvYpcdyXv+iF5YUimQkLmZmZsRoPN8JXXnllcXGRNlM7tStCNBqdm5vD7rjb7Z6YmKDcaTweJzPr7e3t7+9H9k/RRAjx05/+FHvDfr9/cXGRLqlbETQ1zl2gp6enWCxevnwZ443H40RI4kEHLpfr8uXL1WqV9r/xuqx1kaFwnI7ChQRFRMLyBS95DwwMaPrXIcNRs9l89dVXxUHox5lqvmugadJdGCcBL0qEQiFoHG+1db0hK/Wsqe7DY3Jy8v79+5I3HQn07Q0zd29vb7FYxEEWCnq7u7vvvfcegl4XE65TSLRya+rB/2/QC44Ka8Dbh536jMEjAV64d5rerMBLuisrKw9td9DAoCN0atJPJ0yUJphqcv8b0guOBk86kGBXJP8NDJ4sGJM26AjmW/RCHKyLNzY2CoWCeXo7BsAXoIQQKysrpviNwTGAMWmDLmBS9AYGBgYGBscQJkVvYGBgYGBwDGEmeAMDAwMDg2MIM8EbGBgYGBgcQ5gJ3sDAwMDA4BjCTPAGBgYGBgbHEGaCNzAwMDAwOIZ4TCd42/IY+M6fUz1HHXRa18SWMV4u85ihO/mgpmFHBS0MDAwMDB40HtMP3YRCISrtAKDUYDabPcw3GvGZ5UNzd2xh5GNgYGBwbPCYTvBWmLnHwMDAwMBAH/YpeiRdew7As6+oXgXY5nJTqdTU1BSvnZdKpSivTuV0enp6eK47l8tdunRpamoKSXgpRc+JUudqQnwI9KOUgubMSF1x0G2Dg4Mff/yxk6AUewcKQnxoJOetra1IJHL9+nXqPJfLES1pj8BWOFagMiZuI9kWi8WpqalLly6h7WeffcblozADfukXv/iFk0w6NR4DAwMDg6OCzQSPjx4vLi62Wq1Wq5XNZqkEJ6r0NBqNVqtVqVTS6bR153VkZKRUKu3s7OBfVLZHiWVU66pUKuh5bGyMqg4LIdLp9PDwcKvVkoq5caL1ep1KiSsIYQhzc3OtVqvRaOzu7lpnPs4MKv1RsV7ptnA4XCgUWq3WysoKr82sQ0VBCKuNYrFYr9dbrRaqTJI89/b23nzzzVu3brVarWQyGYvFXnnlFfzL5eYkHKtOz507NzExAcmjGhV6yGQyJ06caLVaV69e5cWXFGbAB16v19fX1zc3N4/EeAwMDAwMjgo2E3y5XA4Gg2fOnMG/Q0NDQoh6vd5sNnd3d/v7+zEN+Hy+u3fvWusE+/1+j8dTLpfxL8ofocJ6Pp+n6t1CiJGREV5TORKJWKskYdqemJgAUZRs393dbTabCkKrq6vBYPD8+fNCCJfLNTs7WyqV7ty5w3uuVqsej8ftdouD/L+1Siw2/pPJJJWI5vXgdagoCN25c6dUKl25cgWlI1DOfHl5mZYIExMTuIRVSzwep38hN4VwbHUKVoUQ0Wj05s2b6C0QCNgW0HMyA2ngKFndtpWm8RgYGBgYHBVsJvhoNIqHuVwu19PT4/f78XzmcrmGh4cTiYT1fDsHppnbt283m01MkKFQCHNJPB7HZIBUbTgc5g29Xm9vb6+1t5s3b4ZCIcowJxIJNSFMe8PDw/Q8OjAwEAwGq9Uq73loaKhWq7ndbsVzZKPRqFarmF+JSfyhSUVBiE/8gJSTIFput3t0dJTf2VY4HM1m8/bt2zS5SpB4IDiZAaZqPnC32x0IBNStNI3HwMDAwOCoYJ+ixx5qLBYrFAqVSoWH70KhsLGx4Xa7FTu+NFHt7OyUSiWaIGkrem1trVKpFAoFHRaxGnC73V6vt9FoJJPJtoSEELFYjLZ7e3t7M5mM1K3P57t161YkEgmHw9aNbaBer9dqNf6L2+0+efKkPhU1Ids1TUdQCEfC6dOnO+rZyQyw6OF3ut1uj8ejbiW0jcfAwMDA4EhgM8EjAYu9UmsSNRQKYXu1UChkMhnbHV9KnpfLZY/Hg7Q5pbtbrdbdu3c1y65vbW2tra1hC1zaJHYiBGSz2dbXYX2/Dk/A2Ej2eDz8QADApy6gXq/v7e11REVBqFqtYlee4PQ83YVwJNy7d0+zW8DJDHp7eym1APBl0OGNx8DAwMDgSCBP8NYEbLlcpiNUHKFQKJvN2u74Inl+48aNGzduUH7emu7O5/Nt+cOMSDM3EuNqQpiB+HyGDLYiFd/X13flyhVMwPx3dMX5pIfXLqhIhLxeLz+CIITI5/MdPdOrhUNwuVz9/f22mnKCwgzQG3ZGiA2n7H0XxmNgYGBgcCSQJ3iE7+XlZTxibm1tpdNpIUS1WsWpb3oZbH9/f3l5mUdzjpGRkXfffffdd9+lGR0zIh0iKxaLiURic3NTmlMluN3uWq1GH71ZWlra2NjgD75WQjjvtra2Ri9iLS0teb1eOvkF5HI5vh+8urp66tSpgYEBSRoTExOJRAITJ0lDn4qC0JkzZ4LBID3NQyB0Yk4HbYVDGB8fL5VK6+vr+Lft9/gUZiD1tr+/TyZxVMZjYGBgYHAEaFnQaDQmJydxNRAIFAqFSCSC1Dq/JITAj7ao1+uRSCQSieAdMP4j2kYikUKhEAgEkOXOZrOTk5NI7SKFS235Vn0ymcxms4FAgN61syWEF7Fo95d6Bv+UV89ms9SztQcCMRAIBDKZDKduS8UKBSHaNbd2i9w7/h0dHaWrkBv+VQvHqhGJFpezJB+FGUgDh0zAbRfGA8ZosAYGBgYGR4KeVqvV6ZrAwMDAwMDA4DHHY1psxsDAwMDAwOAwMBO8gYGBgYHBMYSZ4A0MDAwMDI4hzARvYGBgYGBwDGEmeAMDAwMDg2MIM8EbGBgYGBgcQ/z/5+hZVPsfD58AAAAASUVORK5CYII=)"
      ],
      "metadata": {
        "id": "3D7qZnfruGht"
      }
    },
    {
      "cell_type": "code",
      "source": [
        "n1 = input('Informe uma sequência de n números inteiros separados por espaços: ')\n",
        "n2 = input('''Informe outra sequência de números inteiros separados por espaços\n",
        "com a mesma quantidade informada na lista anterior''')\n",
        "x = n1.split()\n",
        "y = n2.split()\n",
        "for i in range(len(x)):\n",
        "  x[i] = float(x[i])\n",
        "  y[i] = float(y[i])\n",
        "xquad = []\n",
        "yquad = []\n",
        "xy = []\n",
        "for i in range(len(x)):\n",
        "  xquad.append(x[i]**2)\n",
        "  yquad.append(y[i]**2)\n",
        "  xy.append(x[i]*y[i])\n",
        "sx = sum(x)\n",
        "sy = sum(y)\n",
        "sxquad = sum(xquad)\n",
        "syquad = sum(yquad)\n",
        "sxy = sum(xy)\n",
        "print(f'A soma dos valores de x é {sx}')\n",
        "print(f'A soma dos valores de y é {sy}')\n",
        "print(f'A soma dos valores de xquad é {sxquad}')\n",
        "print(f'A soma dos valores de yquad é {syquad}')\n",
        "print(f'A soma dos valores de xy é {sxy}')"
      ],
      "metadata": {
        "id": "sXn3DytmuJfH"
      },
      "execution_count": null,
      "outputs": []
    },
    {
      "cell_type": "markdown",
      "source": [
        "*Loop* While"
      ],
      "metadata": {
        "id": "F6oCS7VOuVui"
      }
    },
    {
      "cell_type": "code",
      "source": [
        "c = 0\n",
        "n = int(input('Informe quantas vezes deseja ver a mensagem \"Hello World\": '))\n",
        "while c < n:\n",
        "  print('Hello World')\n",
        "  c += 1\n",
        "'''\n",
        "Assim podemos concluir que o while é uma sentença que declara uma condição que\n",
        "enquanto for verdadeira executa repetidamente um bloco de códigos na linha\n",
        "por linha na ordem especificada de cada linha\n",
        "'''"
      ],
      "metadata": {
        "id": "m0v3SaTIuWs9"
      },
      "execution_count": null,
      "outputs": []
    },
    {
      "cell_type": "code",
      "source": [
        "'''\n",
        "Faça um script que receba do usuário cinco números inteiros, armazene os\n",
        "números recebidos em uma lista e no final exiba a soma desses valores\n",
        "'''\n",
        "n1 = int(input('Informe o 1º número inteiro: '))\n",
        "n2 = int(input('Informe o 2º número inteiro: '))\n",
        "n3 = int(input('Informe o 3º número inteiro: '))\n",
        "n4 = int(input('Informe o 4º número inteiro: '))\n",
        "n5 = int(input('Informe o 5º número inteiro: '))\n",
        "numeros = [n1, n2, n3, n4, n5]\n",
        "print(f'A soma dos números digitados é: {sum(numeros)} ')"
      ],
      "metadata": {
        "id": "Az6_KcJrubWI"
      },
      "execution_count": null,
      "outputs": []
    },
    {
      "cell_type": "code",
      "source": [
        "'''\n",
        "Faça um script que receba do usuário cinco números inteiros, armazene os\n",
        "números recebidos a cada momento em que forem recebidos em uma lista e\n",
        "no final exiba a soma desses valores\n",
        "'''\n",
        "numeros = []\n",
        "n1 = int(input('Informe o 1º número inteiro: '))\n",
        "numeros.append(n1)\n",
        "n2 = int(input('Informe o 2º número inteiro: '))\n",
        "numeros.append(n2)\n",
        "n3 = int(input('Informe o 3º número inteiro: '))\n",
        "numeros.append(n3)\n",
        "n4 = int(input('Informe o 4º número inteiro: '))\n",
        "numeros.append(n4)\n",
        "n5 = int(input('Informe o 5º número inteiro: '))\n",
        "numeros.append(n5)\n",
        "\n",
        "print(f'A soma dos números digitados é: {sum(numeros)} ')"
      ],
      "metadata": {
        "id": "SCdlMJ7uueeF"
      },
      "execution_count": null,
      "outputs": []
    },
    {
      "cell_type": "code",
      "source": [
        "'''\n",
        "Faça um script que receba do usuário n números inteiros, armazene os\n",
        "números recebidos a cada momento em que forem recebidos em uma lista e\n",
        "no final exiba a soma desses valores. Considere que o usuário deverá informar\n",
        "apenas 1 numero inteiro por caixa de diálogo é permitido usar (While)\n",
        "'''\n",
        "c = 0 # criei um contador para utilizar como parada do laço while\n",
        "n = int(input('Informe a qtde de números inteiros que deseja na lista: '))\n",
        "numeros = []\n",
        "while c < n:\n",
        "  numeros.append(int(input(f'Informe o {c+1}º número inteiro da lista: ')))\n",
        "  c += 1\n",
        "print(f'A soma dos valores digitados é {sum(numeros)}')"
      ],
      "metadata": {
        "id": "U7qcUac3ui2x"
      },
      "execution_count": null,
      "outputs": []
    },
    {
      "cell_type": "code",
      "source": [
        "'''\n",
        "Faça um script que receba do usuário n números inteiros, armazene os\n",
        "números recebidos a cada momento em que forem recebidos em uma lista e\n",
        "no final exiba a soma desses valores. Considere que o usuário deverá informar\n",
        "apenas 1 numero inteiro por caixa de diálogo é permitido usar (While)\n",
        "'''\n",
        "c = 0 # criei um contador para utilizar como parada do laço while\n",
        "n = int(input('Informe a qtde de números inteiros que deseja na lista: '))\n",
        "numeros = []\n",
        "while c < n:\n",
        "  i = int(input(f'Informe o {c+1}º número inteiro da lista: '))\n",
        "  numeros.append(i)\n",
        "  c += 1\n",
        "print(f'A soma dos valores digitados é {sum(numeros)}')"
      ],
      "metadata": {
        "id": "xQAw390num54"
      },
      "execution_count": null,
      "outputs": []
    },
    {
      "cell_type": "code",
      "source": [
        "'''\n",
        "Faça um programa que receba do usuário números inteiros e os insira na lista\n",
        "somente se o número for ímpar e encerre o programa quando a lista tiver 5\n",
        "números ímpares\n",
        "'''\n",
        "numeros = []\n",
        "while len(numeros) < 5:\n",
        "  n = int(input('Informe um número inteiro: '))\n",
        "  if n % 2 != 0:\n",
        "    numeros.append(n)\n",
        "print(numeros)"
      ],
      "metadata": {
        "id": "iBTD10PBurwj"
      },
      "execution_count": null,
      "outputs": []
    },
    {
      "cell_type": "code",
      "source": [
        "'''\n",
        "Faça um programa que receba do usuário números inteiros e os insira na lista\n",
        "somente se o número for ímpar e encerre o programa quando a lista tiver 5\n",
        "números ímpares\n",
        "'''\n",
        "numeros = []\n",
        "while len(numeros) < 5:\n",
        "  n = int(input('Informe um número inteiro: '))\n",
        "  if n % 2 != 0:\n",
        "    numeros.append(n)\n",
        "    #print(f'O número {n} é impar e foi inserido')\n",
        "  #else:\n",
        "    #print(f'O número {n} não é impar e não foi inserido')\n",
        "print(numeros)"
      ],
      "metadata": {
        "id": "Rqth4jtkuwZV"
      },
      "execution_count": null,
      "outputs": []
    },
    {
      "cell_type": "code",
      "source": [
        "'''\n",
        "Faça um script que receba do usuário n números inteiros, armazene os\n",
        "números recebidos a cada momento em que forem recebidos em uma lista e\n",
        "no final exiba a soma desses valores. Considere que o usuário deverá informar\n",
        "apenas 1 numero inteiro por caixa de diálogo é permitido usar (While)\n",
        "'''\n",
        "c = 0 # criei um contador para utilizar como parada do laço while\n",
        "while True:\n",
        "  try:\n",
        "    n = int(input('Informe a qtde de números inteiros que deseja na lista: '))\n",
        "    break\n",
        "  except:\n",
        "    pass\n",
        "  print(f'''Cuidado! você não digitou um número inteiro, por favor faça isso''')\n",
        "numeros = []\n",
        "while c < n:\n",
        "  try:\n",
        "    i = int(input(f'Informe o {c+1}º número inteiro da lista: '))\n",
        "    numeros.append(i)\n",
        "    c += 1\n",
        "  except:\n",
        "    pass\n",
        "    print(f'''Cuidado! você não digitou um número inteiro, por favor,\n",
        "    digite o {c+1}º número nvamente''')\n",
        "print(f'A soma dos valores digitados é {sum(numeros)}')"
      ],
      "metadata": {
        "id": "h22d3dz1u0Wf"
      },
      "execution_count": null,
      "outputs": []
    },
    {
      "cell_type": "markdown",
      "source": [
        "## Python Básico - Funções"
      ],
      "metadata": {
        "id": "7LGszCOUsSIw"
      }
    },
    {
      "cell_type": "code",
      "source": [
        "'''\n",
        "def nomedafuncao (argumento 1, argumento 2, .... argumento n):\n",
        "  bloco de código ou bloco de instruções\n",
        "  return \"valor\"\n",
        "'''"
      ],
      "metadata": {
        "id": "npghm3KisVGu"
      },
      "execution_count": null,
      "outputs": []
    },
    {
      "cell_type": "code",
      "source": [
        "# Exemplo de função sem argumento e sem bloco de código\n",
        "def teste ():\n",
        "  return print('Bom dia!')"
      ],
      "metadata": {
        "id": "FDBJyN5vsZQA"
      },
      "execution_count": null,
      "outputs": []
    },
    {
      "cell_type": "code",
      "source": [
        "# Chamando a função teste criada no bloco anterior\n",
        "teste()"
      ],
      "metadata": {
        "id": "GhdT3UIBsc7y"
      },
      "execution_count": null,
      "outputs": []
    },
    {
      "cell_type": "code",
      "source": [
        "# Exemplo de função com argumento e com bloco de código\n",
        "# crie uma função que receba dois argumentos (x, y) e faça o cálculo de x ** y\n",
        "def casamento (x, y):\n",
        "  vezes = x ** y\n",
        "  return print(f'O professor douglas casará {vezes} vezes nessa vida')"
      ],
      "metadata": {
        "id": "J_J0D1J5shl1"
      },
      "execution_count": null,
      "outputs": []
    },
    {
      "cell_type": "code",
      "source": [
        "# chamando a função utilizando a ordem padrão dos argumentos\n",
        "casamento(2, 3)"
      ],
      "metadata": {
        "id": "OyzJv7fWslOB"
      },
      "execution_count": null,
      "outputs": []
    },
    {
      "cell_type": "code",
      "source": [
        "# Chamando a função invertendo a ordem padrão dos argumentos sem aviso prévio (vai mudar o resultado anterior)\n",
        "casamento(3, 2)"
      ],
      "metadata": {
        "id": "_5D_Q7mDsp02"
      },
      "execution_count": null,
      "outputs": []
    },
    {
      "cell_type": "code",
      "source": [
        "# Chamando a função invertendo a ordem padrão dos argumentos sem aviso prévio (vai mudar o resultado anterior)\n",
        "casamento(3, 2)"
      ],
      "metadata": {
        "id": "7j9gHR2zstLB"
      },
      "execution_count": null,
      "outputs": []
    },
    {
      "cell_type": "code",
      "source": [
        "# Também é possível ser redundante e respeitar a ordem padrão dos argumentos e explicitar os seus valores\n",
        "casamento(x=2, y=3)"
      ],
      "metadata": {
        "id": "ebDCQLqKs2ks"
      },
      "execution_count": null,
      "outputs": []
    },
    {
      "cell_type": "code",
      "source": [
        "'''\n",
        "Elabore uma função que receba do usuário os valores de preço de venda (p),\n",
        "custo variável (cv), custo fixo (cf) e calcule o valor do ponto de equlíbrio\n",
        "em quantidade e informe o usuário.\n",
        "'''\n",
        "def peq ():\n",
        "  p = float(input('Informe o valor do preço unitário de venda em R$: '))\n",
        "  cv = float(input('Informe o valor do custo variável unitário em R$: '))\n",
        "  cf = float(input('Informe o valor do custo fixo mensal em R$: '))\n",
        "  qt = cf/(p - cv)\n",
        "  return print(f'A partir de aproximadamente {qt:.0f} unidades você terá lucro')"
      ],
      "metadata": {
        "id": "SwVzmoO8s6Kq"
      },
      "execution_count": null,
      "outputs": []
    },
    {
      "cell_type": "code",
      "source": [
        "peq()"
      ],
      "metadata": {
        "id": "g4f8rC5_s-6p"
      },
      "execution_count": null,
      "outputs": []
    },
    {
      "cell_type": "markdown",
      "source": [
        "### Exercícios"
      ],
      "metadata": {
        "id": "f8z9CKfptJVb"
      }
    },
    {
      "cell_type": "code",
      "source": [
        "'''\n",
        "Elabore uma função que receba em seis inputs diferentes as seguintes informações:\n",
        "1 - Receita líquida em R$\n",
        "2 - Custo em R$\n",
        "3 - Estoques em R$\n",
        "4 - Contas a receber em R$\n",
        "5 - Fornecedores em R$\n",
        "6 - O Número de dias do balanço (int)\n",
        "\n",
        "Após receber as informações acima a função deve calcular o valor e printá-lo dos\n",
        "seguintes KPIs:\n",
        "\n",
        "a Prazo médio de estoques - PME\n",
        "b Prazo médio de Recebimento - PMR\n",
        "c Prazo médio de Pagamento PMP\n",
        "d Ciclo operacional - CO\n",
        "e Ciclo de caixa CC\n",
        "\n",
        "E por último:\n",
        "Se PMP for maior que ciclo operacional print a mensagem essa em média empresa\n",
        "paga tantos dias depois de receber\n",
        "\n",
        "Se PMP for menor que ciclo operacional print a mensagem essa em média empresa\n",
        "paga tantos dias antes de receber\n",
        "\n",
        "Se PMP for igual ao ciclo operacional print a mensagem essa em média empresa\n",
        "no mesmo dia em que recebe\n",
        "\n",
        "'''\n",
        "def giro ():\n",
        "  receita = float(input('Informe a receita líquida em R$: '))\n",
        "  custo = float(input('Informe o custo em R$: '))\n",
        "  estoques = float(input('Informe o estoque em R$: '))\n",
        "  ctas = float(input('Informe as contas a receber em R$: '))\n",
        "  forne = float(input('Informe os fornecedores em R$: '))\n",
        "  n = int(input('Informe o período do balanço em dias inteiros: '))\n",
        "  pme = (estoques/custo)*n\n",
        "  pmr = (ctas/receita)*n\n",
        "  pmp = (forne/custo)*n\n",
        "  co = pme + pmr\n",
        "  cc = co - pmp\n",
        "  print(f'O Prazo médio de estoques é  aproximadamente {pme:.0f} dias'),\n",
        "  print(f'O Prazo médio de recebimento é  aproximadamente {pmr:.0f} dias'),\n",
        "  print(f'O Prazo médio de pagamento é  aproximadamente {pmp:.0f} dias'),\n",
        "  print(f'O ciclo operacional é  aproximadamente {co:.0f} dias'),\n",
        "  print(f'O Ciclo de caixa é  aproximadamente {cc:.0f} dias')\n",
        "  if pmp > co:\n",
        "    print(f'Essa empresa em média paga {abs(cc):.0f} dias depois de receber')\n",
        "  elif pmp < co:\n",
        "    print(f'Essa empresa em média paga {abs(cc):.0f} dias antes de receber')\n",
        "  else:\n",
        "    print('Essa em média empresa no mesmo dia em que recebe')"
      ],
      "metadata": {
        "id": "0eB5ZBQQtLPM"
      },
      "execution_count": null,
      "outputs": []
    },
    {
      "cell_type": "code",
      "source": [
        "giro()"
      ],
      "metadata": {
        "id": "Y-SP2Vlyta1X"
      },
      "execution_count": null,
      "outputs": []
    },
    {
      "cell_type": "code",
      "source": [
        "'''\n",
        "Faça uma função sem parâmetro que ao ser acionada solicite ao usuário uma\n",
        "sequência númerica em uma única caixa de texto e separada por espaços e então\n",
        "após o usuário inserir os valores corretos a função devolva um print informando\n",
        "o valor da média, da variância e do desvio padrão da sequência informada\n",
        "'''\n",
        "def describe ():\n",
        "  dados = input('''Informe uma sequência de números (separados por espaços)\n",
        "  que deseja calcular as medidas: ''')\n",
        "  dados = dados.split()\n",
        "  for i in range(len(dados)):\n",
        "    dados[i] = float(dados[i])\n",
        "  media = sum(dados)/len(dados)\n",
        "  quad = []\n",
        "  for i in range(len(dados)):\n",
        "    quad.append((dados[i]-media)**2) # este bloco percorre cada valor da lista dados e calcula a diferença de cada um deles para a média, eleva ao quadrado e appenda na lista quad\n",
        "  var = sum(quad)/(len(dados)-1)\n",
        "  sd = var**(1/2)\n",
        "  print(f'''As medidas descritivas são:\n",
        "  média = {media:.2f},\n",
        "  variância = {var:.2f} e\n",
        "  desvio padrão = {sd:.2f}''')"
      ],
      "metadata": {
        "id": "loNfrKx8tb31"
      },
      "execution_count": null,
      "outputs": []
    },
    {
      "cell_type": "code",
      "source": [
        "describe()"
      ],
      "metadata": {
        "id": "cuGUA25itkGe"
      },
      "execution_count": null,
      "outputs": []
    },
    {
      "cell_type": "code",
      "source": [],
      "metadata": {
        "id": "F5p7Fyj9tovs"
      },
      "execution_count": null,
      "outputs": []
    }
  ]
}